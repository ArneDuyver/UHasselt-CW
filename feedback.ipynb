{
 "cells": [
  {
   "cell_type": "markdown",
   "metadata": {},
   "source": [
    "# Give us feedback\n",
    "There are two ways in which you can provide feedback in order to improve the contents of these tutorials:\n",
    "1. **Via Github Issues**\n",
    "You can submit an issue through the official Github repository [this link](https://github.com/ArneDuyver/UHasselt-CW/issues).\n",
    "Information about how to write a good issue post on Github can be found [here](https://docs.github.com/en/github/managing-your-work-on-github/creating-an-issue).\n",
    "\n",
    "1. **Via a google from**\n",
    "The following link will bring you to a google form which you can fill in fully anonymously: [google form](https://docs.google.com/forms/d/e/1FAIpQLSd7Wwnph0p-U37t5LKdBOnJ2FaFri2nhzTXiz8jMPbUDtY6-w/viewform)"
   ]
  }
 ],
 "metadata": {
  "kernelspec": {
   "display_name": "Python 3",
   "language": "python",
   "name": "python3"
  },
  "language_info": {
   "codemirror_mode": {
    "name": "ipython",
    "version": 3
   },
   "file_extension": ".py",
   "mimetype": "text/x-python",
   "name": "python",
   "nbconvert_exporter": "python",
   "pygments_lexer": "ipython3",
   "version": "3.8.7"
  }
 },
 "nbformat": 4,
 "nbformat_minor": 4
}
