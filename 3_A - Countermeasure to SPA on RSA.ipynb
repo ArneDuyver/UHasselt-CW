{
 "cells": [
  {
   "cell_type": "code",
   "execution_count": null,
   "metadata": {},
   "outputs": [],
   "source": [
    "import numpy as np\n",
    "\n",
    "def SAD(array1, array2):\n",
    "    diff = array1-array2\n",
    "    return np.sum(abs(diff))\n",
    "    \n",
    "def sad_sweep(trace,signature):\n",
    "    sad_result = np.array([])\n",
    "    for i in range(len(trace)-len(signature)+1):\n",
    "        sad_value = SAD(signature, trace[i:i+len(signature)])\n",
    "        sad_result = np.append(sad_result,sad_value)\n",
    "    return sad_result"
   ]
  },
  {
   "cell_type": "code",
   "execution_count": null,
   "metadata": {},
   "outputs": [],
   "source": [
    "%matplotlib notebook\n",
    "\n",
    "def spa_attack(trace,start_index,end_index,threshold,threshold2,final_bit_guess):\n",
    "    signature = trace[start_index:end_index]\n",
    "    sad_sweep_results = sad_sweep(trace,signature)\n",
    "    \n",
    "    positions = np.array([])\n",
    "\n",
    "    for i in range(len(sad_sweep_results)-1):\n",
    "        if(sad_sweep_results[i] < threshold):\n",
    "            positions = np.append(positions,i)\n",
    "\n",
    "    intervals = []\n",
    "    for i in range(0, len(positions)-1):\n",
    "        interval = positions[i+1] - positions[i]\n",
    "        intervals.append(interval)\n",
    "\n",
    "    key = \"\"\n",
    "\n",
    "    for i in range(0, len(intervals)):\n",
    "        if intervals[i] > threshold2:\n",
    "            key += \"1\"\n",
    "        else:\n",
    "            key += \"0\"\n",
    "    key += final_bit_guess # maybe this is not correct but it is only 1 bit. So if '0' doesn't work the right answer is '1'\n",
    "\n",
    "    print(key)\n",
    "    print(\"I think the real key is : \" + hex(int(key,2)))"
   ]
  },
  {
   "cell_type": "code",
   "execution_count": null,
   "metadata": {},
   "outputs": [],
   "source": [
    "SCOPETYPE = 'OPENADC'\n",
    "PLATFORM = 'CWLITEXMEGA'\n",
    "CRYPTO_TARGET = 'AVRCRYPTOLIB'"
   ]
  },
  {
   "cell_type": "code",
   "execution_count": null,
   "metadata": {},
   "outputs": [],
   "source": [
    "%run \"Setup_Scripts/Setup_Generic.ipynb\""
   ]
  },
  {
   "cell_type": "code",
   "execution_count": null,
   "metadata": {},
   "outputs": [],
   "source": [
    "%%bash -s \"$PLATFORM\" \"$CRYPTO_TARGET\"\n",
    "cd ../../chipwhisperer/hardware/victims/firmware/simpleserial-rsa\n",
    "make PLATFORM=$1 CRYPTO_TARGET='AVRCRYPTOLIB'"
   ]
  },
  {
   "cell_type": "code",
   "execution_count": null,
   "metadata": {},
   "outputs": [],
   "source": [
    "cw.program_target(scope, prog, '../../chipwhisperer/hardware/victims/firmware/simpleserial-rsa/simpleserial-rsa-CWLITEXMEGA.hex')"
   ]
  },
  {
   "cell_type": "code",
   "execution_count": null,
   "metadata": {},
   "outputs": [],
   "source": [
    "scope.clock.adc_src = \"clkgen_x1\"\n",
    "scope.adc.samples = 24000\n",
    "\n",
    "%matplotlib notebook\n",
    "import matplotlib.pylab as plt\n",
    "\n",
    "def capture_RSA_trace(scope, target, text):\n",
    "    # arm the CW scope to start recording power consumption\n",
    "    scope.arm()\n",
    "    # send the input text to the target\n",
    "    target.simpleserial_write('p', text)\n",
    "    # capture a power measurement\n",
    "    ret = scope.capture()\n",
    "    if ret:\n",
    "        return None\n",
    "    target.simpleserial_wait_ack()\n",
    "    # all 24000 traces are collected\n",
    "    \n",
    "    # return the array of power measurements\n",
    "    return scope.get_last_trace()\n",
    "\n",
    "text = bytearray([0, 0, 0, 0, 0, 0, 0, 0, 0, 0, 0, 0, 0, 0, 0x0B, 0x04])\n",
    "# 0xB04 = 0b1011 0000 0100\n",
    "trace = capture_RSA_trace(scope, target, text)\n",
    "plt.plot(trace, 'r')"
   ]
  },
  {
   "cell_type": "code",
   "execution_count": null,
   "metadata": {},
   "outputs": [],
   "source": [
    "spa_attack(trace,9200,9600,10,800,\"0\")"
   ]
  },
  {
   "cell_type": "markdown",
   "metadata": {},
   "source": [
    "# Countermeasure\n",
    "\n",
    "source file [here](http://localhost:8888/edit/chipwhisperer/hardware/victims/firmware/simpleserial-rsa/simpleserial-rsa-xmega.c)\n",
    "\n",
    "```C\n",
    "uint8_t get_pt(uint8_t * pt, uint8_t len)\n",
    "{\n",
    "\tuint8_t flag = 0;\n",
    "\n",
    "    const bigint_t* r = &(priv_key.components[0]);\n",
    "    const bigint_t* a = ENCRYPTED;\n",
    "\n",
    "    bigint_t res, base;\n",
    "    \n",
    "\tbigint_word_t t, base_b[MAX(a->length_B,r->length_B)], res_b[r->length_B*2];\n",
    "\tuint16_t i;\n",
    "\tuint8_t j;\n",
    "\tres.wordv = res_b;\n",
    "\tbase.wordv = base_b;\n",
    "\tbigint_copy(&base, a);\n",
    "\tbigint_reduce(&base, r);\n",
    "\tres.wordv[0]=1;\n",
    "\tres.length_B=1;\n",
    "\tres.info = 0;\n",
    "\tbigint_adjust(&res);\n",
    "    \n",
    "    //START EDIT\n",
    "    bigint_t res2;\n",
    "    bigint_t base2;\n",
    "    bigint_copy(&base2, &base);\n",
    "    bigint_copy(&res2, &res);\n",
    "    //END EDIT\n",
    "\n",
    "    trigger_high();\n",
    "\n",
    "\n",
    "\tfor(i = 0; i < 16; i++) {\n",
    "\n",
    "\t\t//t = exp->wordv[i - 1];\n",
    "        t = pt[i];\n",
    "\n",
    "\t\tfor(j=8; j > 0; --j){\n",
    "\t\t\tif(!flag){\n",
    "\t\t\t\tif(t & (1<<(8-1))){\n",
    "\t\t\t\t\tflag = 1;\n",
    "\t\t\t\t}\n",
    "\t\t\t}\n",
    "\t\t\tif(flag){\n",
    "\t\t\t\tbigint_square(&res, &res);\n",
    "\t\t\t\tbigint_reduce(&res, r);\n",
    "\t\t\t\tif(t & (1<<(8-1))){\n",
    "\t\t\t\t\tbigint_mul_u(&res, &res, &base);\n",
    "\t\t\t\t\tbigint_reduce(&res, r);\n",
    "\t\t\t\t}\n",
    "                //START EDIT\n",
    "                else{\n",
    "                    bigint_mul_u(&res2, &res2, &base2);\n",
    "\t\t\t\t\tbigint_reduce(&res2, r);\n",
    "                }\n",
    "                //END EDIT\n",
    "\t\t\t}\n",
    "\t\t\tt<<=1;\n",
    "\t\t}\n",
    "\t}\n",
    "\n",
    "    trigger_low();\n",
    "\n",
    "    return 0;\n",
    "}\n",
    "```\n",
    "\n",
    "Don't forget to save before recompiling!"
   ]
  },
  {
   "cell_type": "code",
   "execution_count": null,
   "metadata": {},
   "outputs": [],
   "source": [
    "%%bash -s \"$PLATFORM\" \"$CRYPTO_TARGET\"\n",
    "cd ../../chipwhisperer/hardware/victims/firmware/simpleserial-rsa\n",
    "make PLATFORM=$1 CRYPTO_TARGET='AVRCRYPTOLIB'"
   ]
  },
  {
   "cell_type": "code",
   "execution_count": null,
   "metadata": {},
   "outputs": [],
   "source": [
    "cw.program_target(scope, prog, '../../chipwhisperer/hardware/victims/firmware/simpleserial-rsa/simpleserial-rsa-CWLITEXMEGA.hex')"
   ]
  },
  {
   "cell_type": "code",
   "execution_count": null,
   "metadata": {},
   "outputs": [],
   "source": [
    "text = bytearray([0, 0, 0, 0, 0, 0, 0, 0, 0, 0, 0, 0, 0, 0, 0x0B, 0x04])\n",
    "# 0xB04 = 0b1011 0000 0100\n",
    "trace = capture_RSA_trace(scope, target, text)\n",
    "plt.plot(trace, 'r')"
   ]
  },
  {
   "cell_type": "code",
   "execution_count": null,
   "metadata": {},
   "outputs": [],
   "source": [
    "print(\"The input text was 'b04'\")\n",
    "spa_attack(trace,9200,9600,10,800,\"0\")"
   ]
  },
  {
   "cell_type": "code",
   "execution_count": null,
   "metadata": {},
   "outputs": [],
   "source": []
  }
 ],
 "metadata": {
  "kernelspec": {
   "display_name": "Python 3",
   "language": "python",
   "name": "python3"
  },
  "language_info": {
   "codemirror_mode": {
    "name": "ipython",
    "version": 3
   },
   "file_extension": ".py",
   "mimetype": "text/x-python",
   "name": "python",
   "nbconvert_exporter": "python",
   "pygments_lexer": "ipython3",
   "version": "3.8.7"
  }
 },
 "nbformat": 4,
 "nbformat_minor": 4
}
