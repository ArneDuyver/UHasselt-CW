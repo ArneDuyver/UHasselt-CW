{
 "cells": [
  {
   "cell_type": "markdown",
   "metadata": {},
   "source": [
    "# Connecting to Hardware"
   ]
  },
  {
   "cell_type": "markdown",
   "metadata": {},
   "source": [
    "**SUMMARY**: *In this lab, you'll learn how to setup and connect to your ChipWhisperer hardware. We'll also cover how to build firmware for your target microcontroller, how to capture power traces, and how to communicate with target devices.*\n",
    "\n",
    "*All the API calls we'll be using here are documented on the [ChipWhisperer readthedocs page](https://chipwhisperer.readthedocs.io/en/latest/api.html), so feel free to open it in another tab and follow along there as well.*\n",
    "\n",
    "**Goals:**\n",
    "* Setting up your ChipWhisperer Hardware\n",
    "* Using the ChipWhisperer Python API to connect to your hardware\n",
    "* Communication with the target\n",
    "* Capturing a power trace\n",
    "\n",
    "#### Prerequisites\n",
    "- [x] *START_HERE* notebook\n",
    "- [x] *0_A - Introduction to Jupyter Notebooks* notebook\n",
    "- [x] *chipWhisperer updating* notebook\n",
    "- [x] *0_B - ChipWhisperer Setup Test* notebook"
   ]
  },
  {
   "cell_type": "markdown",
   "metadata": {},
   "source": [
    "## Physical Setup\n",
    "The Chipwhisperer device we will use in the KUL-UH tutorials is the Chipwhisperer lite board with an attached target (XMEGA 8-bit microcontroller). Plugged in, the device looks like the image below. The pcb consists of two parts: the chipwhisperer board and the target board. The target board is wired up to the CW-board through the pcb. (If you would want to do so, you can seperate the boards via the perforated line. That way you can connect the chipwhisperer to your own target).\n",
    "\n",
    "#### The Chipwhisperer board\n",
    "The Chipwhisperer part of the pcb board contains the micro-usb port. The usb port is used to flash firmware onto the target, send input to thet target and to configure the Chipwhisperer. In the following tutorials we will primarily use the chipwhisperer to measure the power consumption of the target while it is performing some kind of encryption.\n",
    "<img src=\"src/images/cwlite_plugged.jpg\" alt=\"CW-Lite XMEGA vs Arm Board\" width=300>\n",
    "\n",
    "#### The target (XMEGA 8-bit)\n",
    "The target device is just a microcontroller that is connected to the Chipwhisperer. In the following notebooks we will flash firmware onto the microcontroller. We basically program the target to accept some input text and a crypto key and perform the programmed encryption.\n",
    "\n",
    "#### CW-Lite single board: XMEGA vs ARM\n",
    "There are two CW-Lite single boards that look very similar. To make sure you have the right one, take a good look at the image below. Note the only difference is in the target section on the right.\n",
    "\n",
    "<img src=\"src/images/cwlitearm_vs_cwlitexmega.jpg\" alt=\"CW-Lite XMEGA vs Arm Board\" width=500>"
   ]
  },
  {
   "cell_type": "markdown",
   "metadata": {},
   "source": [
    "## Connecting to ChipWhisperer\n",
    "\n",
    "Now that your hardware is all setup, we can now learn how to connect to it. Firtly we need the correct parameter values for our board."
   ]
  },
  {
   "cell_type": "code",
   "execution_count": null,
   "metadata": {},
   "outputs": [],
   "source": [
    "SCOPETYPE = 'OPENADC'\n",
    "PLATFORM = 'CWLITEXMEGA'"
   ]
  },
  {
   "cell_type": "markdown",
   "metadata": {},
   "source": [
    "We can then connect to the ChipWhisperer with:"
   ]
  },
  {
   "cell_type": "code",
   "execution_count": null,
   "metadata": {},
   "outputs": [],
   "source": [
    "import chipwhisperer as cw\n",
    "scope = cw.scope()"
   ]
  },
  {
   "cell_type": "markdown",
   "metadata": {},
   "source": [
    "By default, ChipWhisperer will try to autodetect the type of device your're running (CWLite/CW1200 or CWNano), see API documentation for manually specifying the scope type.\n",
    "\n",
    "Connecting to the target device is simple as well:"
   ]
  },
  {
   "cell_type": "code",
   "execution_count": null,
   "metadata": {},
   "outputs": [],
   "source": [
    "target = cw.target(scope, cw.targets.SimpleSerial) #cw.targets.SimpleSerial can be omitted"
   ]
  },
  {
   "cell_type": "markdown",
   "metadata": {},
   "source": [
    "We'll only be using the default target type, which is SimpleSerial. \n",
    "\n",
    "Some sane default settings can be set using:"
   ]
  },
  {
   "cell_type": "code",
   "execution_count": null,
   "metadata": {},
   "outputs": [],
   "source": [
    "scope.default_setup()"
   ]
  },
  {
   "cell_type": "markdown",
   "metadata": {},
   "source": [
    "which from its [documentation](https://chipwhisperer.readthedocs.io/en/latest/api.html#chipwhisperer.capture.scopes.OpenADC.OpenADC.default_setup) you can see does the following for the CWLite:\n",
    "\n",
    "* Sets the scope gain to 45dB\n",
    "* Sets the scope to capture 5000 samples\n",
    "* Sets the scope offset to 0 (aka it will begin capturing as soon as it is triggered)\n",
    "* Sets the scope trigger to rising edge\n",
    "* Outputs a 7.37MHz clock to the target on HS2\n",
    "* Clocks the scope ADC at 4\\*7.37MHz. Note that this is *synchronous* to the target clock on HS2\n",
    "* Assigns GPIO1 as serial RX\n",
    "* Assigns GPIO2 as serial TX"
   ]
  },
  {
   "cell_type": "markdown",
   "metadata": {},
   "source": [
    "And that's it! Your ChipWhisperer is now setup and ready to attack a target. \n",
    "\n",
    "**NOTE: You'll need to disconnect the scope/target before connecting again, like you would in another notebook. This can be done with `scope.dis()` and `target.dis()`**"
   ]
  },
  {
   "cell_type": "markdown",
   "metadata": {},
   "source": [
    "## Building and Uploading Firmware\n",
    "\n",
    "The next step in attacking a target is to get some firmware built and uploaded onto the target. Most firmware for ChipWhisperer targets can be built using the Neweatech build system, provided you have the correct compiler installed (see https://chipwhisperer.readthedocs.io/en/latest/prerequisites.html#prerequisites for info about compilers).\n",
    "\n",
    "Firmware must be built on the command line. Luckily, thanks to Jupyter, we can run a command within a notebook as follows:\n",
    "(You might get an error `warning: \"CRC\" redefined` but you can ignore that)"
   ]
  },
  {
   "cell_type": "code",
   "execution_count": null,
   "metadata": {},
   "outputs": [],
   "source": [
    "%%bash\n",
    "cd ../../chipwhisperer/hardware/victims/firmware/simpleserial-base/\n",
    "make PLATFORM=CWLITEXMEGA CRYPTO_TARGET=NONE"
   ]
  },
  {
   "cell_type": "markdown",
   "metadata": {},
   "source": [
    "Now that we have compiled the correct firmware, we need to program the built file onto the XMEGA microcontroller. The ChipWhisperer has built in support for programming our XMEGA. Use the following code block to upload the correct firmware to the target:\n"
   ]
  },
  {
   "cell_type": "code",
   "execution_count": null,
   "metadata": {},
   "outputs": [],
   "source": [
    "#cw.program_target(scope, cw.programmers.XMEGAProgrammer, \"path/to/firmware.hex\")\n",
    "cw.program_target(scope, cw.programmers.XMEGAProgrammer, \"../../chipwhisperer/hardware/victims/firmware/simpleserial-base/simpleserial-base-CWLITEXMEGA.hex\")"
   ]
  },
  {
   "cell_type": "markdown",
   "metadata": {},
   "source": [
    "Congratulations, you just uploaded the `simpleserial-base` firmware onto your target. That piece of firmware lets us communicatie with the target device. The next section will show you how to do this."
   ]
  },
  {
   "cell_type": "markdown",
   "metadata": {},
   "source": [
    "## Communication with the Target\n",
    "\n",
    "Communication with targets, which is done through the `SimpleSerial target`object we got earlier:\n",
    "```python\n",
    "    target = cw.target(scope, cw.targets.SimpleSerial)\n",
    "```\n",
    "\n",
    "We can use two types of serial protocols to communicate: \n",
    "1. Raw serial via `target.read()`, `target.write()`, `target.flush()`, etc. \n",
    "\n",
    "1. SimpleSerial commands via `target.simpleserial_read()`, `target.simpleserial_write()`, `target.simpleserial_wait_ack()`, etc.\n",
    "\n",
    "The firmware we uploaded uses the simpleserial protocol (https://wiki.newae.com/SimpleSerial), so we'll start off with simpleserial. Later, we'll use the raw serial commands to send the same message.\n",
    "\n",
    "#### SimpleSerial\n",
    "\n",
    "If you check the simpleserial-base firmware [(`simpleserial-base.c`)](../../chipwhisperer/hardware/victims/firmware/simpleserial-base/simpleserial-base.c) you'll find that for the simpleserial `'p'` command, the target will echo back the command. Let's try that out now:"
   ]
  },
  {
   "cell_type": "code",
   "execution_count": null,
   "metadata": {},
   "outputs": [],
   "source": [
    "msg = bytearray([0]*16) #simpleserial uses bytearrays\n",
    "print(\"Our send msg looks like this: \"+ str(msg))\n",
    "target.simpleserial_write('p', msg)"
   ]
  },
  {
   "cell_type": "markdown",
   "metadata": {},
   "source": [
    "Let's check if we got a response:"
   ]
  },
  {
   "cell_type": "code",
   "execution_count": null,
   "metadata": {},
   "outputs": [],
   "source": [
    "received_msg = target.simpleserial_read('r', 16)\n",
    "print(\"Our received msg looks like this: \"+ str(received_msg))"
   ]
  },
  {
   "cell_type": "markdown",
   "metadata": {},
   "source": [
    "It also has a `'k'` command. Try sending that now using the same `msg` as before:"
   ]
  },
  {
   "cell_type": "code",
   "execution_count": null,
   "metadata": {},
   "outputs": [],
   "source": [
    "target.simpleserial_write('k', msg)"
   ]
  },
  {
   "cell_type": "markdown",
   "metadata": {},
   "source": [
    "That command doesn't return anything to us, so we can't use the `target.simpleserial_read` command. But it should acknowledge and give us an error return. We can get that error message using `target.simpleserial_wait_ack()`. If the target acknowleged without an error occuring the return value of that function should be 0. We can check this with the following code:"
   ]
  },
  {
   "cell_type": "code",
   "execution_count": null,
   "metadata": {},
   "outputs": [],
   "source": [
    "#print(target.simpleserial_read('r', 16))\n",
    "print(target.simpleserial_wait_ack()) #should return 0"
   ]
  },
  {
   "cell_type": "markdown",
   "metadata": {},
   "source": [
    "#### Raw Serial\n",
    "Simpleserial messages are just converted into a specific form and then send using the Raw Serial protocol. Generally simpleserial messages take the form:\n",
    "\n",
    "```python\n",
    "command_character + ascii_encoded_bytes + '\\n'\n",
    "# e.g. \"p00000000000000000000000000000000\\n\"\n",
    "```\n",
    "\n",
    "For our first command, `command_character='p'` and `ascii_encoded_bytes=\"00\"*16` (keep in mind this isn't a binary `0x00`, it's ASCII `\"00\"`, which has a binary value of `0x3030`). Try resending the `'p'` command from earlier using `target.write()`:"
   ]
  },
  {
   "cell_type": "code",
   "execution_count": null,
   "metadata": {},
   "outputs": [],
   "source": [
    "target.write('p' + \"00\"*16 + '\\n') # Raw serial write command"
   ]
  },
  {
   "cell_type": "markdown",
   "metadata": {},
   "source": [
    "A raw `target.read()` will return all the characters that have been sent back from the target so far (so you might have to run the second block a few times to get the full message). Let's see what the device returned to us:"
   ]
  },
  {
   "cell_type": "code",
   "execution_count": null,
   "metadata": {},
   "outputs": [],
   "source": [
    "recv_msg = \"\""
   ]
  },
  {
   "cell_type": "code",
   "execution_count": null,
   "metadata": {},
   "outputs": [],
   "source": [
    "recv_msg += target.read() #you might have to run this block a few times to get the full message\n",
    "print(recv_msg)"
   ]
  },
  {
   "cell_type": "markdown",
   "metadata": {},
   "source": [
    "You should get the following response:\n",
    "```python\n",
    "    r00000000000000000000000000000000\n",
    "    z00\n",
    "```\n",
    "The part after `r` is the received message from the target and `z00` shows that the full message was received.\n",
    "The simpleserial commands are usually sufficient for talking to the simpleserial firmware. In the KUL-UH tutorials we will only use the simpleserial commands since they are easier to use."
   ]
  },
  {
   "cell_type": "markdown",
   "metadata": {},
   "source": [
    "## Capturing Traces (Power consumptiom measurements) from the target\n",
    "\n",
    "Now that the target is programmed and we know how to communicate with it, let's start recording some power traces! The following steps show you how to capture traces:\n",
    "\n",
    "1. Arm the ChipWhisperer with `scope.arm()`. It will begin capturing as soon as it is triggered (which in our case is a rising edge on `gpio4`.(In a later tutorial we will change this triggering)\n",
    "1. `scope.capture()` will read back the captured power trace, blocking until either ChipWhisperer is done recording, or the scope times out. **Note that the error return will tell you whether or not the scope timed out.** It does not return the captured scope data.\n",
    "1. You can read back the captured power trace with `scope.get_last_trace()`. The object that this function returns is a list which contains one power measurement per index. You can view this as follows: The value of `scope.get_last_trace()[0]` is the power measurement at 'time' `t0`, The value of `scope.get_last_trace()[1]` is the power measurement at 'time' `t1`, ... Where the 'time' between each measurement is roughly the same.\n",
    "\n",
    "**A trace is thus defined as a list of powermeasurements at certain time intervals**\n",
    "\n",
    "Try capturing a trace now by sending a `simpleserial_base 'p'` command. That command triggers the Chipwhisperer:"
   ]
  },
  {
   "cell_type": "code",
   "execution_count": null,
   "metadata": {},
   "outputs": [],
   "source": [
    "scope.arm()\n",
    "msg = bytearray([0]*16)\n",
    "target.simpleserial_write('p', msg)\n",
    "# Write your code here ...\n",
    "### BEGIN SOLUTION\n",
    "scope.capture()\n",
    "trace = scope.get_last_trace()\n",
    "print(trace)\n",
    "### END SOLUTION"
   ]
  },
  {
   "cell_type": "markdown",
   "metadata": {},
   "source": [
    "By plotting the list of powermeasurements we can also view a trace as the curve defined by all measurements. Run the code below to plot your captured trace:"
   ]
  },
  {
   "cell_type": "code",
   "execution_count": null,
   "metadata": {},
   "outputs": [],
   "source": [
    "%matplotlib notebook\n",
    "import matplotlib.pylab as plt\n",
    "\n",
    "plt.figure()\n",
    "plt.plot(trace, 'r')\n",
    "plt.show()"
   ]
  },
  {
   "cell_type": "markdown",
   "metadata": {},
   "source": [
    "ChipWhisperer also has a `capture_trace()` convience function that:\n",
    "```python\n",
    "    cw.capture_trace(scope, target, msg).wave\n",
    "```\n",
    "\n",
    "1. Optionally sends the `'k'` command\n",
    "1. Arms the scope\n",
    "1. Sends the `'p'` command\n",
    "1. Captures the trace\n",
    "1. Reads the return `'r'` message\n",
    "1. Returns a `Trace` class that groups the trace data, `'p'` message, the `'r'` message, and the `'k'` message\n",
    "1. The trace class has an attribute called `wave` which holds the trace lists.\n",
    "\n",
    "It isn't always the best option to use, but it's usually sufficient for most simpleserial applications\n",
    "Rewrite the example of capturing traces from the `p` command and plotting the trace, using the `capture_trace()` function:"
   ]
  },
  {
   "cell_type": "code",
   "execution_count": null,
   "metadata": {},
   "outputs": [],
   "source": [
    "# Write your code here ...\n",
    "###BEGIN SOLUTION###\n",
    "msg = bytearray([0]*16)\n",
    "trace = cw.capture_trace(scope, target, msg).wave\n",
    "print(trace)\n",
    "\n",
    "%matplotlib notebook\n",
    "import matplotlib.pylab as plt\n",
    "\n",
    "plt.figure()\n",
    "plt.plot(trace, 'r')\n",
    "plt.show()\n",
    "###END SOLUTION###"
   ]
  },
  {
   "cell_type": "markdown",
   "metadata": {},
   "source": [
    "### Final step\n",
    "As a final step, we should disconnect from the hardware so it doesn't stay \"in use\" by this notebook."
   ]
  },
  {
   "cell_type": "code",
   "execution_count": null,
   "metadata": {},
   "outputs": [],
   "source": [
    "scope.dis()\n",
    "target.dis()"
   ]
  },
  {
   "cell_type": "markdown",
   "metadata": {},
   "source": [
    "## Next step\n",
    "Now that you know how to:\n",
    "* build firmware for the target\n",
    "* flash the firmware onto the target\n",
    "* send commands to the target using Simpleserial\n",
    "* capture powermeasurements with the chipwhisperer into a list\n",
    "\n",
    "We can start learning about the assymetric cryptographic algorithm known as RSA. And of course try to crack the encryption using our new found skills.\n",
    "\n",
    "**Next notebook click here: [1_A - Correlation between tasks being performed by the target and its power consumption.ipynb](./1_A%20-%20Correlation%20between%20tasks%20being%20performed%20by%20the%20target%20and%20its%20power%20consumption.ipynb)**\n",
    "\n",
    "\n",
    "### Supplemental Reading\n",
    "We've glossed over some stuff here, so consult the [API documentation](https://chipwhisperer.readthedocs.io/en/latest/api.html) "
   ]
  },
  {
   "cell_type": "code",
   "execution_count": null,
   "metadata": {},
   "outputs": [],
   "source": []
  }
 ],
 "metadata": {
  "kernelspec": {
   "display_name": "Python 3",
   "language": "python",
   "name": "python3"
  },
  "language_info": {
   "codemirror_mode": {
    "name": "ipython",
    "version": 3
   },
   "file_extension": ".py",
   "mimetype": "text/x-python",
   "name": "python",
   "nbconvert_exporter": "python",
   "pygments_lexer": "ipython3",
   "version": "3.8.7"
  }
 },
 "nbformat": 4,
 "nbformat_minor": 2
}
