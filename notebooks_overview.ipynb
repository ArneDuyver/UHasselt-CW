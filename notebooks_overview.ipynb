{
 "cells": [
  {
   "cell_type": "markdown",
   "metadata": {},
   "source": [
    "# Overview of notebooks and files\n",
    "## Notebooks\n",
    "* *[feedback.ipynb](./feedback.ipynb)*: A notebook to that provides links to places where you can provide feedback about the UHasselt CW tutorials.\n",
    "\n",
    "* *[START_HERE.ipynb](./START_HERE.ipynb)*: A notebook which holds all starting information about the UHasselt tutorials.\n",
    "* *[0_A - Introduction to Jupyter Notebooks.ipynb](0_A%20-%20Introduction%20to%20Jupyter%20Notebooks.ipynb)*: A notebook to learn how to use Jupyter notebooks.\n",
    "* *[ChipWhisperer Updating.ipynb](ChipWhisperer%20Updating.ipynb)*: A notebook with which you can update the repositories and revert changes made to files.\n",
    "* *[0_B - ChipWhisperer Setup Test.ipynb](0_B%20-%20ChipWhisperer%20Setup%20Test.ipynb)*: Test if you can connect to the chipwhisperer harware and if you can run all necessary python code.\n",
    "* *[0_C - Connecting to Hardware.ipynb](0_C%20-%20Connecting%20to%20Hardware.ipynb)*: Program and connect to the target device and capture your first power traces.\n"
   ]
  }
 ],
 "metadata": {
  "kernelspec": {
   "display_name": "Python 3",
   "language": "python",
   "name": "python3"
  },
  "language_info": {
   "codemirror_mode": {
    "name": "ipython",
    "version": 3
   },
   "file_extension": ".py",
   "mimetype": "text/x-python",
   "name": "python",
   "nbconvert_exporter": "python",
   "pygments_lexer": "ipython3",
   "version": "3.8.7"
  }
 },
 "nbformat": 4,
 "nbformat_minor": 4
}
