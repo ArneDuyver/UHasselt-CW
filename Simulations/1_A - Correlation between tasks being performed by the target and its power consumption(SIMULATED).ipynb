{
 "cells": [
  {
   "cell_type": "markdown",
   "metadata": {},
   "source": [
    "# Correlation between tasks being performed by the target and its power consumption\n",
    "In this course we will use the `Simple serial` firmware to show how the power consumption in a microcontroller will depend on the kind or instructions it is performing.\n",
    "\n",
    "**Goals:**\n",
    "* Capturing a power trace with ChipWhisperer\n",
    "* Making connections between various simple instructions and power traces\n",
    "\n",
    "#### Prerequisites\n",
    "- [x] *0_series* notebooks"
   ]
  },
  {
   "cell_type": "markdown",
   "metadata": {},
   "source": [
    "## Setup\n",
    "In order to make the target perform different instructions, we hardcoded those instructions into its source code. The power measurements for different instructions were already measured for you. The following code block will load the correct data from the files and store them in the correct variable:"
   ]
  },
  {
   "cell_type": "code",
   "execution_count": null,
   "metadata": {},
   "outputs": [],
   "source": [
    "import numpy as np\n",
    "trace_no_specific_instruction = np.load('./../src/sim_files/1A_1-trace_no_specific_instruction.npy')\n",
    "trace_additions_no_for_loop = np.load('./../src/sim_files/1A_2-trace_additions_no_for_loop.npy')\n",
    "trace_additions_with_for_loop = np.load('./../src/sim_files/1A_3-trace_additions_with_for_loop.npy')\n",
    "trace_powers_with_for_loop =np.load('./../src/sim_files/1A_4-trace_powers_with_for_loop.npy')"
   ]
  },
  {
   "cell_type": "markdown",
   "metadata": {},
   "source": [
    "Let's first look at a measured power trace when no specific instructions are being executed:"
   ]
  },
  {
   "cell_type": "code",
   "execution_count": null,
   "metadata": {},
   "outputs": [],
   "source": [
    "%matplotlib notebook\n",
    "import matplotlib.pylab as plt\n",
    "trace = trace_no_specific_instruction\n",
    "plt.figure()\n",
    "plt.plot(trace, 'r')\n",
    "plt.show()"
   ]
  },
  {
   "cell_type": "markdown",
   "metadata": {},
   "source": [
    "As you can tell from the graph above, the microcontroller does not seem to be doing a lot. To change this we dove into the source code of simple_serial and we added some nonesense instructions. \n",
    "\n",
    "## Changing the Simple serial base source code\n",
    "In this part of the code something was inserted:\n",
    "\n",
    "```C\n",
    "    #if SS_VER == SS_VER_2_0\n",
    "    uint8_t get_pt(uint8_t cmd, uint8_t scmd, uint8_t len, uint8_t* pt)\n",
    "    #else\n",
    "    uint8_t get_pt(uint8_t* pt, uint8_t len)\n",
    "    #endif\n",
    "\n",
    "    {\n",
    "        /**********************************\n",
    "        * Start user-specific code here. */\n",
    "        trigger_high();\n",
    "\n",
    "        //16 hex bytes held in 'pt' were sent\n",
    "        //from the computer. Store your response\n",
    "        //back into 'pt', which will send 16 bytes\n",
    "        //back to computer. Can ignore of course if\n",
    "        //not needed\n",
    "\n",
    "        trigger_low();\n",
    "        /* End user-specific code here. *\n",
    "        ********************************/\n",
    "        simpleserial_put('r', 16, pt);\n",
    "        return 0x00;\n",
    "    }\n",
    "```\n",
    "\n",
    "**The following code was inserted right before the line `simpleserial_put('r', 16, pt);`**\n",
    "\n",
    "```C\n",
    "\n",
    "\tvolatile long int A = 0x2BAA;\n",
    "\tA += 2;\n",
    "\tA += 2;\n",
    "\tA += 2;\n",
    "\tA += 2;\n",
    "\tA += 2;\n",
    "\t\n",
    "\tA += 2;\n",
    "\tA += 2;\n",
    "\tA += 2;\n",
    "\tA += 2;\n",
    "\tA += 2;\n",
    "\n",
    "\tA += 2;\n",
    "\tA += 2;\n",
    "\tA += 2;\n",
    "\tA += 2;\n",
    "\tA += 2;\n",
    "\t\n",
    "\tA += 2;\n",
    "\tA += 2;\n",
    "\tA += 2;\n",
    "\tA += 2;\n",
    "\tA += 2;\n",
    "```\n",
    "The code below plots the powertrace measured with the new source code:"
   ]
  },
  {
   "cell_type": "code",
   "execution_count": null,
   "metadata": {},
   "outputs": [],
   "source": [
    "trace = trace_additions_no_for_loop\n",
    "plt.figure()\n",
    "plt.plot(trace, 'r')\n",
    "plt.show()"
   ]
  },
  {
   "cell_type": "markdown",
   "metadata": {},
   "source": [
    "You should see a different graph than you did before. Furthermore, you should see a pattern in the beginning of the trace that repeats approximately 20 times. You get 3 seconds to figure out what the cause of this repeating pattern could be ...\n",
    "\n",
    "1,2,3\n",
    "\n",
    "...of course it can be related to the same instruction `A += 2;` that we made the microcontroller perform 20 times.\n",
    "That doesn't seem that hard to understand but it is a fundamental part in understanding side-channel analysis attacks. We can learn something about the inner workings of a target by just monitoring its power consumption.\n",
    "\n",
    "#### let's mix it up a bit\n",
    "Every programmer knows that most of the times if we want to perform a piece of code 20 times we don't just copy the code 20 times. Next, we let the target perform the same 20 instructions. This time we use a for-loop. \n",
    "```C\n",
    "    volatile long int A = 0x2BAA;\n",
    "    for (int i = 0;i<20;i++){\n",
    "        A += 2;\n",
    "    }  \n",
    "\n",
    "```\n",
    "The code block below shows the measured trace again:"
   ]
  },
  {
   "cell_type": "code",
   "execution_count": null,
   "metadata": {},
   "outputs": [],
   "source": [
    "trace = trace_additions_with_for_loop\n",
    "plt.figure()\n",
    "plt.plot(trace, 'r')\n",
    "plt.show()"
   ]
  },
  {
   "cell_type": "markdown",
   "metadata": {},
   "source": [
    "**Notice that the trace is slighly different while we are still performing the same 20 additions. Also notice that the total amount of 'time' is takes to complete all 20 instructions is longer this time!**\n",
    "\n",
    "*-TIP: if you need to scroll a lot between the graphs, you can simply clear some output of code blocks. Select the cell which output you want to clear and in the menu above select: `Cell -> Current Outputs -> Clear`*. Or select the block (blue border, not green) and press `o` to toggle the output on and off.\n",
    "\n",
    "The longer time can be explained by the extra overhead a microcontroller needs to perform to do a for-loop instead of just running 20 instructions after each other.\n",
    "\n",
    "#### More expensive instructions.\n",
    "Now that we have seen what the power consumption of the target looks like while performing a simple instruction (can be performed in one clock cycle), let's look at a more expensive instruction for the XMEGA. The instruction inside the for loop was changed to this:\n",
    "```C\n",
    "    A = A*A;\n",
    "```\n",
    "\n",
    "And yet again the code below plots the power trace:"
   ]
  },
  {
   "cell_type": "code",
   "execution_count": null,
   "metadata": {},
   "outputs": [],
   "source": [
    "trace = trace_powers_with_for_loop\n",
    "plt.figure()\n",
    "plt.plot(trace, 'r')\n",
    "plt.show()"
   ]
  },
  {
   "cell_type": "markdown",
   "metadata": {},
   "source": [
    "This time the instruction takes so long that the chipwhisperer wasn't even able to capture all 20 instructions in 5000 power measurements.\n",
    "\n",
    "**HINT: In order to measure current, ChipWhisperer measures voltage drop across a shunt resistor. This means that the power trace is actually inverted (aka large negative swings are areas of higher power consumption).**"
   ]
  },
  {
   "cell_type": "markdown",
   "metadata": {},
   "source": [
    "## Next step\n",
    "Hopefully you now clearly understand that the instructions a target (microcontroller) performs correlates to the power consumption of the device. In the next lesson we will use this leakage of information to our advantage and find the hidden key of an asymmetric cryptographic algorithm.\n",
    "\n",
    "**Next notebook click here: [1_B - Attack on RSA(SIMULATED).ipynb](1_B%20-%20Attack%20on%20RSA(SIMULATED).ipynb)**\n"
   ]
  },
  {
   "cell_type": "code",
   "execution_count": null,
   "metadata": {},
   "outputs": [],
   "source": []
  }
 ],
 "metadata": {
  "kernelspec": {
   "display_name": "Python 3",
   "language": "python",
   "name": "python3"
  },
  "language_info": {
   "codemirror_mode": {
    "name": "ipython",
    "version": 3
   },
   "file_extension": ".py",
   "mimetype": "text/x-python",
   "name": "python",
   "nbconvert_exporter": "python",
   "pygments_lexer": "ipython3",
   "version": "3.8.7"
  }
 },
 "nbformat": 4,
 "nbformat_minor": 4
}
