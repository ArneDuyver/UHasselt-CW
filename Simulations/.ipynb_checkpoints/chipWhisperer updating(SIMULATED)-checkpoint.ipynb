{
 "cells": [
  {
   "cell_type": "markdown",
   "metadata": {},
   "source": [
    "# Update and revert changes\n",
    "In this notebook you will find codeblocks you can run to update to the latest version of the KUL-UH tutorials and how to save/revert your own changes.\n",
    "\n",
    "#### Prerequisites\n",
    "- [x] *START_HERE(SIMULATED)* notebook\n",
    "- [x] *0_A - Introduction to Jupyter Notebooks(SIMULATED)* notebook\n",
    "- [x] basic knowledge over bash and git commands (to learn more, see the supplemental reading section down below)\n",
    "\n",
    "### Updating to the latest Chipwhisperer software\n",
    "Not needed for the SIMULATED notebooks.\n",
    "\n",
    "### Update to the latest version of the KUL-UH tutorials\n",
    "All files and folders needed to follow along with the KUL-UH tutorials reside in a git repository. This way changes and bugs can easily be fixed and brought to the end user. This directory is a clone of that repo on your virtual machine. To pull the latest version, we need to revert any possible changes we made to the cloned repo. (Since this is one of the first notebooks you shouldn't have any important changes that need to be kept. If you want to update to the newest version when you are already further along in the tutorials. Keep in mind that **all** your changes will be lost, even changes your specifically saved)\n",
    "Because of this we advice you only pull the newest version of the tutorials once in the beginning.\n",
    "\n",
    "Run the following code block to revert all changes and pull the latest tutorial version:"
   ]
  },
  {
   "cell_type": "code",
   "execution_count": null,
   "metadata": {},
   "outputs": [],
   "source": [
    "%%bash\n",
    "cd ..\n",
    "git checkout .\n",
    "git pull"
   ]
  },
  {
   "cell_type": "markdown",
   "metadata": {},
   "source": [
    "Thanks to this method of using github repositories you don't need to worry about making mistakes since you can always revert back to the original files by running the code block above. 😄"
   ]
  },
  {
   "cell_type": "markdown",
   "metadata": {},
   "source": [
    "### Saving/reverting your own changes\n",
    "The Jupyter server will periodically store changes in the notebooks to memory. If you run code blocks for example, the next time you open the notebook you will still be able to see the outputs from when you last worked with the file. You can also explicitly save changes and set a checkpoint for when you might have made changes to code blocks. You can do this by clicking the save icon in the ribbon above or by pressing `ctrl+s`. You can also clear the output of a cell or multiple cells via the menu above: `Cell -> Current Outputs/All Outputs -> Clear`. **!Note that clearing the outputs does not clear any stored variables etc. from running code blocks.** To completely restart the notebook and clear all variables etc. you need to press the `restart the kernel (with dialog)`-button in the ribbon. (circle arrow button)\n",
    "\n",
    "We can also revert are changes using the git checkout command. (as seen in the previous section) \n",
    "### - all files\n",
    "To revert all of your changes run the code below:"
   ]
  },
  {
   "cell_type": "code",
   "execution_count": null,
   "metadata": {},
   "outputs": [],
   "source": [
    "%%bash\n",
    "git checkout ."
   ]
  },
  {
   "cell_type": "markdown",
   "metadata": {},
   "source": [
    "### - specific files \n",
    "To only revert a specific file use the template code below:"
   ]
  },
  {
   "cell_type": "code",
   "execution_count": null,
   "metadata": {},
   "outputs": [],
   "source": [
    "%%bash\n",
    "git checkout \"./path/to/file/File name.file_extention\""
   ]
  },
  {
   "cell_type": "markdown",
   "metadata": {},
   "source": [
    "### **Tip**\n",
    "**!Note that you need to refresh open notebooks to see the changes of the commands above.**\n",
    "\n",
    "## Next step\n",
    "With the acquired knowledge under our belt, it is now time to learn a bit bout the Chipwhisperer hardware. We won't use the hardware of the chipwhisperer but this is still very important to know if you would like to use it in the fututre.\n",
    "\n",
    "**Next notebook click here: [0_B - ChipWhisperer hardware(SIMULATED).ipynb](./0_B%20-%20ChipWhisperer%20hardware(SIMULATED).ipynb)**\n",
    "\n",
    "### Supplemental Reading\n",
    "* [Bash beginners guide](https://tldp.org/LDP/Bash-Beginners-Guide/html/index.html)\n",
    "* [Git documentation](https://git-scm.com/doc)"
   ]
  },
  {
   "cell_type": "code",
   "execution_count": null,
   "metadata": {},
   "outputs": [],
   "source": []
  }
 ],
 "metadata": {
  "kernelspec": {
   "display_name": "Python 3",
   "language": "python",
   "name": "python3"
  },
  "language_info": {
   "codemirror_mode": {
    "name": "ipython",
    "version": 3
   },
   "file_extension": ".py",
   "mimetype": "text/x-python",
   "name": "python",
   "nbconvert_exporter": "python",
   "pygments_lexer": "ipython3",
   "version": "3.8.7"
  }
 },
 "nbformat": 4,
 "nbformat_minor": 4
}
