{
 "cells": [
  {
   "cell_type": "markdown",
   "metadata": {},
   "source": [
    "# Countermeasure to DPA and CPA on AES(SIMULATED)\n",
    "In the previous notebook, we designed and implemented a countermeasure against SPA. In this notebook you will learn about masking as a countermeasure to protect AES against CPA's. (You will not need to adjust the ssource code yourself, but we have modified the code for you so you just need to compile and flash the new firmware).\n",
    "\n",
    "**Goals:**\n",
    "* Learn to use Chipwhisperer projects\n",
    "* Use masking as countermeasure against CPA on AES\n",
    "* Test out the countermeasure\n",
    "\n",
    "#### Prerequisites\n",
    "- [x] *0_series* notebooks \n",
    "- [x] *1_series* notebooks\n",
    "- [x] *2_series* notebooks\n",
    "- [x] *3_A - Countermeasure to SPA on RSA(SIMULATED)* notebook"
   ]
  },
  {
   "cell_type": "markdown",
   "metadata": {},
   "source": [
    "## Chipwhisperer projects\n",
    "To begin we are going to see how we can use CW projects to perform a CPA very easily. All the code used in notebook `2_B - CPA on AES cryptosystem` is already packaged nicely in the CW api (the api provides an even better verion of the attack). We already ran the projects and the results are automatically saved."
   ]
  },
  {
   "cell_type": "markdown",
   "metadata": {},
   "source": [
    "#### Loading the CW project using the api"
   ]
  },
  {
   "cell_type": "code",
   "execution_count": 28,
   "metadata": {},
   "outputs": [],
   "source": [
    "import chipwhisperer as cw\n",
    "import numpy as np\n",
    "proj = cw.open_project(\"../AES_normal.cwp\")\n",
    "key = \"CWbytearray(b'2b 7e 15 16 28 ae d2 a6 ab f7 15 88 09 cf 4f 3c')\""
   ]
  },
  {
   "cell_type": "markdown",
   "metadata": {},
   "source": [
    "#### performing the attack using the api"
   ]
  },
  {
   "cell_type": "code",
   "execution_count": 29,
   "metadata": {},
   "outputs": [
    {
     "name": "stdout",
     "output_type": "stream",
     "text": [
      "Subkey KGuess Correlation\n",
      "  00    0x2B    0.92689\n",
      "  01    0x7E    0.88249\n",
      "  02    0x15    0.86692\n",
      "  03    0x16    0.87751\n",
      "  04    0x28    0.81487\n",
      "  05    0xAE    0.84567\n",
      "  06    0xD2    0.80737\n",
      "  07    0xA6    0.85593\n",
      "  08    0xAA    0.76701\n",
      "  09    0xF7    0.86881\n",
      "  10    0x15    0.93563\n",
      "  11    0x88    0.84391\n",
      "  12    0x09    0.70739\n",
      "  13    0xCF    0.77456\n",
      "  14    0x4F    0.90720\n",
      "  15    0x3C    0.91410\n",
      "\n",
      "The attack reveals the following key guess:\n",
      "CWbytearray(b'2b 7e 15 16 28 ae d2 a6 aa f7 15 88 09 cf 4f 3c')  \n",
      "\n",
      "The real key was:\n",
      "CWbytearray(b'2b 7e 15 16 28 ae d2 a6 ab f7 15 88 09 cf 4f 3c')\n"
     ]
    }
   ],
   "source": [
    "import chipwhisperer.analyzer as cwa\n",
    "\n",
    "def CPA_attack(proj):\n",
    "    leak_model = cwa.leakage_models.sbox_output\n",
    "    attack = cwa.cpa(proj, leak_model)\n",
    "    results = attack.run()\n",
    "    print(results)\n",
    "    print(\"The attack reveals the following key guess:\\n\",end='')\n",
    "    print(str(bytearray(results.key_guess())),end=' ')\n",
    "\n",
    "CPA_attack(proj)\n",
    "print(\" \")\n",
    "print(\"\\nThe real key was:\\n\"+str(key))"
   ]
  },
  {
   "cell_type": "markdown",
   "metadata": {},
   "source": [
    "As you can tell, using the CW project is super easy. The only thing to remember is the kind of attack (what kind of leakage model) we wish to use. In our case it is `leak_model = cwa.leakage_models.sbox_output`. We will use the projects to test our new version of the AES to see if it can still crack it."
   ]
  },
  {
   "cell_type": "markdown",
   "metadata": {},
   "source": [
    "## Designing a countermeasure\n",
    "An important part of the countermeasure is to keep te encryption the same the masked AES firmware already implements the countermeasure and keeps the encryption the same. \n",
    "\n",
    "The next step is to go over the changes in the masked AES and finally test if we can crack it. \n",
    "The reason we were able to crack the normal AES is that there was a correlation between the powerconsumtion and the data set on the databusses. We could predict what the value of a databit would be if we guessed the correct key. By comparing this to the measured power traces we could quantify the probability of our guess being correct. In order to make it impossible for us to know the value of the databus internally we will use a strategy called masking. Masking means that we perform an operation between the plain text and a randomly generated number. The operation must be choosen so that at the final step we can use that same random number to peel back the mask and reveal the correct encryption. A good operation for this is the `XOR` operation because to reverse an xor with a number you just have to repeat the xor operation with the same number. \n",
    "```\n",
    "byte = 0xF1 = 0b1111 0001\n",
    "mask = 0x55 = 0b0101 0101\n",
    "\n",
    "0xF1^0x55 = 0xA4 = 0b1010 0100\n",
    "0xA4^0x55 = 0xF1 = 0b1111 0001\n",
    "```\n",
    "Furthermore when performing linear operations on the masked data the same random number can be used to unmask the data. For example if we `xor` the masked data with a keybyte we can easily get the unmasked xor between the key by unmasking with the same mask:\n",
    "```\n",
    "normal: 0xF1 ^ 0x2B        = 0xDA = 0b1101 1010\n",
    "masked: (0xF1^0x55) ^ 0x2B = 0x8F = 0b0100 1111\n",
    "unmasking: 0x8F ^ 0x55     = 0xDA\n",
    "```\n",
    "This means we can perform the AES operations while not knowing the inner bit values because they depend on the random mask. There is one problem: the SBOX operation does not keep the mask. We can circumvent this problem by unmasking the data before sending it into the SBOX and remasking its output. Just executing those steps sequentially in code is not an option however. The buslines would hold the same data as in the normal AES for a split second. The means the mask would be useless, but we can instead make a different SBOX based on the random mask that already contains this unmasking and remasking of the data. That way the databusses never get the value as in the normal AES because the new SBOX is created ahead of time right after the random mask is made. Let's check out what this would look like:\n",
    "```\n",
    "//Sequential (unsafe):\n",
    "- sbox_input = masked_input ^ mask       //unmask the byte before using the sbox\n",
    "- sbox_out   = sbox(sbox_input)          //performing sbox operation\n",
    "- remasked_sbox_output = sbox_out ^ mask //remasking the output\n",
    "\n",
    "//Masking new SBOX based on mask\n",
    "for(i=0; i<length(sbox); ++i){\n",
    "        sbox2[i^mask] = aes_sbox[i]^mask;\n",
    "\t}   \n",
    "\n",
    "//then just use the following\n",
    "remasked_sbox_output = sbox2[masked^input]\n",
    "\n",
    "//EXAMPLE:\n",
    "sbox[0xDA] = 0x57  //normal aes\n",
    "\n",
    "sbox2[0xDA^0x55] = sbox2[0x8F] = 0x02 (= sbox[0xDA]^0x55) //masked\n",
    "0x02 ^ 0x55 = 0x57 //after unmasking is same as normal aes\n",
    "```\n",
    "To see how these changes to AES are implemented in the Masked AES you can open the 2 changed source files here: \n",
    "\n",
    "[simpleserial-aes.c](http://localhost:8888/edit/IIW/UHasselt%20Chipwhisperer%20notebooks/src/aes_masked/simpleserial-aes/simpleserial-aes.c)\n",
    "\n",
    "[aes_enc.c](http://localhost:8888/edit/IIW/UHasselt%20Chipwhisperer%20notebooks/src/aes_masked/crypto/avrcryptolib/aes/aes_enc.c)\n",
    "\n",
    "The original source files of the normal AES you can open here:\n",
    "\n",
    "[simpleserial-aes.c](http://localhost:8888/edit/chipwhisperer/hardware/victims/firmware/simpleserial-aes/simpleserial-aes.c)\n",
    "\n",
    "[aes_enc.c](http://localhost:8888/edit/chipwhisperer/hardware/victims/firmware/crypto/avrcryptolib/aes/aes_enc.c)\n",
    "\n",
    "## Testing the masked AES\n",
    "The final step is to try and crack our masked AES. We will use a CW project again, but this time it's up to you to write the correct code:"
   ]
  },
  {
   "cell_type": "code",
   "execution_count": 32,
   "metadata": {},
   "outputs": [],
   "source": [
    "proj = cw.open_project(\"../AES_masked\")"
   ]
  },
  {
   "cell_type": "code",
   "execution_count": 33,
   "metadata": {
    "scrolled": false
   },
   "outputs": [
    {
     "name": "stdout",
     "output_type": "stream",
     "text": [
      "Subkey KGuess Correlation\n",
      "  00    0x27    0.64263\n",
      "  01    0x21    0.66350\n",
      "  02    0x9D    0.63112\n",
      "  03    0xF2    0.66846\n",
      "  04    0x6B    0.59610\n",
      "  05    0xAE    0.60065\n",
      "  06    0xC9    0.61420\n",
      "  07    0x51    0.63192\n",
      "  08    0xE6    0.61918\n",
      "  09    0xA6    0.61256\n",
      "  10    0xD1    0.68282\n",
      "  11    0x37    0.69283\n",
      "  12    0xAA    0.67155\n",
      "  13    0x2B    0.63045\n",
      "  14    0xB7    0.63124\n",
      "  15    0xC0    0.63472\n",
      "\n",
      "The attack reveals the following key guess:\n",
      "CWbytearray(b'27 21 9d f2 6b ae c9 51 e6 a6 d1 37 aa 2b b7 c0')  \n",
      "\n",
      "The real key was:\n",
      "CWbytearray(b'2b 7e 15 16 28 ae d2 a6 ab f7 15 88 09 cf 4f 3c')\n"
     ]
    }
   ],
   "source": [
    "#Start your code here\n",
    "###START SOLUTION###\n",
    "CPA_attack(proj)\n",
    "print(\" \")\n",
    "print(\"\\nThe real key was:\\n\"+str(key))\n",
    "###END SOLUTION###"
   ]
  },
  {
   "cell_type": "markdown",
   "metadata": {},
   "source": [
    "## Conclusion\n",
    "By using a mask the internal data does not correlate with the predicted data. That way a CPA attack is prevented from finding the secret key."
   ]
  },
  {
   "cell_type": "markdown",
   "metadata": {},
   "source": [
    "## THE END\n",
    "Congratulations on finishing this tutorial series and feel free to experiment further with the Chipwhisperer."
   ]
  },
  {
   "cell_type": "code",
   "execution_count": null,
   "metadata": {},
   "outputs": [],
   "source": []
  }
 ],
 "metadata": {
  "kernelspec": {
   "display_name": "Python 3",
   "language": "python",
   "name": "python3"
  },
  "language_info": {
   "codemirror_mode": {
    "name": "ipython",
    "version": 3
   },
   "file_extension": ".py",
   "mimetype": "text/x-python",
   "name": "python",
   "nbconvert_exporter": "python",
   "pygments_lexer": "ipython3",
   "version": "3.8.7"
  }
 },
 "nbformat": 4,
 "nbformat_minor": 4
}
