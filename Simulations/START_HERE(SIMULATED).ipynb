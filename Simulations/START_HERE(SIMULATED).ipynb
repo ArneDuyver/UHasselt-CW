{
 "cells": [
  {
   "cell_type": "markdown",
   "metadata": {},
   "source": [
    "# Simulated notebooks\n",
    "\n",
    "People that have the Chipwhisperer hardware will measure the power consumption of the device while it is performing certain tasks. Those measurements get stored in an array. Afterwords that data is plotted and calculations are performed on that array. The only reason you need the hardware is to collect the data that will be put into the array. Luckily we have already captured the data for you and saved the arrays in files that reside in the `./../src/sim_files` directory. So the series of SIMULATED notebooks follow the exact same path as the normal notebooks, but when you would be asked to capture power measurement traces from the device you will simply load the data from a file instead. This way you can follow along with everything and learn everything the same but without needing the Chipwhisperer hardware. (While you do not need the hardware for these tutorials, it is still very usefull if you have a Chipwhisperer board since you can do a lot more with it than is covered in this course).\n",
    "\n",
    "### The next step\n",
    "First up, let's show you how to use Jupyter notebooks. [Click here to open the next notebook in this tutorial series. (0_A - Introduction to Jupyter Notebooks(SIMULATED).ipynb)](./0_A%20-%20Introduction%20to%20Jupyter%20Notebooks(SIMULATED).ipynb)"
   ]
  },
  {
   "cell_type": "code",
   "execution_count": null,
   "metadata": {},
   "outputs": [],
   "source": []
  }
 ],
 "metadata": {
  "kernelspec": {
   "display_name": "Python 3",
   "language": "python",
   "name": "python3"
  },
  "language_info": {
   "codemirror_mode": {
    "name": "ipython",
    "version": 3
   },
   "file_extension": ".py",
   "mimetype": "text/x-python",
   "name": "python",
   "nbconvert_exporter": "python",
   "pygments_lexer": "ipython3",
   "version": "3.8.7"
  }
 },
 "nbformat": 4,
 "nbformat_minor": 4
}
