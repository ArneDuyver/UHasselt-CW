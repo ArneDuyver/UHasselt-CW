{
 "cells": [
  {
   "cell_type": "markdown",
   "metadata": {},
   "source": [
    "# Chipwhisperer hardware\n",
    "The following notebook contains everything you need to know about the hardware and api of the Chipwhisperer lite XMEGA (8 bit) board. While we won't be useing this in the simulated notebooks it is still important information to know if you ever want to switch to using the hardware.\n",
    "\n",
    "#### Prerequisites\n",
    "- [x] *START_HERE(SIMULATED)* notebook\n",
    "- [x] *0_A - Introduction to Jupyter Notebooks(SIMULATED)* notebook\n",
    "- [x] *chipWhisperer updating(SIMULATED)* notebook\n",
    "\n",
    "## Jupyter Setup\n",
    "Presumably you've already got Jupyter running! So that's a pretty good start. You can test that a few python imports are working by running the following, you shouldn't get any exceptions:"
   ]
  },
  {
   "cell_type": "code",
   "execution_count": null,
   "metadata": {},
   "outputs": [],
   "source": [
    "import chipwhisperer\n",
    "help(chipwhisperer)"
   ]
  },
  {
   "cell_type": "markdown",
   "metadata": {},
   "source": [
    "The following code should generate a plot - **NOTE: You may need to run this multiple times for some reason**"
   ]
  },
  {
   "cell_type": "code",
   "execution_count": null,
   "metadata": {},
   "outputs": [],
   "source": [
    "import matplotlib.pylab as plt\n",
    "plt.plot(range(0, 10))"
   ]
  },
  {
   "cell_type": "markdown",
   "metadata": {},
   "source": [
    "The following should generate an interactive plot"
   ]
  },
  {
   "cell_type": "code",
   "execution_count": null,
   "metadata": {},
   "outputs": [],
   "source": [
    "%matplotlib notebook\n",
    "import matplotlib.pylab as plt\n",
    "plt.plot(range(0, 10))"
   ]
  },
  {
   "cell_type": "markdown",
   "metadata": {},
   "source": [
    "## ChipWhisperer Hardware Test\n",
    "we will skip this here but further in this notebook you fnd more infor about the CW hardware."
   ]
  },
  {
   "cell_type": "markdown",
   "metadata": {},
   "source": [
    "## Bash / Command-Line Test\n",
    "The following code will check if you have a working bash or command-line interface. We'll be using this for running the ``make``-command and other such commands."
   ]
  },
  {
   "cell_type": "code",
   "execution_count": null,
   "metadata": {},
   "outputs": [],
   "source": [
    "%%bash\n",
    "dir"
   ]
  },
  {
   "cell_type": "code",
   "execution_count": null,
   "metadata": {},
   "outputs": [],
   "source": [
    "!dir"
   ]
  },
  {
   "cell_type": "markdown",
   "metadata": {},
   "source": [
    "**Remember that Jupyter allows running commands on your system - so exposing the web interface can be dangerous! This is one reason ChipWhisperer-Install on Windows uses a Token by default, and the VM forces you to use the Jupyter server password. Unless you have port forwarding your firewall should prevent access remotely, but if using this on a hostile network be sure you have not opened the port!**"
   ]
  },
  {
   "cell_type": "markdown",
   "metadata": {},
   "source": [
    "## Compiler Testing\n",
    "We won't be building source code. But if you want to in the future, you need a working Make system. First check you can run `make` - this should give you the normal output of information about the current version."
   ]
  },
  {
   "cell_type": "code",
   "execution_count": null,
   "metadata": {},
   "outputs": [],
   "source": [
    "!make --version"
   ]
  },
  {
   "cell_type": "markdown",
   "metadata": {},
   "source": [
    "We would be using a ChipWhisperer-Lite Classic (with XMEGA Target) so we would need the `avr-gcc` compiler:\n",
    "Check for the working compiler with the following code block, which should print the version and build information:"
   ]
  },
  {
   "cell_type": "code",
   "execution_count": 2,
   "metadata": {
    "collapsed": true
   },
   "outputs": [
    {
     "name": "stderr",
     "output_type": "stream",
     "text": [
      "Using built-in specs.\n",
      "Reading specs from c:/users/arne/avr-gcc-10.1.0-x64-windows/avr-gcc-10.1.0-x64-windows/bin/../lib/gcc/avr/10.1.0/device-specs/specs-avr2\n",
      "COLLECT_GCC=avr-gcc\n",
      "COLLECT_LTO_WRAPPER=c:/users/arne/avr-gcc-10.1.0-x64-windows/avr-gcc-10.1.0-x64-windows/bin/../libexec/gcc/avr/10.1.0/lto-wrapper.exe\n",
      "Target: avr\n",
      "Configured with: ../configure --prefix=/omgwtfbbq/avr-gcc-10.1.0-x64-windows --target=avr --enable-languages=c,c++ --disable-nls --disable-libssp --disable-libada --with-dwarf2 --disable-shared --enable-static --enable-mingw-wildcard --enable-plugin --with-gnu-as --host=x86_64-w64-mingw32 --build=x86_64-pc-linux-gnu\n",
      "Thread model: single\n",
      "Supported LTO compression algorithms: zlib\n",
      "gcc version 10.1.0 (GCC) \n"
     ]
    }
   ],
   "source": [
    "!avr-gcc -v"
   ]
  },
  {
   "cell_type": "markdown",
   "metadata": {},
   "source": [
    "# Some information about the CW hardware\n",
    "### (Not really needed for SIMULATED notebooks but still usefull to know)\n",
    "## Physical Setup\n",
    "The Chipwhisperer device we will use in the KUL-UH tutorials is the Chipwhisperer lite board with an attached target (XMEGA 8-bit microcontroller). Plugged in, the device looks like the image below. The pcb consists of two parts: the chipwhisperer board and the target board. The target board is wired up to the CW-board through the pcb. (If you would want to do so, you can seperate the boards via the perforated line. That way you can connect the chipwhisperer to your own target).\n",
    "\n",
    "#### The Chipwhisperer board\n",
    "The Chipwhisperer part of the pcb board contains the micro-usb port. The usb port is used to flash firmware onto the target, send input to thet target and to configure the Chipwhisperer. In the following tutorials we will primarily use the chipwhisperer to measure the power consumption of the target while it is performing some kind of encryption.\n",
    "<img src=\"../src/images/cwlite_plugged.jpg\" alt=\"CW-Lite XMEGA vs Arm Board\" width=300>\n",
    "\n",
    "#### The target (XMEGA 8-bit)\n",
    "The target device is just a microcontroller that is connected to the Chipwhisperer. In the following notebooks we will flash firmware onto the microcontroller. We basically program the target to accept some input text and a crypto key and perform the programmed encryption.\n",
    "\n",
    "#### CW-Lite single board: XMEGA vs ARM\n",
    "There are two CW-Lite single boards that look very similar. To make sure you have the right one, take a good look at the image below. Note the only difference is in the target section on the right.\n",
    "\n",
    "<img src=\"../src/images/cwlitearm_vs_cwlitexmega.jpg\" alt=\"CW-Lite XMEGA vs Arm Board\" width=500>"
   ]
  },
  {
   "cell_type": "markdown",
   "metadata": {},
   "source": [
    "## Connecting to ChipWhisperer\n",
    "\n",
    "Now that your hardware is all setup, we can now learn how to connect to it. Firtly we need the correct parameter values for our board.\n",
    "```Python\n",
    "SCOPETYPE = 'OPENADC'\n",
    "PLATFORM = 'CWLITEXMEGA'\n",
    "```\n",
    "We can then connect to the ChipWhisperer with:\n",
    "```Python\n",
    "import chipwhisperer as cw\n",
    "scope = cw.scope()\n",
    "```\n",
    "By default, ChipWhisperer will try to autodetect the type of device your're running (CWLite/CW1200 or CWNano), see API documentation for manually specifying the scope type.\n",
    "\n",
    "Connecting to the target device is simple as well:\n",
    "```Python\n",
    "target = cw.target(scope, cw.targets.SimpleSerial) #cw.targets.SimpleSerial can be omitted\n",
    "```\n",
    "We'll only be using the default target type, which is SimpleSerial. \n",
    "\n",
    "Some sane default settings can be set using:\n",
    "```Python\n",
    "scope.default_setup()\n",
    "```\n",
    "which from its [documentation](https://chipwhisperer.readthedocs.io/en/latest/api.html#chipwhisperer.capture.scopes.OpenADC.OpenADC.default_setup) you can see does the following for the CWLite:\n",
    "\n",
    "* Sets the scope gain to 45dB\n",
    "* Sets the scope to capture 5000 samples\n",
    "* Sets the scope offset to 0 (aka it will begin capturing as soon as it is triggered)\n",
    "* Sets the scope trigger to rising edge\n",
    "* Outputs a 7.37MHz clock to the target on HS2\n",
    "* Clocks the scope ADC at 4\\*7.37MHz. Note that this is *synchronous* to the target clock on HS2\n",
    "* Assigns GPIO1 as serial RX\n",
    "* Assigns GPIO2 as serial TX\n",
    "\n",
    "And that's it! Your ChipWhisperer is now setup and ready to attack a target. \n",
    "\n",
    "**NOTE: You'll need to disconnect the scope/target before connecting again, like you would in another notebook. This can be done with `scope.dis()` and `target.dis()`**"
   ]
  },
  {
   "cell_type": "markdown",
   "metadata": {},
   "source": [
    "### Extra\n",
    "If you want to learn even more the following link will bring you to the notebook explaining how to work with the Chipwhisperer hardware: [0_C - Connecting to Hardware.ipynb](../0_C%20-%20Connecting%20to%20Hardware.ipynb) But be sure to come back here to follow further with the SIMULATED notebooks:\n",
    "\n",
    "## Next step\n",
    "Now it's time to start learning about the assymetric cryptographic algorithm known as RSA. And of course try to crack the encryption.\n",
    "\n",
    "**Next notebook click here: [1_A - Correlation between tasks being performed by the target and its power consumption(SIMULATED).ipynb](./1_A%20-%20Correlation%20between%20tasks%20being%20performed%20by%20the%20target%20and%20its%20power%20consumption(SIMULATED).ipynb)**"
   ]
  },
  {
   "cell_type": "code",
   "execution_count": null,
   "metadata": {},
   "outputs": [],
   "source": []
  }
 ],
 "metadata": {
  "kernelspec": {
   "display_name": "Python 3",
   "language": "python",
   "name": "python3"
  },
  "language_info": {
   "codemirror_mode": {
    "name": "ipython",
    "version": 3
   },
   "file_extension": ".py",
   "mimetype": "text/x-python",
   "name": "python",
   "nbconvert_exporter": "python",
   "pygments_lexer": "ipython3",
   "version": "3.8.7"
  }
 },
 "nbformat": 4,
 "nbformat_minor": 4
}
