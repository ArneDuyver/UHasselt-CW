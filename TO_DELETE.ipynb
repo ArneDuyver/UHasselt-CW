{
 "cells": [
  {
   "cell_type": "code",
   "execution_count": 2,
   "metadata": {},
   "outputs": [],
   "source": [
    "# save numpy array as npy file\n",
    "import numpy as np\n",
    "# define data\n",
    "data = np.asarray([0, 1, 2, 3, 4, 5, 6, 7, 8, 9])\n",
    "# save to npy file\n",
    "np.save('./src/sim_files/data.npy', data)"
   ]
  },
  {
   "cell_type": "code",
   "execution_count": 3,
   "metadata": {},
   "outputs": [
    {
     "name": "stdout",
     "output_type": "stream",
     "text": [
      "[0 1 2 3 4 5 6 7 8 9]\n"
     ]
    }
   ],
   "source": [
    "# load array\n",
    "dataLoaded = np.load('./src/sim_files/data.npy')\n",
    "# print the array\n",
    "print(dataLoaded)"
   ]
  }
 ],
 "metadata": {
  "kernelspec": {
   "display_name": "Python 3",
   "language": "python",
   "name": "python3"
  },
  "language_info": {
   "codemirror_mode": {
    "name": "ipython",
    "version": 3
   },
   "file_extension": ".py",
   "mimetype": "text/x-python",
   "name": "python",
   "nbconvert_exporter": "python",
   "pygments_lexer": "ipython3",
   "version": "3.8.7"
  }
 },
 "nbformat": 4,
 "nbformat_minor": 4
}
