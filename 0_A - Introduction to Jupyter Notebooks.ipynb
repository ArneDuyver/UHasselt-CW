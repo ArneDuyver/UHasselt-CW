{
 "cells": [
  {
   "cell_type": "markdown",
   "metadata": {},
   "source": [
    "# Introduction to Jupyter\n",
    "Jupyter notebooks are documents that combine Python code, rich text, and additional code (such as Bash), organized into executable blocks. Notebooks allow users to run blocks out of order and multiple times, giving greater control over what's being run than a Python script.\n",
    "\n",
    "#### Prerequisites\n",
    "- [x] START_HERE notebook\n",
    "\n",
    "## Textblocks\n",
    "\n",
    "Blocks which contain text (like this one) are written in the rich text language called `Markdown`. Running those codeblocks will have no effect and just highlight the next block.\n",
    "\n",
    "## Run basic python code\n",
    "Below is an example of a Python code-block. First select the block by clicking on it. A green or blue border should appear around the block, indicating that the block is selected. Next, hit the `>| Run` button on the toolbar at the top of your screen/or next to the code block to execute the code inside the block. The next block will then be highlighted."
   ]
  },
  {
   "cell_type": "code",
   "execution_count": 1,
   "metadata": {},
   "outputs": [],
   "source": [
    "i = 0"
   ]
  },
  {
   "cell_type": "markdown",
   "metadata": {},
   "source": [
    "State is kept between Python blocks. Try running the next block multiple times to see how the printed number changes:"
   ]
  },
  {
   "cell_type": "code",
   "execution_count": null,
   "metadata": {},
   "outputs": [],
   "source": [
    "i += 1\n",
    "print(i)"
   ]
  },
  {
   "cell_type": "markdown",
   "metadata": {},
   "source": [
    "Notebooks also allow special blocks to be run. Two special blocks used throughout the ChipWhisperer tutorials are `bash` blocks, which allow bash commands to be run. Try the example code block down below check if you get any errors: "
   ]
  },
  {
   "cell_type": "code",
   "execution_count": null,
   "metadata": {},
   "outputs": [],
   "source": [
    "%%bash\n",
    "echo \"Test bash\"\n",
    "i=0\n",
    "for j in *; do let \"i=i+1\"; done\n",
    "echo \"there are\" $i \"files/folders in this directory\""
   ]
  },
  {
   "cell_type": "markdown",
   "metadata": {},
   "source": [
    "And `run` blocks, which run other notebooks. That way you can run code in other notebooks and use functions and variables defined in that notebook in the current notebook. (To test this function run the code block below, which will run all blocks in the `START_HERE.ipynb` notebook. Since there is no special code blocks there you should get no output. If the `run` command does not work you will get an error message)"
   ]
  },
  {
   "cell_type": "code",
   "execution_count": null,
   "metadata": {},
   "outputs": [],
   "source": [
    "%run \"START_HERE.ipynb\""
   ]
  },
  {
   "cell_type": "markdown",
   "metadata": {},
   "source": [
    "In the UHasselt Chipwhisperer tutorials we will not use this function however but it is nice to know.\n",
    "\n",
    "Code blocks can also be edited by clicking within the code portion of the block (the grey area). You can tell if you're in edit mode by the presence of a green border around the block. If you're not in edit mode, the border will be blue instead."
   ]
  },
  {
   "cell_type": "markdown",
   "metadata": {},
   "source": [
    "## Plotting with matplotlib\n",
    "First off - plotting with matplotlib. This is the easiest to use, as you can plot stuff with `plt.plot()`, and also set a colour as in the following:\n",
    "\n",
    "    import matplotlib.pylab as plt\n",
    "    plt.plot([1,2,2,4,5], 'r')\n",
    "    \n",
    "If you don't see the result, add the following at the end:\n",
    "\n",
    "    plt.show()\n",
    "   \n",
    "Try plotting some values yourself by running the next codeblock."
   ]
  },
  {
   "cell_type": "code",
   "execution_count": null,
   "metadata": {},
   "outputs": [],
   "source": [
    "import matplotlib.pylab as plt\n",
    "plt.plot([1,2,2,4,5], 'r')\n",
    "plt.show()"
   ]
  },
  {
   "cell_type": "markdown",
   "metadata": {},
   "source": [
    "Often it's nice to have an interactive graph. We can do that with a special *magic* at the start of our notebook, which looks like this:\n",
    "\n",
    "    %matplotlib notebook\n",
    "    import matplotlib.pylab as plt\n",
    "    \n",
    "    plt.plot([1,2,2,4,5], 'r')\n",
    "    plt.plot([3,1,5,5,7], 'g')\n",
    "    \n",
    "Give that a shot right here:"
   ]
  },
  {
   "cell_type": "code",
   "execution_count": null,
   "metadata": {},
   "outputs": [],
   "source": [
    "%matplotlib notebook\n",
    "import matplotlib.pylab as plt\n",
    "    \n",
    "plt.plot([1,2,2,4,5], 'r')\n",
    "plt.plot([3,1,5,5,7], 'g')"
   ]
  },
  {
   "cell_type": "markdown",
   "metadata": {},
   "source": [
    "Another feature you'll often want is an ability to run plot commands from inside some loop - for example plotting data in real-time.\n",
    "\n",
    "This can be a little slow - but is a pretty powerful tool. This is easily done by using the interactive plot (previously) in one cell, then doing the update plot in another cell.\n",
    "\n",
    "You'll likely need to add a `fig.canvas.draw()` inside the loop to force the update. The following shows an example of plotting a series of dots (how exciting!) with a delay between each plotting. Note that the figure is generated in the first block, and the actual update happens in the second block. (So you will see an empty plot when you run the first block and dots will appear on it when you run the second block)"
   ]
  },
  {
   "cell_type": "code",
   "execution_count": null,
   "metadata": {},
   "outputs": [],
   "source": [
    "%matplotlib notebook\n",
    "import matplotlib.pylab as plt\n",
    "fig = plt.figure()"
   ]
  },
  {
   "cell_type": "code",
   "execution_count": null,
   "metadata": {},
   "outputs": [],
   "source": [
    "import time\n",
    "\n",
    "for i in range(0, 10):\n",
    "    time.sleep(1)\n",
    "    \n",
    "    ## to update the plot:\n",
    "    plt.plot(-5, i, '.')\n",
    "    fig.canvas.draw()"
   ]
  },
  {
   "cell_type": "markdown",
   "metadata": {},
   "source": [
    "## Widgets\n",
    "Another super-useful feature is called \"widgets\", which are a way of adding interactive elements to your notebook. They are great for providing status feedback (such as number of traces captured) in a loop.\n",
    "\n",
    "See the [Widget Documentation](https://ipywidgets.readthedocs.io/en/latest/examples/Widget%20Basics.html) for complete details of all the widgets you might want. You can easily just display the widgets as below:\n",
    "(The widgets below are disabled so you won't be able to use the slider manually here)"
   ]
  },
  {
   "cell_type": "code",
   "execution_count": null,
   "metadata": {},
   "outputs": [],
   "source": [
    "import ipywidgets as widgets\n",
    "\n",
    "slider_widget = widgets.FloatSlider( value=0.0,\n",
    "                                     min=0,\n",
    "                                     max=1.0,\n",
    "                                     step=0.01,\n",
    "                                     description=\"Doneness:\",\n",
    "                                     disabled=True,\n",
    "                                     continuous_update=False,\n",
    "                                     orientation='horizontal',\n",
    "                                     readout=True,\n",
    "                                     readout_format='.01f')\n",
    "                                            \n",
    "status_widget = widgets.IntText(     value=0,\n",
    "                                     description=\"Iteration No\",\n",
    "                                     disabled=True)\n",
    "\n",
    "display(slider_widget)\n",
    "display(status_widget)"
   ]
  },
  {
   "cell_type": "code",
   "execution_count": null,
   "metadata": {},
   "outputs": [],
   "source": [
    "import time\n",
    "for i in range(0, 12):\n",
    "    slider_widget.value = i / 12.0\n",
    "    status_widget.value = i\n",
    "    time.sleep(0.5)"
   ]
  },
  {
   "cell_type": "markdown",
   "metadata": {},
   "source": [
    "## Completion Hints\n",
    "Quick! What does the numpy `np.argmax()` do and what are it's arguments?\n",
    "\n",
    "Luckily we can use some hinting features to tell us this. To try them out:\n",
    "\n",
    "1. Run the block below - because you don't want to continue to the next block, suggest using `Control-Enter` (you'll get an error - we have no argument!)\n",
    "2. Put your cursor inside the `()`, and press `Tab`+`Shift`. You shold get a pop-up hint window like show here:\n",
    "\n",
    "<img src=\"./src/images/typehint.png\" alt=\"Example Hinting\" width=\"800\"/>\n",
    "\n",
    "Note this works if your cursor is anywhere on the function handle, so you can pretty quickly get this working. The only real requirement is you need to actually run the `import` statement first. Try getting the signature for `np.ndarray` for example by changing to that function first - and again press `Tab-Shift` to get the signature."
   ]
  },
  {
   "cell_type": "code",
   "execution_count": null,
   "metadata": {
    "scrolled": true
   },
   "outputs": [],
   "source": [
    "import numpy as np\n",
    "np.argmax()"
   ]
  },
  {
   "cell_type": "markdown",
   "metadata": {},
   "source": [
    "## Completing Courses\n",
    "The UHasselt tutorial notebooks are structured chronologically, so try to run the code blocks in chronological order to avoid any errors. (Unless the instructions specifically tell you otherwise) "
   ]
  },
  {
   "cell_type": "markdown",
   "metadata": {},
   "source": [
    "## Next step\n",
    "Now that you have a basic understanding of how to use Jupyter notebooks, we will show you how to easily udate to the latest chipwhisperer software. In the next notebook you will also see how to get the latest version of these tutorials and how to reset possible mistakes you made.\n",
    "\n",
    "**Next notebook click here: [chipWhisperer updating.ipynb](./chipWhisperer%20updating.ipynb)**\n",
    "\n",
    "### Supplemental Reading\n",
    "If you'd like to learn more about Jupyter Notebooks before diving into the rest of the tutorials, the following links are recommended:\n",
    "\n",
    "* [Jupyter Notebook documentation](https://jupyter-notebook.readthedocs.io/en/stable/)\n",
    "* [A gallery of interesting Jupyter Notebooks](https://github.com/jupyter/jupyter/wiki/A-gallery-of-interesting-Jupyter-Notebooks)"
   ]
  },
  {
   "cell_type": "markdown",
   "metadata": {},
   "source": [
    "---\n",
    "<small>NO-FUN DISCLAIMER: This material is Copyright (C) NewAE Technology Inc., 2015-2020. ChipWhisperer is a trademark of NewAE Technology Inc., claimed in all jurisdictions, and registered in at least the United States of America, European Union, and Peoples Republic of China.\n",
    "\n",
    "Tutorials derived from our open-source work must be released under the associated open-source license, and notice of the source must be *clearly displayed*. Only original copyright holders may license or authorize other distribution - while NewAE Technology Inc. holds the copyright for many tutorials, the github repository includes community contributions which we cannot license under special terms and **must** be maintained as an open-source release. Please contact us for special permissions (where possible).\n",
    "\n",
    "THE SOFTWARE IS PROVIDED \"AS IS\", WITHOUT WARRANTY OF ANY KIND, EXPRESS OR IMPLIED, INCLUDING BUT NOT LIMITED TO THE WARRANTIES OF MERCHANTABILITY, FITNESS FOR A PARTICULAR PURPOSE AND NONINFRINGEMENT. IN NO EVENT SHALL THE AUTHORS OR COPYRIGHT HOLDERS BE LIABLE FOR ANY CLAIM, DAMAGES OR OTHER LIABILITY, WHETHER IN AN ACTION OF CONTRACT, TORT OR OTHERWISE, ARISING FROM, OUT OF OR IN CONNECTION WITH THE SOFTWARE OR THE USE OR OTHER DEALINGS IN THE SOFTWARE.</small>"
   ]
  },
  {
   "cell_type": "code",
   "execution_count": null,
   "metadata": {},
   "outputs": [],
   "source": []
  }
 ],
 "metadata": {
  "kernelspec": {
   "display_name": "Python 3",
   "language": "python",
   "name": "python3"
  },
  "language_info": {
   "codemirror_mode": {
    "name": "ipython",
    "version": 3
   },
   "file_extension": ".py",
   "mimetype": "text/x-python",
   "name": "python",
   "nbconvert_exporter": "python",
   "pygments_lexer": "ipython3",
   "version": "3.8.7"
  }
 },
 "nbformat": 4,
 "nbformat_minor": 2
}
