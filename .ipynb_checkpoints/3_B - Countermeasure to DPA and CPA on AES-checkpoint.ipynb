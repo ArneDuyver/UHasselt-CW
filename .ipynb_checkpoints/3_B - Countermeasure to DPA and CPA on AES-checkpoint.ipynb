{
 "cells": [
  {
   "cell_type": "markdown",
   "metadata": {},
   "source": [
    "# Countermeasure to DPA and CPA on AES\n",
    "In the previous notebook, we designed and implemented a countermeasure against SPA. In this notebook you will learn about masking as a countermeasure to protect AES against CPA's. (You will not need to adjust the ssource code yourself, but we have modified the code for you so you just need to compile and flash the new firmware).\n",
    "\n",
    "**Goals:**\n",
    "* Learn to use Chipwhisperer projects\n",
    "* Use masking as countermeasure against CPA on AES\n",
    "* Test out the countermeasure\n",
    "\n",
    "#### Prerequisites\n",
    "- [x] *0_series* notebooks \n",
    "- [x] *1_series* notebooks\n",
    "- [x] *2_series* notebooks\n",
    "- [x] *3_A - Countermeasure to SPA on RSA* notebook"
   ]
  },
  {
   "cell_type": "markdown",
   "metadata": {},
   "source": [
    "## Chipwhisperer projects\n",
    "To begin we are going to see how we can use CW projects to perform a CPA very easily. All the code used in notebook `2_B - CPA on AES cryptosystem` is already packaged nicely in the CW api (the api provides an even better verion of the attack). In the next code blocks we will program the target with the normal AES firmware and use CW projects to launch an attack an get the secret key:"
   ]
  },
  {
   "cell_type": "code",
   "execution_count": 15,
   "metadata": {},
   "outputs": [],
   "source": [
    "SCOPETYPE = 'OPENADC'\n",
    "PLATFORM = 'CWLITEXMEGA'\n",
    "CRYPTO_TARGET='AVRCRYPTOLIB' \n",
    "SS_VER='SS_VER_1_1'"
   ]
  },
  {
   "cell_type": "code",
   "execution_count": 16,
   "metadata": {},
   "outputs": [
    {
     "name": "stdout",
     "output_type": "stream",
     "text": [
      "Serial baud rate = 38400\n",
      "INFO: Found ChipWhisperer😍\n"
     ]
    }
   ],
   "source": [
    "%run \"Setup_Scripts/Setup_Generic.ipynb\""
   ]
  },
  {
   "cell_type": "code",
   "execution_count": 17,
   "metadata": {},
   "outputs": [
    {
     "name": "stdout",
     "output_type": "stream",
     "text": [
      "Building for platform CWLITEXMEGA with CRYPTO_TARGET=AVRCRYPTOLIB\n",
      "SS_VER set to SS_VER_1_1\n",
      "Blank crypto options, building for AES128\n",
      "rm -f -- simpleserial-aes-CWLITEXMEGA.hex\n",
      "rm -f -- simpleserial-aes-CWLITEXMEGA.eep\n",
      "rm -f -- simpleserial-aes-CWLITEXMEGA.cof\n",
      "rm -f -- simpleserial-aes-CWLITEXMEGA.elf\n",
      "rm -f -- simpleserial-aes-CWLITEXMEGA.map\n",
      "rm -f -- simpleserial-aes-CWLITEXMEGA.sym\n",
      "rm -f -- simpleserial-aes-CWLITEXMEGA.lss\n",
      "rm -f -- objdir/*.o\n",
      "rm -f -- objdir/*.lst\n",
      "rm -f -- simpleserial-aes.s simpleserial.s XMEGA_AES_driver.s uart.s usart_driver.s xmega_hal.s aes-independant.s aes_enc.s aes_keyschedule.s aes_sbox.s aes128_enc.s\n",
      "rm -f -- simpleserial-aes.d simpleserial.d XMEGA_AES_driver.d uart.d usart_driver.d xmega_hal.d aes-independant.d aes_enc.d aes_keyschedule.d aes_sbox.d aes128_enc.d\n",
      "rm -f -- simpleserial-aes.i simpleserial.i XMEGA_AES_driver.i uart.i usart_driver.i xmega_hal.i aes-independant.i aes_enc.i aes_keyschedule.i aes_sbox.i aes128_enc.i\n",
      ".\n",
      "Welcome to another exciting ChipWhisperer target build!!\n",
      "avr-gcc (GCC) 5.4.0\n",
      "Copyright (C) 2015 Free Software Foundation, Inc.\n",
      "This is free software; see the source for copying conditions.  There is NO\n",
      "warranty; not even for MERCHANTABILITY or FITNESS FOR A PARTICULAR PURPOSE.\n",
      "\n",
      ".\n",
      "Compiling C: simpleserial-aes.c\n",
      "avr-gcc -c -mmcu=atxmega128d3 -I. -DNO_EXTRA_OPTS -fpack-struct -gdwarf-2 -DSS_VER=SS_VER_1_1 -DHAL_TYPE=HAL_xmega -DPLATFORM=CWLITEXMEGA -DAVRCRYPTOLIB -DF_CPU=7372800UL -DSS_VER_2_0=2 -DSS_VER_1_1=1 -DSS_VER_1_0=0 -Os -funsigned-char -funsigned-bitfields -fshort-enums -Wall -Wstrict-prototypes -Wa,-adhlns=objdir/simpleserial-aes.lst -I.././simpleserial/ -I.././hal -I.././hal/xmega -I.././crypto/ -I.././crypto/avrcryptolib//aes -I.././crypto/avrcryptolib//gf256mul -std=gnu99  -MMD -MP -MF .dep/simpleserial-aes.o.d simpleserial-aes.c -o objdir/simpleserial-aes.o\n",
      ".\n",
      "Compiling C: .././simpleserial/simpleserial.c\n",
      "avr-gcc -c -mmcu=atxmega128d3 -I. -DNO_EXTRA_OPTS -fpack-struct -gdwarf-2 -DSS_VER=SS_VER_1_1 -DHAL_TYPE=HAL_xmega -DPLATFORM=CWLITEXMEGA -DAVRCRYPTOLIB -DF_CPU=7372800UL -DSS_VER_2_0=2 -DSS_VER_1_1=1 -DSS_VER_1_0=0 -Os -funsigned-char -funsigned-bitfields -fshort-enums -Wall -Wstrict-prototypes -Wa,-adhlns=objdir/simpleserial.lst -I.././simpleserial/ -I.././hal -I.././hal/xmega -I.././crypto/ -I.././crypto/avrcryptolib//aes -I.././crypto/avrcryptolib//gf256mul -std=gnu99  -MMD -MP -MF .dep/simpleserial.o.d .././simpleserial/simpleserial.c -o objdir/simpleserial.o\n",
      ".\n",
      "Compiling C: .././hal/xmega/XMEGA_AES_driver.c\n",
      "avr-gcc -c -mmcu=atxmega128d3 -I. -DNO_EXTRA_OPTS -fpack-struct -gdwarf-2 -DSS_VER=SS_VER_1_1 -DHAL_TYPE=HAL_xmega -DPLATFORM=CWLITEXMEGA -DAVRCRYPTOLIB -DF_CPU=7372800UL -DSS_VER_2_0=2 -DSS_VER_1_1=1 -DSS_VER_1_0=0 -Os -funsigned-char -funsigned-bitfields -fshort-enums -Wall -Wstrict-prototypes -Wa,-adhlns=objdir/XMEGA_AES_driver.lst -I.././simpleserial/ -I.././hal -I.././hal/xmega -I.././crypto/ -I.././crypto/avrcryptolib//aes -I.././crypto/avrcryptolib//gf256mul -std=gnu99  -MMD -MP -MF .dep/XMEGA_AES_driver.o.d .././hal/xmega/XMEGA_AES_driver.c -o objdir/XMEGA_AES_driver.o\n",
      ".\n",
      "Compiling C: .././hal/xmega/uart.c\n",
      "avr-gcc -c -mmcu=atxmega128d3 -I. -DNO_EXTRA_OPTS -fpack-struct -gdwarf-2 -DSS_VER=SS_VER_1_1 -DHAL_TYPE=HAL_xmega -DPLATFORM=CWLITEXMEGA -DAVRCRYPTOLIB -DF_CPU=7372800UL -DSS_VER_2_0=2 -DSS_VER_1_1=1 -DSS_VER_1_0=0 -Os -funsigned-char -funsigned-bitfields -fshort-enums -Wall -Wstrict-prototypes -Wa,-adhlns=objdir/uart.lst -I.././simpleserial/ -I.././hal -I.././hal/xmega -I.././crypto/ -I.././crypto/avrcryptolib//aes -I.././crypto/avrcryptolib//gf256mul -std=gnu99  -MMD -MP -MF .dep/uart.o.d .././hal/xmega/uart.c -o objdir/uart.o\n",
      ".\n",
      "Compiling C: .././hal/xmega/usart_driver.c\n",
      "avr-gcc -c -mmcu=atxmega128d3 -I. -DNO_EXTRA_OPTS -fpack-struct -gdwarf-2 -DSS_VER=SS_VER_1_1 -DHAL_TYPE=HAL_xmega -DPLATFORM=CWLITEXMEGA -DAVRCRYPTOLIB -DF_CPU=7372800UL -DSS_VER_2_0=2 -DSS_VER_1_1=1 -DSS_VER_1_0=0 -Os -funsigned-char -funsigned-bitfields -fshort-enums -Wall -Wstrict-prototypes -Wa,-adhlns=objdir/usart_driver.lst -I.././simpleserial/ -I.././hal -I.././hal/xmega -I.././crypto/ -I.././crypto/avrcryptolib//aes -I.././crypto/avrcryptolib//gf256mul -std=gnu99  -MMD -MP -MF .dep/usart_driver.o.d .././hal/xmega/usart_driver.c -o objdir/usart_driver.o\n",
      ".\n",
      "Compiling C: .././hal/xmega/xmega_hal.c\n",
      "avr-gcc -c -mmcu=atxmega128d3 -I. -DNO_EXTRA_OPTS -fpack-struct -gdwarf-2 -DSS_VER=SS_VER_1_1 -DHAL_TYPE=HAL_xmega -DPLATFORM=CWLITEXMEGA -DAVRCRYPTOLIB -DF_CPU=7372800UL -DSS_VER_2_0=2 -DSS_VER_1_1=1 -DSS_VER_1_0=0 -Os -funsigned-char -funsigned-bitfields -fshort-enums -Wall -Wstrict-prototypes -Wa,-adhlns=objdir/xmega_hal.lst -I.././simpleserial/ -I.././hal -I.././hal/xmega -I.././crypto/ -I.././crypto/avrcryptolib//aes -I.././crypto/avrcryptolib//gf256mul -std=gnu99  -MMD -MP -MF .dep/xmega_hal.o.d .././hal/xmega/xmega_hal.c -o objdir/xmega_hal.o\n",
      ".\n",
      "Compiling C: .././crypto/aes-independant.c\n",
      "avr-gcc -c -mmcu=atxmega128d3 -I. -DNO_EXTRA_OPTS -fpack-struct -gdwarf-2 -DSS_VER=SS_VER_1_1 -DHAL_TYPE=HAL_xmega -DPLATFORM=CWLITEXMEGA -DAVRCRYPTOLIB -DF_CPU=7372800UL -DSS_VER_2_0=2 -DSS_VER_1_1=1 -DSS_VER_1_0=0 -Os -funsigned-char -funsigned-bitfields -fshort-enums -Wall -Wstrict-prototypes -Wa,-adhlns=objdir/aes-independant.lst -I.././simpleserial/ -I.././hal -I.././hal/xmega -I.././crypto/ -I.././crypto/avrcryptolib//aes -I.././crypto/avrcryptolib//gf256mul -std=gnu99  -MMD -MP -MF .dep/aes-independant.o.d .././crypto/aes-independant.c -o objdir/aes-independant.o\n",
      ".\n",
      "Compiling C: .././crypto/avrcryptolib//aes/aes_enc.c\n",
      "avr-gcc -c -mmcu=atxmega128d3 -I. -DNO_EXTRA_OPTS -fpack-struct -gdwarf-2 -DSS_VER=SS_VER_1_1 -DHAL_TYPE=HAL_xmega -DPLATFORM=CWLITEXMEGA -DAVRCRYPTOLIB -DF_CPU=7372800UL -DSS_VER_2_0=2 -DSS_VER_1_1=1 -DSS_VER_1_0=0 -Os -funsigned-char -funsigned-bitfields -fshort-enums -Wall -Wstrict-prototypes -Wa,-adhlns=objdir/aes_enc.lst -I.././simpleserial/ -I.././hal -I.././hal/xmega -I.././crypto/ -I.././crypto/avrcryptolib//aes -I.././crypto/avrcryptolib//gf256mul -std=gnu99  -MMD -MP -MF .dep/aes_enc.o.d .././crypto/avrcryptolib//aes/aes_enc.c -o objdir/aes_enc.o\n",
      ".\n",
      "Compiling C: .././crypto/avrcryptolib//aes/aes_keyschedule.c\n",
      "avr-gcc -c -mmcu=atxmega128d3 -I. -DNO_EXTRA_OPTS -fpack-struct -gdwarf-2 -DSS_VER=SS_VER_1_1 -DHAL_TYPE=HAL_xmega -DPLATFORM=CWLITEXMEGA -DAVRCRYPTOLIB -DF_CPU=7372800UL -DSS_VER_2_0=2 -DSS_VER_1_1=1 -DSS_VER_1_0=0 -Os -funsigned-char -funsigned-bitfields -fshort-enums -Wall -Wstrict-prototypes -Wa,-adhlns=objdir/aes_keyschedule.lst -I.././simpleserial/ -I.././hal -I.././hal/xmega -I.././crypto/ -I.././crypto/avrcryptolib//aes -I.././crypto/avrcryptolib//gf256mul -std=gnu99  -MMD -MP -MF .dep/aes_keyschedule.o.d .././crypto/avrcryptolib//aes/aes_keyschedule.c -o objdir/aes_keyschedule.o\n",
      ".\n",
      "Compiling C: .././crypto/avrcryptolib//aes/aes_sbox.c\n",
      "avr-gcc -c -mmcu=atxmega128d3 -I. -DNO_EXTRA_OPTS -fpack-struct -gdwarf-2 -DSS_VER=SS_VER_1_1 -DHAL_TYPE=HAL_xmega -DPLATFORM=CWLITEXMEGA -DAVRCRYPTOLIB -DF_CPU=7372800UL -DSS_VER_2_0=2 -DSS_VER_1_1=1 -DSS_VER_1_0=0 -Os -funsigned-char -funsigned-bitfields -fshort-enums -Wall -Wstrict-prototypes -Wa,-adhlns=objdir/aes_sbox.lst -I.././simpleserial/ -I.././hal -I.././hal/xmega -I.././crypto/ -I.././crypto/avrcryptolib//aes -I.././crypto/avrcryptolib//gf256mul -std=gnu99  -MMD -MP -MF .dep/aes_sbox.o.d .././crypto/avrcryptolib//aes/aes_sbox.c -o objdir/aes_sbox.o\n",
      ".\n",
      "Compiling C: .././crypto/avrcryptolib//aes/aes128_enc.c\n",
      "avr-gcc -c -mmcu=atxmega128d3 -I. -DNO_EXTRA_OPTS -fpack-struct -gdwarf-2 -DSS_VER=SS_VER_1_1 -DHAL_TYPE=HAL_xmega -DPLATFORM=CWLITEXMEGA -DAVRCRYPTOLIB -DF_CPU=7372800UL -DSS_VER_2_0=2 -DSS_VER_1_1=1 -DSS_VER_1_0=0 -Os -funsigned-char -funsigned-bitfields -fshort-enums -Wall -Wstrict-prototypes -Wa,-adhlns=objdir/aes128_enc.lst -I.././simpleserial/ -I.././hal -I.././hal/xmega -I.././crypto/ -I.././crypto/avrcryptolib//aes -I.././crypto/avrcryptolib//gf256mul -std=gnu99  -MMD -MP -MF .dep/aes128_enc.o.d .././crypto/avrcryptolib//aes/aes128_enc.c -o objdir/aes128_enc.o\n",
      ".\n",
      "Assembling: .././crypto/avrcryptolib//gf256mul/gf256mul.S\n",
      "avr-gcc -c -mmcu=atxmega128d3 -I. -x assembler-with-cpp -DF_CPU=7372800 -Wa,-gstabs,-adhlns=objdir/gf256mul.lst -I.././simpleserial/ -I.././hal -I.././hal/xmega -I.././crypto/ -I.././crypto/avrcryptolib//aes -I.././crypto/avrcryptolib//gf256mul .././crypto/avrcryptolib//gf256mul/gf256mul.S -o objdir/gf256mul.o\n",
      ".\n",
      "Linking: simpleserial-aes-CWLITEXMEGA.elf\n",
      "avr-gcc -mmcu=atxmega128d3 -I. -DNO_EXTRA_OPTS -fpack-struct -gdwarf-2 -DSS_VER=SS_VER_1_1 -DHAL_TYPE=HAL_xmega -DPLATFORM=CWLITEXMEGA -DAVRCRYPTOLIB -DF_CPU=7372800UL -DSS_VER_2_0=2 -DSS_VER_1_1=1 -DSS_VER_1_0=0 -Os -funsigned-char -funsigned-bitfields -fshort-enums -Wall -Wstrict-prototypes -Wa,-adhlns=objdir/simpleserial-aes.o -I.././simpleserial/ -I.././hal -I.././hal/xmega -I.././crypto/ -I.././crypto/avrcryptolib//aes -I.././crypto/avrcryptolib//gf256mul -std=gnu99  -MMD -MP -MF .dep/simpleserial-aes-CWLITEXMEGA.elf.d objdir/simpleserial-aes.o objdir/simpleserial.o objdir/XMEGA_AES_driver.o objdir/uart.o objdir/usart_driver.o objdir/xmega_hal.o objdir/aes-independant.o objdir/aes_enc.o objdir/aes_keyschedule.o objdir/aes_sbox.o objdir/aes128_enc.o objdir/gf256mul.o --output simpleserial-aes-CWLITEXMEGA.elf -Wl,-Map=simpleserial-aes-CWLITEXMEGA.map,--cref   -lm  \n",
      ".\n",
      "Creating load file for Flash: simpleserial-aes-CWLITEXMEGA.hex\n",
      "avr-objcopy -O ihex -R .eeprom -R .fuse -R .lock -R .signature simpleserial-aes-CWLITEXMEGA.elf simpleserial-aes-CWLITEXMEGA.hex\n",
      ".\n",
      "Creating load file for EEPROM: simpleserial-aes-CWLITEXMEGA.eep\n",
      "avr-objcopy -j .eeprom --set-section-flags=.eeprom=\"alloc,load\" \\\n",
      "--change-section-lma .eeprom=0 --no-change-warnings -O ihex simpleserial-aes-CWLITEXMEGA.elf simpleserial-aes-CWLITEXMEGA.eep || exit 0\n",
      ".\n",
      "Creating Extended Listing: simpleserial-aes-CWLITEXMEGA.lss\n",
      "avr-objdump -h -S -z simpleserial-aes-CWLITEXMEGA.elf > simpleserial-aes-CWLITEXMEGA.lss\n",
      ".\n",
      "Creating Symbol Table: simpleserial-aes-CWLITEXMEGA.sym\n",
      "avr-nm -n simpleserial-aes-CWLITEXMEGA.elf > simpleserial-aes-CWLITEXMEGA.sym\n",
      "Size after:\n",
      "   text\t   data\t    bss\t    dec\t    hex\tfilename\n",
      "   3728\t     34\t    274\t   4036\t    fc4\tsimpleserial-aes-CWLITEXMEGA.elf\n",
      "+--------------------------------------------------------\n",
      "+ Default target does full rebuild each time.\n",
      "+ Specify buildtarget == allquick == to avoid full rebuild\n",
      "+--------------------------------------------------------\n",
      "+--------------------------------------------------------\n",
      "+ Built for platform CW-Lite XMEGA with:\n",
      "+ CRYPTO_TARGET = AVRCRYPTOLIB\n",
      "+ CRYPTO_OPTIONS = AES128C\n",
      "+--------------------------------------------------------\n"
     ]
    },
    {
     "name": "stderr",
     "output_type": "stream",
     "text": [
      ".././simpleserial/simpleserial.c:18:0: warning: \"CRC\" redefined\n",
      " #define CRC 0xA6\r\n",
      " ^\n",
      "In file included from /usr/lib/avr/include/avr/io.h:536:0,\n",
      "                 from .././hal/hal.h:93,\n",
      "                 from .././simpleserial/simpleserial.c:5:\n",
      "/usr/lib/avr/include/avr/iox128d3.h:2240:0: note: this is the location of the previous definition\n",
      " #define CRC    (*(CRC_t *) 0x00D0)  /* Cyclic Redundancy Checker */\n",
      " ^\n"
     ]
    }
   ],
   "source": [
    "%%bash -s \"$PLATFORM\" \"$CRYPTO_TARGET\" \"$SS_VER\"\n",
    "cd ../../chipwhisperer/hardware/victims/firmware/simpleserial-aes\n",
    "make PLATFORM=$1 CRYPTO_TARGET=$2 SS_VER=$3"
   ]
  },
  {
   "cell_type": "code",
   "execution_count": 18,
   "metadata": {},
   "outputs": [
    {
     "name": "stdout",
     "output_type": "stream",
     "text": [
      "XMEGA Programming flash...\n",
      "XMEGA Reading flash...\n",
      "Verified flash OK, 3761 bytes\n"
     ]
    }
   ],
   "source": [
    "cw.program_target(scope, prog, \"../../chipwhisperer/hardware/victims/firmware/simpleserial-aes/simpleserial-aes-{}.hex\".format(PLATFORM))"
   ]
  },
  {
   "cell_type": "markdown",
   "metadata": {},
   "source": [
    "#### Creating the CW project using the api"
   ]
  },
  {
   "cell_type": "code",
   "execution_count": 19,
   "metadata": {},
   "outputs": [],
   "source": [
    "proj = cw.create_project(\"AES_normal\", overwrite=True)"
   ]
  },
  {
   "cell_type": "code",
   "execution_count": 20,
   "metadata": {},
   "outputs": [
    {
     "name": "stderr",
     "output_type": "stream",
     "text": [
      "<ipython-input-20-32882a7d23d7>:10: TqdmDeprecationWarning: Please use `tqdm.notebook.trange` instead of `tqdm.tnrange`\n",
      "  for i in tnrange(N, desc='Capturing traces'):\n"
     ]
    },
    {
     "data": {
      "application/vnd.jupyter.widget-view+json": {
       "model_id": "6f26619823ea48ffaeea04d87cdbea1b",
       "version_major": 2,
       "version_minor": 0
      },
      "text/plain": [
       "HBox(children=(HTML(value='Capturing traces'), FloatProgress(value=0.0, max=50.0), HTML(value='')))"
      ]
     },
     "metadata": {},
     "output_type": "display_data"
    },
    {
     "name": "stdout",
     "output_type": "stream",
     "text": [
      "\n"
     ]
    }
   ],
   "source": [
    "from tqdm import tnrange\n",
    "import numpy as np\n",
    "import time\n",
    "\n",
    "ktp = cw.ktp.Basic()\n",
    "trace_array = []\n",
    "textin_array = []\n",
    "\n",
    "N = 50\n",
    "for i in tnrange(N, desc='Capturing traces'):\n",
    "    key, text = ktp.next()\n",
    "    trace = cw.capture_trace(scope, target, text, key)\n",
    "    if not trace:\n",
    "        continue\n",
    "    \n",
    "    proj.traces.append(trace)"
   ]
  },
  {
   "cell_type": "markdown",
   "metadata": {},
   "source": [
    "#### performing the attack using the api"
   ]
  },
  {
   "cell_type": "code",
   "execution_count": 22,
   "metadata": {},
   "outputs": [
    {
     "name": "stdout",
     "output_type": "stream",
     "text": [
      "Subkey KGuess Correlation\n",
      "  00    0x2B    0.89138\n",
      "  01    0x7E    0.80072\n",
      "  02    0x15    0.83979\n",
      "  03    0x16    0.74770\n",
      "  04    0x28    0.82708\n",
      "  05    0xAE    0.88814\n",
      "  06    0xD2    0.85648\n",
      "  07    0xA6    0.78971\n",
      "  08    0x70    0.72649\n",
      "  09    0xF7    0.88605\n",
      "  10    0x15    0.91154\n",
      "  11    0x88    0.81249\n",
      "  12    0x09    0.70952\n",
      "  13    0xCF    0.75231\n",
      "  14    0x4F    0.89571\n",
      "  15    0x3C    0.87645\n",
      "\n",
      "The attack reveals the following key guess:\n",
      "CWbytearray(b'2b 7e 15 16 28 ae d2 a6 70 f7 15 88 09 cf 4f 3c')  \n",
      "\n",
      "The real key was:\n",
      "CWbytearray(b'2b 7e 15 16 28 ae d2 a6 ab f7 15 88 09 cf 4f 3c')\n"
     ]
    }
   ],
   "source": [
    "import chipwhisperer.analyzer as cwa\n",
    "\n",
    "def CPA_attack(proj):\n",
    "    leak_model = cwa.leakage_models.sbox_output\n",
    "    attack = cwa.cpa(proj, leak_model)\n",
    "    results = attack.run()\n",
    "    print(results)\n",
    "    print(\"The attack reveals the following key guess:\\n\",end='')\n",
    "    print(str(bytearray(results.key_guess())),end=' ')\n",
    "\n",
    "CPA_attack(proj)\n",
    "print(\" \")\n",
    "print(\"\\nThe real key was:\\n\"+str(key))"
   ]
  },
  {
   "cell_type": "markdown",
   "metadata": {},
   "source": [
    "As you can tell, using the CW project is super easy. The only thing to remember is the kind of attack (what kind of leakage model) we wish to use. In our case it is `leak_model = cwa.leakage_models.sbox_output`. We will use the projects to test our new version of the AES to see if it can still crack it."
   ]
  },
  {
   "cell_type": "markdown",
   "metadata": {},
   "source": [
    "## Designing a countermeasure\n",
    "An important part of the countermeasure is to keep te encryption the same. So let's check the encryption of an example input to later compare it to the encrypted text using the countermeasure. Both encrypted texts should be identical for the same plain text input:\n",
    "(We also need to set the same key)"
   ]
  },
  {
   "cell_type": "code",
   "execution_count": 23,
   "metadata": {},
   "outputs": [
    {
     "name": "stdout",
     "output_type": "stream",
     "text": [
      "The used key in the normal AES was: CWbytearray(b'2b 7e 15 16 28 ae d2 a6 ab f7 15 88 09 cf 4f 3c')\n",
      "The plain text that will be encrypted by the normal AES is: CWbytearray(b'f1 f1 f1 f1 f1 f1 f1 f1 f1 f1 f1 f1 f1 f1 f1 f1')\n"
     ]
    }
   ],
   "source": [
    "key_normal_aes = key\n",
    "plain_text_normal_aes = bytearray([0xf1]*16)\n",
    "print(\"The used key in the normal AES was: \"+str(key_normal_aes))\n",
    "print(\"The plain text that will be encrypted by the normal AES is: \"+str(plain_text_normal_aes))\n",
    "target.simpleserial_write('p', plain_text_normal_aes)"
   ]
  },
  {
   "cell_type": "code",
   "execution_count": 24,
   "metadata": {},
   "outputs": [
    {
     "name": "stdout",
     "output_type": "stream",
     "text": [
      "The resulting encrypted text with normal AES is: CWbytearray(b'e4 3d 50 f5 d8 6a d7 89 27 84 1a f2 c4 18 80 ed')\n"
     ]
    }
   ],
   "source": [
    "encrypted_text_normal_aes = target.simpleserial_read('r', 16)\n",
    "print(\"The resulting encrypted text with normal AES is: \"+str(encrypted_text_normal_aes))"
   ]
  },
  {
   "cell_type": "markdown",
   "metadata": {},
   "source": [
    "Next up is to compile the masked AES firmware, flash it to the target and compare the encrypted text for the same input and key:"
   ]
  },
  {
   "cell_type": "code",
   "execution_count": 25,
   "metadata": {},
   "outputs": [
    {
     "name": "stdout",
     "output_type": "stream",
     "text": [
      "Building for platform CWLITEXMEGA with CRYPTO_TARGET=AVRCRYPTOLIB\n",
      "SS_VER set to SS_VER_1_1\n",
      "Blank crypto options, building for AES128\n",
      "rm -f -- simpleserial-aes-CWLITEXMEGA.hex\n",
      "rm -f -- simpleserial-aes-CWLITEXMEGA.eep\n",
      "rm -f -- simpleserial-aes-CWLITEXMEGA.cof\n",
      "rm -f -- simpleserial-aes-CWLITEXMEGA.elf\n",
      "rm -f -- simpleserial-aes-CWLITEXMEGA.map\n",
      "rm -f -- simpleserial-aes-CWLITEXMEGA.sym\n",
      "rm -f -- simpleserial-aes-CWLITEXMEGA.lss\n",
      "rm -f -- objdir/*.o\n",
      "rm -f -- objdir/*.lst\n",
      "rm -f -- simpleserial-aes.s simpleserial.s XMEGA_AES_driver.s uart.s usart_driver.s xmega_hal.s aes-independant.s aes_enc.s aes_keyschedule.s aes_sbox.s aes128_enc.s\n",
      "rm -f -- simpleserial-aes.d simpleserial.d XMEGA_AES_driver.d uart.d usart_driver.d xmega_hal.d aes-independant.d aes_enc.d aes_keyschedule.d aes_sbox.d aes128_enc.d\n",
      "rm -f -- simpleserial-aes.i simpleserial.i XMEGA_AES_driver.i uart.i usart_driver.i xmega_hal.i aes-independant.i aes_enc.i aes_keyschedule.i aes_sbox.i aes128_enc.i\n",
      ".\n",
      "Welcome to another exciting ChipWhisperer target build!!\n",
      "avr-gcc (GCC) 5.4.0\n",
      "Copyright (C) 2015 Free Software Foundation, Inc.\n",
      "This is free software; see the source for copying conditions.  There is NO\n",
      "warranty; not even for MERCHANTABILITY or FITNESS FOR A PARTICULAR PURPOSE.\n",
      "\n",
      ".\n",
      "Compiling C: simpleserial-aes.c\n",
      "avr-gcc -c -mmcu=atxmega128d3 -I. -DNO_EXTRA_OPTS -fpack-struct -gdwarf-2 -DSS_VER=SS_VER_1_1 -DHAL_TYPE=HAL_xmega -DPLATFORM=CWLITEXMEGA -DAVRCRYPTOLIB -DF_CPU=7372800UL -DSS_VER_2_0=2 -DSS_VER_1_1=1 -DSS_VER_1_0=0 -Os -funsigned-char -funsigned-bitfields -fshort-enums -Wall -Wstrict-prototypes -Wa,-adhlns=objdir/simpleserial-aes.lst -I.././simpleserial/ -I.././hal -I.././hal/xmega -I.././crypto/ -I.././crypto/avrcryptolib//aes -I.././crypto/avrcryptolib//gf256mul -std=gnu99  -MMD -MP -MF .dep/simpleserial-aes.o.d simpleserial-aes.c -o objdir/simpleserial-aes.o\n",
      ".\n",
      "Compiling C: .././simpleserial/simpleserial.c\n",
      "avr-gcc -c -mmcu=atxmega128d3 -I. -DNO_EXTRA_OPTS -fpack-struct -gdwarf-2 -DSS_VER=SS_VER_1_1 -DHAL_TYPE=HAL_xmega -DPLATFORM=CWLITEXMEGA -DAVRCRYPTOLIB -DF_CPU=7372800UL -DSS_VER_2_0=2 -DSS_VER_1_1=1 -DSS_VER_1_0=0 -Os -funsigned-char -funsigned-bitfields -fshort-enums -Wall -Wstrict-prototypes -Wa,-adhlns=objdir/simpleserial.lst -I.././simpleserial/ -I.././hal -I.././hal/xmega -I.././crypto/ -I.././crypto/avrcryptolib//aes -I.././crypto/avrcryptolib//gf256mul -std=gnu99  -MMD -MP -MF .dep/simpleserial.o.d .././simpleserial/simpleserial.c -o objdir/simpleserial.o\n",
      ".\n",
      "Compiling C: .././hal/xmega/XMEGA_AES_driver.c\n",
      "avr-gcc -c -mmcu=atxmega128d3 -I. -DNO_EXTRA_OPTS -fpack-struct -gdwarf-2 -DSS_VER=SS_VER_1_1 -DHAL_TYPE=HAL_xmega -DPLATFORM=CWLITEXMEGA -DAVRCRYPTOLIB -DF_CPU=7372800UL -DSS_VER_2_0=2 -DSS_VER_1_1=1 -DSS_VER_1_0=0 -Os -funsigned-char -funsigned-bitfields -fshort-enums -Wall -Wstrict-prototypes -Wa,-adhlns=objdir/XMEGA_AES_driver.lst -I.././simpleserial/ -I.././hal -I.././hal/xmega -I.././crypto/ -I.././crypto/avrcryptolib//aes -I.././crypto/avrcryptolib//gf256mul -std=gnu99  -MMD -MP -MF .dep/XMEGA_AES_driver.o.d .././hal/xmega/XMEGA_AES_driver.c -o objdir/XMEGA_AES_driver.o\n",
      ".\n",
      "Compiling C: .././hal/xmega/uart.c\n",
      "avr-gcc -c -mmcu=atxmega128d3 -I. -DNO_EXTRA_OPTS -fpack-struct -gdwarf-2 -DSS_VER=SS_VER_1_1 -DHAL_TYPE=HAL_xmega -DPLATFORM=CWLITEXMEGA -DAVRCRYPTOLIB -DF_CPU=7372800UL -DSS_VER_2_0=2 -DSS_VER_1_1=1 -DSS_VER_1_0=0 -Os -funsigned-char -funsigned-bitfields -fshort-enums -Wall -Wstrict-prototypes -Wa,-adhlns=objdir/uart.lst -I.././simpleserial/ -I.././hal -I.././hal/xmega -I.././crypto/ -I.././crypto/avrcryptolib//aes -I.././crypto/avrcryptolib//gf256mul -std=gnu99  -MMD -MP -MF .dep/uart.o.d .././hal/xmega/uart.c -o objdir/uart.o\n",
      ".\n",
      "Compiling C: .././hal/xmega/usart_driver.c\n",
      "avr-gcc -c -mmcu=atxmega128d3 -I. -DNO_EXTRA_OPTS -fpack-struct -gdwarf-2 -DSS_VER=SS_VER_1_1 -DHAL_TYPE=HAL_xmega -DPLATFORM=CWLITEXMEGA -DAVRCRYPTOLIB -DF_CPU=7372800UL -DSS_VER_2_0=2 -DSS_VER_1_1=1 -DSS_VER_1_0=0 -Os -funsigned-char -funsigned-bitfields -fshort-enums -Wall -Wstrict-prototypes -Wa,-adhlns=objdir/usart_driver.lst -I.././simpleserial/ -I.././hal -I.././hal/xmega -I.././crypto/ -I.././crypto/avrcryptolib//aes -I.././crypto/avrcryptolib//gf256mul -std=gnu99  -MMD -MP -MF .dep/usart_driver.o.d .././hal/xmega/usart_driver.c -o objdir/usart_driver.o\n",
      ".\n",
      "Compiling C: .././hal/xmega/xmega_hal.c\n",
      "avr-gcc -c -mmcu=atxmega128d3 -I. -DNO_EXTRA_OPTS -fpack-struct -gdwarf-2 -DSS_VER=SS_VER_1_1 -DHAL_TYPE=HAL_xmega -DPLATFORM=CWLITEXMEGA -DAVRCRYPTOLIB -DF_CPU=7372800UL -DSS_VER_2_0=2 -DSS_VER_1_1=1 -DSS_VER_1_0=0 -Os -funsigned-char -funsigned-bitfields -fshort-enums -Wall -Wstrict-prototypes -Wa,-adhlns=objdir/xmega_hal.lst -I.././simpleserial/ -I.././hal -I.././hal/xmega -I.././crypto/ -I.././crypto/avrcryptolib//aes -I.././crypto/avrcryptolib//gf256mul -std=gnu99  -MMD -MP -MF .dep/xmega_hal.o.d .././hal/xmega/xmega_hal.c -o objdir/xmega_hal.o\n",
      ".\n",
      "Compiling C: .././crypto/aes-independant.c\n",
      "avr-gcc -c -mmcu=atxmega128d3 -I. -DNO_EXTRA_OPTS -fpack-struct -gdwarf-2 -DSS_VER=SS_VER_1_1 -DHAL_TYPE=HAL_xmega -DPLATFORM=CWLITEXMEGA -DAVRCRYPTOLIB -DF_CPU=7372800UL -DSS_VER_2_0=2 -DSS_VER_1_1=1 -DSS_VER_1_0=0 -Os -funsigned-char -funsigned-bitfields -fshort-enums -Wall -Wstrict-prototypes -Wa,-adhlns=objdir/aes-independant.lst -I.././simpleserial/ -I.././hal -I.././hal/xmega -I.././crypto/ -I.././crypto/avrcryptolib//aes -I.././crypto/avrcryptolib//gf256mul -std=gnu99  -MMD -MP -MF .dep/aes-independant.o.d .././crypto/aes-independant.c -o objdir/aes-independant.o\n",
      ".\n",
      "Compiling C: .././crypto/avrcryptolib//aes/aes_enc.c\n",
      "avr-gcc -c -mmcu=atxmega128d3 -I. -DNO_EXTRA_OPTS -fpack-struct -gdwarf-2 -DSS_VER=SS_VER_1_1 -DHAL_TYPE=HAL_xmega -DPLATFORM=CWLITEXMEGA -DAVRCRYPTOLIB -DF_CPU=7372800UL -DSS_VER_2_0=2 -DSS_VER_1_1=1 -DSS_VER_1_0=0 -Os -funsigned-char -funsigned-bitfields -fshort-enums -Wall -Wstrict-prototypes -Wa,-adhlns=objdir/aes_enc.lst -I.././simpleserial/ -I.././hal -I.././hal/xmega -I.././crypto/ -I.././crypto/avrcryptolib//aes -I.././crypto/avrcryptolib//gf256mul -std=gnu99  -MMD -MP -MF .dep/aes_enc.o.d .././crypto/avrcryptolib//aes/aes_enc.c -o objdir/aes_enc.o\n",
      ".\n",
      "Compiling C: .././crypto/avrcryptolib//aes/aes_keyschedule.c\n",
      "avr-gcc -c -mmcu=atxmega128d3 -I. -DNO_EXTRA_OPTS -fpack-struct -gdwarf-2 -DSS_VER=SS_VER_1_1 -DHAL_TYPE=HAL_xmega -DPLATFORM=CWLITEXMEGA -DAVRCRYPTOLIB -DF_CPU=7372800UL -DSS_VER_2_0=2 -DSS_VER_1_1=1 -DSS_VER_1_0=0 -Os -funsigned-char -funsigned-bitfields -fshort-enums -Wall -Wstrict-prototypes -Wa,-adhlns=objdir/aes_keyschedule.lst -I.././simpleserial/ -I.././hal -I.././hal/xmega -I.././crypto/ -I.././crypto/avrcryptolib//aes -I.././crypto/avrcryptolib//gf256mul -std=gnu99  -MMD -MP -MF .dep/aes_keyschedule.o.d .././crypto/avrcryptolib//aes/aes_keyschedule.c -o objdir/aes_keyschedule.o\n",
      ".\n",
      "Compiling C: .././crypto/avrcryptolib//aes/aes_sbox.c\n",
      "avr-gcc -c -mmcu=atxmega128d3 -I. -DNO_EXTRA_OPTS -fpack-struct -gdwarf-2 -DSS_VER=SS_VER_1_1 -DHAL_TYPE=HAL_xmega -DPLATFORM=CWLITEXMEGA -DAVRCRYPTOLIB -DF_CPU=7372800UL -DSS_VER_2_0=2 -DSS_VER_1_1=1 -DSS_VER_1_0=0 -Os -funsigned-char -funsigned-bitfields -fshort-enums -Wall -Wstrict-prototypes -Wa,-adhlns=objdir/aes_sbox.lst -I.././simpleserial/ -I.././hal -I.././hal/xmega -I.././crypto/ -I.././crypto/avrcryptolib//aes -I.././crypto/avrcryptolib//gf256mul -std=gnu99  -MMD -MP -MF .dep/aes_sbox.o.d .././crypto/avrcryptolib//aes/aes_sbox.c -o objdir/aes_sbox.o\n",
      ".\n",
      "Compiling C: .././crypto/avrcryptolib//aes/aes128_enc.c\n",
      "avr-gcc -c -mmcu=atxmega128d3 -I. -DNO_EXTRA_OPTS -fpack-struct -gdwarf-2 -DSS_VER=SS_VER_1_1 -DHAL_TYPE=HAL_xmega -DPLATFORM=CWLITEXMEGA -DAVRCRYPTOLIB -DF_CPU=7372800UL -DSS_VER_2_0=2 -DSS_VER_1_1=1 -DSS_VER_1_0=0 -Os -funsigned-char -funsigned-bitfields -fshort-enums -Wall -Wstrict-prototypes -Wa,-adhlns=objdir/aes128_enc.lst -I.././simpleserial/ -I.././hal -I.././hal/xmega -I.././crypto/ -I.././crypto/avrcryptolib//aes -I.././crypto/avrcryptolib//gf256mul -std=gnu99  -MMD -MP -MF .dep/aes128_enc.o.d .././crypto/avrcryptolib//aes/aes128_enc.c -o objdir/aes128_enc.o\n",
      ".\n",
      "Assembling: .././crypto/avrcryptolib//gf256mul/gf256mul.S\n",
      "avr-gcc -c -mmcu=atxmega128d3 -I. -x assembler-with-cpp -DF_CPU=7372800 -Wa,-gstabs,-adhlns=objdir/gf256mul.lst -I.././simpleserial/ -I.././hal -I.././hal/xmega -I.././crypto/ -I.././crypto/avrcryptolib//aes -I.././crypto/avrcryptolib//gf256mul .././crypto/avrcryptolib//gf256mul/gf256mul.S -o objdir/gf256mul.o\n",
      ".\n",
      "Linking: simpleserial-aes-CWLITEXMEGA.elf\n",
      "avr-gcc -mmcu=atxmega128d3 -I. -DNO_EXTRA_OPTS -fpack-struct -gdwarf-2 -DSS_VER=SS_VER_1_1 -DHAL_TYPE=HAL_xmega -DPLATFORM=CWLITEXMEGA -DAVRCRYPTOLIB -DF_CPU=7372800UL -DSS_VER_2_0=2 -DSS_VER_1_1=1 -DSS_VER_1_0=0 -Os -funsigned-char -funsigned-bitfields -fshort-enums -Wall -Wstrict-prototypes -Wa,-adhlns=objdir/simpleserial-aes.o -I.././simpleserial/ -I.././hal -I.././hal/xmega -I.././crypto/ -I.././crypto/avrcryptolib//aes -I.././crypto/avrcryptolib//gf256mul -std=gnu99  -MMD -MP -MF .dep/simpleserial-aes-CWLITEXMEGA.elf.d objdir/simpleserial-aes.o objdir/simpleserial.o objdir/XMEGA_AES_driver.o objdir/uart.o objdir/usart_driver.o objdir/xmega_hal.o objdir/aes-independant.o objdir/aes_enc.o objdir/aes_keyschedule.o objdir/aes_sbox.o objdir/aes128_enc.o objdir/gf256mul.o --output simpleserial-aes-CWLITEXMEGA.elf -Wl,-Map=simpleserial-aes-CWLITEXMEGA.map,--cref   -lm  \n",
      ".\n",
      "Creating load file for Flash: simpleserial-aes-CWLITEXMEGA.hex\n",
      "avr-objcopy -O ihex -R .eeprom -R .fuse -R .lock -R .signature simpleserial-aes-CWLITEXMEGA.elf simpleserial-aes-CWLITEXMEGA.hex\n",
      ".\n",
      "Creating load file for EEPROM: simpleserial-aes-CWLITEXMEGA.eep\n",
      "avr-objcopy -j .eeprom --set-section-flags=.eeprom=\"alloc,load\" \\\n",
      "--change-section-lma .eeprom=0 --no-change-warnings -O ihex simpleserial-aes-CWLITEXMEGA.elf simpleserial-aes-CWLITEXMEGA.eep || exit 0\n",
      ".\n",
      "Creating Extended Listing: simpleserial-aes-CWLITEXMEGA.lss\n",
      "avr-objdump -h -S -z simpleserial-aes-CWLITEXMEGA.elf > simpleserial-aes-CWLITEXMEGA.lss\n",
      ".\n",
      "Creating Symbol Table: simpleserial-aes-CWLITEXMEGA.sym\n",
      "avr-nm -n simpleserial-aes-CWLITEXMEGA.elf > simpleserial-aes-CWLITEXMEGA.sym\n",
      "Size after:\n",
      "   text\t   data\t    bss\t    dec\t    hex\tfilename\n",
      "   3764\t     32\t    532\t   4328\t   10e8\tsimpleserial-aes-CWLITEXMEGA.elf\n",
      "+--------------------------------------------------------\n",
      "+ Default target does full rebuild each time.\n",
      "+ Specify buildtarget == allquick == to avoid full rebuild\n",
      "+--------------------------------------------------------\n",
      "+--------------------------------------------------------\n",
      "+ Built for platform CW-Lite XMEGA with:\n",
      "+ CRYPTO_TARGET = AVRCRYPTOLIB\n",
      "+ CRYPTO_OPTIONS = AES128C\n",
      "+--------------------------------------------------------\n"
     ]
    },
    {
     "name": "stderr",
     "output_type": "stream",
     "text": [
      ".././simpleserial/simpleserial.c:18:0: warning: \"CRC\" redefined\n",
      " #define CRC 0xA6\r\n",
      " ^\n",
      "In file included from /usr/lib/avr/include/avr/io.h:536:0,\n",
      "                 from .././hal/hal.h:93,\n",
      "                 from .././simpleserial/simpleserial.c:5:\n",
      "/usr/lib/avr/include/avr/iox128d3.h:2240:0: note: this is the location of the previous definition\n",
      " #define CRC    (*(CRC_t *) 0x00D0)  /* Cyclic Redundancy Checker */\n",
      " ^\n"
     ]
    }
   ],
   "source": [
    "%%bash -s \"$PLATFORM\" \"$CRYPTO_TARGET\" \"$SS_VER\"\n",
    "cd ./src/aes_masked/simpleserial-aes\n",
    "make PLATFORM=$1 CRYPTO_TARGET=$2 SS_VER=$3"
   ]
  },
  {
   "cell_type": "code",
   "execution_count": 26,
   "metadata": {},
   "outputs": [
    {
     "name": "stdout",
     "output_type": "stream",
     "text": [
      "XMEGA Programming flash...\n",
      "XMEGA Reading flash...\n",
      "Verified flash OK, 3795 bytes\n"
     ]
    }
   ],
   "source": [
    "cw.program_target(scope, prog, \"./src/aes_masked/simpleserial-aes/simpleserial-aes-{}.hex\".format(PLATFORM))"
   ]
  },
  {
   "cell_type": "code",
   "execution_count": 27,
   "metadata": {},
   "outputs": [
    {
     "name": "stdout",
     "output_type": "stream",
     "text": [
      "The used key in the masked AES was: CWbytearray(b'2b 7e 15 16 28 ae d2 a6 ab f7 15 88 09 cf 4f 3c')\n",
      "The plain text that will be encrypted by the masked AES is: CWbytearray(b'f1 f1 f1 f1 f1 f1 f1 f1 f1 f1 f1 f1 f1 f1 f1 f1')\n"
     ]
    }
   ],
   "source": [
    "ktp = cw.ktp.Basic()\n",
    "key, text = ktp.next()\n",
    "\n",
    "target.set_key(key)\n",
    "key_masked_aes = key\n",
    "plain_text_masked_aes = bytearray([0xf1]*16)\n",
    "print(\"The used key in the masked AES was: \"+str(key_masked_aes))\n",
    "print(\"The plain text that will be encrypted by the masked AES is: \"+str(plain_text_masked_aes))\n",
    "target.simpleserial_write('p', plain_text_masked_aes)"
   ]
  },
  {
   "cell_type": "code",
   "execution_count": 28,
   "metadata": {},
   "outputs": [
    {
     "name": "stdout",
     "output_type": "stream",
     "text": [
      "The resulting encrypted text with normal AES is: CWbytearray(b'e4 3d 50 f5 d8 6a d7 89 27 84 1a f2 c4 18 80 ed')\n"
     ]
    }
   ],
   "source": [
    "encrypted_text_masked_aes = target.simpleserial_read('r', 16)\n",
    "print(\"The resulting encrypted text with normal AES is: \"+str(encrypted_text_masked_aes))"
   ]
  },
  {
   "cell_type": "markdown",
   "metadata": {},
   "source": [
    "So the encryption still works exactly the same. The next step is to go over the changes in the masked AES and finally test if we can crack it. \n",
    "The reason we were able to crack the normal AES is that there was a correlation between the powerconsumtion and the data set on the databusses. We could predict what the value of a databit would be if we guessed the correct key. By comparing this to the measured power traces we could quantify the probability of our guess being correct. In order to make it impossible for us to know the value of the databus internally we will use a strategy called masking. Masking means that we perform an operation between the plain text and a randomly generated number. The operation must be choosen so that at the final step we can use that same random number to peel back the mask and reveal the correct encryption. A good operation for this is the `XOR` operation because to reverse an xor with a number you just have to repeat the xor operation with the same number. \n",
    "```\n",
    "byte = 0xF1 = 0b1111 0001\n",
    "mask = 0x55 = 0b0101 0101\n",
    "\n",
    "0xF1^0x55 = 0xA4 = 0b1010 0100\n",
    "0xA4^0x55 = 0xF1 = 0b1111 0001\n",
    "```\n",
    "Furthermore when performing linear operations on the masked data the same random number can be used to unmask the data. For example if we `xor` the masked data with a keybyte we can easily get the unmasked xor between the key by unmasking with the same mask:\n",
    "```\n",
    "normal: 0xF1 ^ 0x2B        = 0xDA = 0b1101 1010\n",
    "masked: (0xF1^0x55) ^ 0x2B = 0x8F = 0b0100 1111\n",
    "unmasking: 0x8F ^ 0x55     = 0xDA\n",
    "```\n",
    "This means we can perform the AES operations while not knowing the inner bit values because they depend on the random mask. There is one problem: the SBOX operation does not keep the mask. We can circumvent this problem by unmasking the data before sending it into the SBOX and remasking its output. Just executing those steps sequentially in code is not an option however. The buslines would hold the same data as in the normal AES for a split second. The means the mask would be useless, but we can instead make a different SBOX based on the random mask that already contains this unmasking and remasking of the data. That way the databusses never get the value as in the normal AES because the new SBOX is created ahead of time right after the random mask is made. Let's check out what this would look like:\n",
    "```\n",
    "//Sequential (unsafe):\n",
    "- sbox_input = masked_input ^ mask       //unmask the byte before using the sbox\n",
    "- sbox_out   = sbox(sbox_input)          //performing sbox operation\n",
    "- remasked_sbox_output = sbox_out ^ mask //remasking the output\n",
    "\n",
    "//Masking new SBOX based on mask\n",
    "for(i=0; i<length(sbox); ++i){\n",
    "        sbox2[i^mask] = aes_sbox[i]^mask;\n",
    "\t}   \n",
    "\n",
    "//then just use the following\n",
    "remasked_sbox_output = sbox2[masked^input]\n",
    "\n",
    "//EXAMPLE:\n",
    "sbox[0xDA] = 0x57  //normal aes\n",
    "\n",
    "sbox2[0xDA^0x55] = sbox2[0x8F] = 0x02 (= sbox[0xDA]^0x55) //masked\n",
    "0x02 ^ 0x55 = 0x57 //after unmasking is same as normal aes\n",
    "```\n",
    "To see how these changes to AES are implemented in the Masked AES you can open the 2 changed source files here: \n",
    "\n",
    "[simpleserial-aes.c](http://localhost:8888/edit/IIW/UHasselt%20Chipwhisperer%20notebooks/src/aes_masked/simpleserial-aes/simpleserial-aes.c)\n",
    "\n",
    "[aes_enc.c](http://localhost:8888/edit/IIW/UHasselt%20Chipwhisperer%20notebooks/src/aes_masked/crypto/avrcryptolib/aes/aes_enc.c)\n",
    "\n",
    "The original source files of the normal AES you can open here:\n",
    "\n",
    "[simpleserial-aes.c](http://localhost:8888/edit/chipwhisperer/hardware/victims/firmware/simpleserial-aes/simpleserial-aes.c)\n",
    "\n",
    "[aes_enc.c](http://localhost:8888/edit/chipwhisperer/hardware/victims/firmware/crypto/avrcryptolib/aes/aes_enc.c)\n",
    "\n",
    "Some other instructions used in the aes firmware are non-linear which means we again need to unmask and remask data. By performing the unmasking and remasking in the same instruction the databusses again don't take the values as in the normal aes and thus protect the leakage.\n",
    "\n",
    "## Testing the masked AES\n",
    "The final step is to try and crack our masked AES. We will use a CW project again, but this time it's up to you to write the correct code:"
   ]
  },
  {
   "cell_type": "code",
   "execution_count": 29,
   "metadata": {},
   "outputs": [],
   "source": [
    "#1.Start your code here\n",
    "###START SOLUTION###\n",
    "proj = cw.create_project(\"AES_masked\", overwrite=True)\n",
    "###END SOLUTION###"
   ]
  },
  {
   "cell_type": "code",
   "execution_count": 30,
   "metadata": {},
   "outputs": [
    {
     "name": "stderr",
     "output_type": "stream",
     "text": [
      "<ipython-input-30-f18dab3a3a14>:12: TqdmDeprecationWarning: Please use `tqdm.notebook.trange` instead of `tqdm.tnrange`\n",
      "  for i in tnrange(N, desc='Capturing traces'):\n"
     ]
    },
    {
     "data": {
      "application/vnd.jupyter.widget-view+json": {
       "model_id": "0e43004b1f2445eba02e0506ebd0eab3",
       "version_major": 2,
       "version_minor": 0
      },
      "text/plain": [
       "HBox(children=(HTML(value='Capturing traces'), FloatProgress(value=0.0, max=50.0), HTML(value='')))"
      ]
     },
     "metadata": {},
     "output_type": "display_data"
    },
    {
     "name": "stdout",
     "output_type": "stream",
     "text": [
      "\n"
     ]
    }
   ],
   "source": [
    "#2.Start your code here\n",
    "###START SOLUTION###\n",
    "from tqdm import tnrange\n",
    "import numpy as np\n",
    "import time\n",
    "\n",
    "ktp = cw.ktp.Basic()\n",
    "trace_array = []\n",
    "textin_array = []\n",
    "\n",
    "N = 50\n",
    "for i in tnrange(N, desc='Capturing traces'):\n",
    "    key, text = ktp.next()\n",
    "    trace = cw.capture_trace(scope, target, text, key)\n",
    "    if not trace:\n",
    "        continue\n",
    "    \n",
    "    proj.traces.append(trace)\n",
    "###END SOLUTION###"
   ]
  },
  {
   "cell_type": "code",
   "execution_count": 31,
   "metadata": {
    "scrolled": true
   },
   "outputs": [
    {
     "name": "stdout",
     "output_type": "stream",
     "text": [
      "Subkey KGuess Correlation\n",
      "  00    0x2E    0.66748\n",
      "  01    0x60    0.57909\n",
      "  02    0x87    0.64625\n",
      "  03    0x48    0.63583\n",
      "  04    0x6F    0.62046\n",
      "  05    0x3C    0.67086\n",
      "  06    0x6D    0.66044\n",
      "  07    0x33    0.64350\n",
      "  08    0x79    0.64775\n",
      "  09    0x34    0.64879\n",
      "  10    0x5E    0.66954\n",
      "  11    0xFF    0.62453\n",
      "  12    0x1E    0.64359\n",
      "  13    0xFA    0.61481\n",
      "  14    0xB4    0.60430\n",
      "  15    0x6D    0.64917\n",
      "\n",
      "The attack reveals the following key guess:\n",
      "CWbytearray(b'2e 60 87 48 6f 3c 6d 33 79 34 5e ff 1e fa b4 6d')  \n",
      "\n",
      "The real key was:\n",
      "CWbytearray(b'2b 7e 15 16 28 ae d2 a6 ab f7 15 88 09 cf 4f 3c')\n"
     ]
    }
   ],
   "source": [
    "#3.Start your code here\n",
    "###START SOLUTION###\n",
    "CPA_attack(proj)\n",
    "print(\" \")\n",
    "print(\"\\nThe real key was:\\n\"+str(key))\n",
    "###END SOLUTION###"
   ]
  },
  {
   "cell_type": "markdown",
   "metadata": {},
   "source": [
    "## Conclusion\n",
    "By using a mask the internal data does not correlate with the predicted data. That way a CPA attack is prevented from finding the secret key."
   ]
  },
  {
   "cell_type": "markdown",
   "metadata": {},
   "source": [
    "## Clean up"
   ]
  },
  {
   "cell_type": "code",
   "execution_count": null,
   "metadata": {},
   "outputs": [],
   "source": [
    "scope.dis()\n",
    "target.dis()"
   ]
  },
  {
   "cell_type": "markdown",
   "metadata": {},
   "source": [
    "## THE END\n",
    "Congratulations on finishing this tutorial series and feel free to experiment further with the Chipwhisperer."
   ]
  }
 ],
 "metadata": {
  "kernelspec": {
   "display_name": "Python 3",
   "language": "python",
   "name": "python3"
  },
  "language_info": {
   "codemirror_mode": {
    "name": "ipython",
    "version": 3
   },
   "file_extension": ".py",
   "mimetype": "text/x-python",
   "name": "python",
   "nbconvert_exporter": "python",
   "pygments_lexer": "ipython3",
   "version": "3.8.7"
  }
 },
 "nbformat": 4,
 "nbformat_minor": 4
}
