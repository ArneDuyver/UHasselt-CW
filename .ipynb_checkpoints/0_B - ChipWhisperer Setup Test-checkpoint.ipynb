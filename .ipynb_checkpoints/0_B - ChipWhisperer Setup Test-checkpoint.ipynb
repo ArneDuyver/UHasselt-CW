{
 "cells": [
  {
   "cell_type": "markdown",
   "metadata": {},
   "source": [
    "# ChipWhisperer Setup Test\n",
    "The following notebook can be used to quickly perform a test of your ChipWhisperer capture setup.\n",
    "\n",
    "If you have downloaded the ChipWhisperer virtual machine, you only need to test if you can connect to the hardware. The VM includes all required tools such as Python modules, compilers, etc. If you are installing \"Bare metal\", you will need to ensure the compiler and similar software tools are working to follow along with the tutorials.\n",
    "\n",
    "#### Prerequisites\n",
    "- [x] *START_HERE* notebook\n",
    "- [x] *0_A - Introduction to Jupyter Notebooks* notebook\n",
    "- [x] *chipWhisperer updating* notebook"
   ]
  },
  {
   "cell_type": "markdown",
   "metadata": {},
   "source": [
    "## Jupyter Setup\n",
    "Presumably you've already got Jupyter running! So that's a pretty good start. You can test that a few python imports are working by running the following, you shouldn't get any exceptions:"
   ]
  },
  {
   "cell_type": "code",
   "execution_count": null,
   "metadata": {},
   "outputs": [],
   "source": [
    "import chipwhisperer\n",
    "help(chipwhisperer)"
   ]
  },
  {
   "cell_type": "markdown",
   "metadata": {},
   "source": [
    "The following code should generate a plot - **NOTE: You may need to run this multiple times for some reason**"
   ]
  },
  {
   "cell_type": "code",
   "execution_count": null,
   "metadata": {},
   "outputs": [],
   "source": [
    "import matplotlib.pylab as plt\n",
    "plt.plot(range(0, 10))"
   ]
  },
  {
   "cell_type": "markdown",
   "metadata": {},
   "source": [
    "The following should generate an interactive plot"
   ]
  },
  {
   "cell_type": "code",
   "execution_count": null,
   "metadata": {},
   "outputs": [],
   "source": [
    "%matplotlib notebook\n",
    "import matplotlib.pylab as plt\n",
    "plt.plot(range(0, 10))"
   ]
  },
  {
   "cell_type": "markdown",
   "metadata": {},
   "source": [
    "## ChipWhisperer Hardware Test\n",
    "The following block will connect you to your ChipWhisperer board. Just plug the Chipwhisperer main board in via USB, this isn't testing the attached target board. If the ChipWhisperer communication is up, everything else should \"just work\" when talking to various targets.\n",
    "\n",
    "This should result in some text that says ``INFO: Found ChipWhisperer😍``"
   ]
  },
  {
   "cell_type": "code",
   "execution_count": null,
   "metadata": {},
   "outputs": [],
   "source": [
    "PLATFORM=\"NOTHING\"\n",
    "%run Setup_Scripts/Setup_Generic.ipynb"
   ]
  },
  {
   "cell_type": "markdown",
   "metadata": {},
   "source": [
    "We aren't going to use the hardware, so we should disconnect from it so it is dropped by this Python kernel. (If we dont disconnect using the lines of python code below, we will not be able to connect to the Chipwhisperer in another notebook)"
   ]
  },
  {
   "cell_type": "code",
   "execution_count": null,
   "metadata": {},
   "outputs": [],
   "source": [
    "scope.dis()\n",
    "target.dis()"
   ]
  },
  {
   "cell_type": "markdown",
   "metadata": {},
   "source": [
    "## Bash / Command-Line Test\n",
    "The following code will check if you have a working bash or command-line interface. We'll be using this for running the ``make``-command and other such commands."
   ]
  },
  {
   "cell_type": "code",
   "execution_count": null,
   "metadata": {},
   "outputs": [],
   "source": [
    "%%bash\n",
    "dir"
   ]
  },
  {
   "cell_type": "code",
   "execution_count": null,
   "metadata": {},
   "outputs": [],
   "source": [
    "!dir"
   ]
  },
  {
   "cell_type": "markdown",
   "metadata": {},
   "source": [
    "**Remember that Jupyter allows running commands on your system - so exposing the web interface can be dangerous! This is one reason ChipWhisperer-Install on Windows uses a Token by default, and the VM forces you to use the Jupyter server password. Unless you have port forwarding your firewall should prevent access remotely, but if using this on a hostile network be sure you have not opened the port!**"
   ]
  },
  {
   "cell_type": "markdown",
   "metadata": {},
   "source": [
    "## Compiler Testing\n",
    "If you'll be building source code, you need a working Make system. First check you can run `make` - this should give you the normal output of information about the current version."
   ]
  },
  {
   "cell_type": "code",
   "execution_count": 1,
   "metadata": {},
   "outputs": [
    {
     "name": "stdout",
     "output_type": "stream",
     "text": [
      "GNU Make 4.2.1\n",
      "Built for Windows32\n",
      "Copyright (C) 1988-2016 Free Software Foundation, Inc.\n",
      "License GPLv3+: GNU GPL version 3 or later <http://gnu.org/licenses/gpl.html>\n",
      "This is free software: you are free to change and redistribute it.\n",
      "There is NO WARRANTY, to the extent permitted by law.\n"
     ]
    }
   ],
   "source": [
    "!make --version"
   ]
  },
  {
   "cell_type": "markdown",
   "metadata": {},
   "source": [
    "We are using a ChipWhisperer-Lite Classic (with XMEGA Target) so we need the `avr-gcc` compiler:\n",
    "Check for the working compiler with the following code block, which should print the version and build information:"
   ]
  },
  {
   "cell_type": "code",
   "execution_count": null,
   "metadata": {},
   "outputs": [],
   "source": [
    "!avr-gcc -v"
   ]
  },
  {
   "cell_type": "markdown",
   "metadata": {},
   "source": [
    "## Conclusions\n",
    "\n",
    "That's it! We've got a working ChipWhisperer system now. There are a few packages used in specific tutorials that could still be missing if you've done your own install, but the above should have validated all important system settings."
   ]
  },
  {
   "cell_type": "markdown",
   "metadata": {},
   "source": [
    "## Next step\n",
    "Now we know the hardware should be working correctly and that all necessary compilers are installed. In the next tutorial we will see how to flash firmware to the target device and how to communicate with the chipwhisperer using python.\n",
    "\n",
    "**Next notebook click here: [0_C - Connecting to Hardware.ipynb](./0_C%20-%20Connecting%20to%20Hardware.ipynb)**"
   ]
  }
 ],
 "metadata": {
  "kernelspec": {
   "display_name": "Python 3",
   "language": "python",
   "name": "python3"
  },
  "language_info": {
   "codemirror_mode": {
    "name": "ipython",
    "version": 3
   },
   "file_extension": ".py",
   "mimetype": "text/x-python",
   "name": "python",
   "nbconvert_exporter": "python",
   "pygments_lexer": "ipython3",
   "version": "3.8.7"
  }
 },
 "nbformat": 4,
 "nbformat_minor": 2
}
