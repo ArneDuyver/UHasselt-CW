{
 "cells": [
  {
   "cell_type": "markdown",
   "metadata": {},
   "source": [
    "# UHasselt Chipwhisperer tutorial \n",
    "\n",
    "## Overview of the courses\n",
    "\n",
    "In the following tutorials we will firstly learn how to use Jupyter notebooks, see how we can update or reset the notebooks and how to connect to the Chipwhisperer hardware. We will also see how to compile and flash firmware to the target.\n",
    "\n",
    "Next we will introduce some encryption concepts and talk about side channel analysis attacks and more specific power analysis attacks which we will need later. \n",
    "The first type of encryption we will try to crack is an asymmetric type of encryption called RSA. To try and crack the encryption some theoretical backround about the algorithm is needed.\n",
    "Afterwards we will look at a symmetric encryption algorithm called AES. Again some theoretical aspects will be covered before trying to crack the algorithm.\n",
    "(more information about how these attacks will be executed can be found in the respective notebooks)\n",
    "\n",
    "Lastly we will look at the source code of the algorithms and try to implement software countermeasures to the attacks we performed.\n",
    "\n",
    "### Structure of the notebooks\n",
    "Every notebook contains a *Prerequisites* section which states what notebooks need to be completed before you can follow along with the new content. In the *Goals* section a list of goals is presented that we try to accomplish in the notebook. Somtimes theoretical background is needed to understand the contents of the notebook, that information will be addressed in the *Theory* sections. Last but certainly not least is the *Main* section where we will build up the side channel analysis attacks and will write the most code. Sometimes a *Supplementary reading* section will be added that contains links to usefull documentation regarding the content of the notebook>\n",
    "\n",
    "### Recommended academic background\n",
    "The folowing list contains topics that will be addressed throughout the tutorials. In order to follow along it is best to have some basic understanding of these topics (listed from most important to least):\n",
    "1. Programming in general\n",
    "2. Programming in python\n",
    "3. Basics of analog and digital electronics\n",
    "4. Terminal commands/bash scripting\n",
    "5. Programming in C (addresses, pointers ...)\n",
    "\n",
    "### The next step\n",
    "As mentioned before, the next step is to show you how to use Jupyter notebooks. [Click here to open the next notebook in this tutorial series. (0_A - Introduction to Jupyter Notebooks.ipynb)](./0_A%20-%20Introduction%20to%20Jupyter%20Notebooks.ipynb)\n",
    "\n",
    "**!IMPORTANT:** \n",
    "* **you can also follow along with the tutorials without the Chipwhisperer hardware. If you want to do so, you need to open the directory *simulations* or [click here (./simulations/START_HERE(SIMULATED).ipynb)](./simulations/START_HERE(SIMULATED).ipynb) to open the correct notebook to open next.**\n",
    "* **Whenever a file location is referenced in a notebook the location will be given as a relative path relative to the location of the notebook itself**\n",
    "\n",
    "### Extra\n",
    "*To get an overview of all folders, notebooks and their contents [click here (notebooks_overview.ipynb)](./notebooks_overview.ipynb)*"
   ]
  }
 ],
 "metadata": {
  "kernelspec": {
   "display_name": "Python 3",
   "language": "python",
   "name": "python3"
  },
  "language_info": {
   "codemirror_mode": {
    "name": "ipython",
    "version": 3
   },
   "file_extension": ".py",
   "mimetype": "text/x-python",
   "name": "python",
   "nbconvert_exporter": "python",
   "pygments_lexer": "ipython3",
   "version": "3.8.7"
  }
 },
 "nbformat": 4,
 "nbformat_minor": 4
}
