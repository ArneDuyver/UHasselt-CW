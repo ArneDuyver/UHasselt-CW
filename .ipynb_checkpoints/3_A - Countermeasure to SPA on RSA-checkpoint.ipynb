{
 "cells": [
  {
   "cell_type": "markdown",
   "metadata": {},
   "source": [
    "# Countermeasure to SPA on RSA\n",
    "In the previous notebook series you learned how to crack different types of encryption algorithms. Now it's time to think about how to implement the algorithms in a way that prevents people for using those attacks succesfully.\n",
    "In this notebook you will learn how to take a simple countermeasure against a simple power analysis attack on the RSA encryption system.\n",
    "\n",
    "**Goals:**\n",
    "* Learn how to \"invent\" a countermeasure against a SPA against RSA.\n",
    "* Implement that countermeasure in the source code. \n",
    "* Try a SPA on our newly implemented SPA and watch it fail.\n",
    "\n",
    "#### Prerequisites\n",
    "- [x] *0_series* notebooks \n",
    "- [x] *1_series* notebooks\n",
    "- [x] *2_series* notebooks"
   ]
  },
  {
   "cell_type": "markdown",
   "metadata": {},
   "source": [
    "## Coming up with a simple countermeasure\n",
    "\n",
    "Let's shortly cover how and why an SPA works. The SPA takes advantage of the fact that in order for the target to perform an exponential operation it goes through a for-loop. When the bit of the exponent is a `1` an extra instruction will be performed by the microcontroller. Lookiing at the power consumtion of the target we can find out when a pass through the for-loop starts. By measuring the time between each pass we can seperate the passes into two groups: passes through the for-loop that are short and passes that take longer. If a pass through the for-loop was long then the bit provided by the exponential number was a `1`. Similarly a short pass corresponds to a `0` bit. The exponent that is used is the secret key of the endcryption/decryption algorithm. By analysing the powerconsumption we could directly recover the secret key.\n",
    "\n",
    "Now you need to try and figure out how we can implement a countermeasure. First of all let's define the place of weakness in the implementation: the different length of each pass through the for-loop. So our objective will be to make each pass through the for-loop the same length regardles of the bitvalue of the exponent. As we have seen in notebook `1_B - Attack on RSA` there is an `if-statement` inside the for-loop that runs extra code:\n",
    "```C\n",
    "if(t & (1<<(8-1))){\n",
    "    bigint_mul_u(&res, &res, &base);\n",
    "    bigint_reduce(&res, r);\n",
    "}\n",
    "```\n",
    "Now there is quiet a simple solution to making the passes the same length. I'll let you think about it for a couple seconds...\n",
    "\n",
    "...\n",
    "\n",
    "...\n",
    "\n",
    "...\n",
    "\n",
    "...\n",
    "\n",
    "...\n",
    "\n",
    "Maybe we can just add an `else` to the `if-statement` so that regardless of the value of the bit some instructions will be performed. Now we only need to figure out what instruction we should perform there. The most obvious thing would be to do perform the exact same instrustions as in the `if-statement`. Since what we do in the `else` statement has nothing to do with workings of RSA itself we will need to use some dummy data however. We could use some randomly generated values used in the instructions, but to make it resemble the `if` part even more we can use the exact same values. We have to make sure to use copied values because of what we said earlier.\n",
    "And voila, you successfully \"invented\" a countermeasure to SPA. The next step is to implement the changes in the source code and test our idea."
   ]
  },
  {
   "cell_type": "markdown",
   "metadata": {},
   "source": [
    "## Implementing the countermeasure in the source code\n",
    "\n",
    "Firstly, we will attack the RSA without the countermeasure in order to compare our results later on. Run the next couple of codeblocks to compile the firmware, program the target and run the attack. (To make it easy for you to perform the attack seen in `1_B - Attack on RSA` we turned it into a fuction where the parameters are the different values you needed to tweak to be succesfull)\n",
    "As before make sure the faulty fuctions are commented out in the source code:\n",
    "```C\n",
    "    #if SS_VER != SS_VER_2_0\n",
    "    //simpleserial_addcmd('1', 0,  sig_chunk_1);\n",
    "    //simpleserial_addcmd('2', 0,  sig_chunk_2);\n",
    "    #endif\n",
    "```\n",
    "Click [here](http://localhost:8888/edit/chipwhisperer/hardware/victims/firmware/simpleserial-rsa/simpleserial-rsa.c) to open the source file. (don't forget to save)"
   ]
  },
  {
   "cell_type": "code",
   "execution_count": null,
   "metadata": {},
   "outputs": [],
   "source": [
    "SCOPETYPE = 'OPENADC'\n",
    "PLATFORM = 'CWLITEXMEGA'\n",
    "CRYPTO_TARGET = 'AVRCRYPTOLIB'"
   ]
  },
  {
   "cell_type": "code",
   "execution_count": null,
   "metadata": {},
   "outputs": [],
   "source": [
    "%run \"Setup_Scripts/Setup_Generic.ipynb\""
   ]
  },
  {
   "cell_type": "code",
   "execution_count": null,
   "metadata": {},
   "outputs": [],
   "source": [
    "%%bash -s \"$PLATFORM\" \"$CRYPTO_TARGET\"\n",
    "cd ../../chipwhisperer/hardware/victims/firmware/simpleserial-rsa\n",
    "make PLATFORM=$1 CRYPTO_TARGET='AVRCRYPTOLIB'"
   ]
  },
  {
   "cell_type": "code",
   "execution_count": null,
   "metadata": {},
   "outputs": [],
   "source": [
    "cw.program_target(scope, prog, '../../chipwhisperer/hardware/victims/firmware/simpleserial-rsa/simpleserial-rsa-CWLITEXMEGA.hex')"
   ]
  },
  {
   "cell_type": "code",
   "execution_count": null,
   "metadata": {},
   "outputs": [],
   "source": [
    "scope.clock.adc_src = \"clkgen_x1\"\n",
    "scope.adc.samples = 24000\n",
    "\n",
    "%matplotlib notebook\n",
    "import matplotlib.pylab as plt\n",
    "\n",
    "def capture_RSA_trace(scope, target, text):\n",
    "    # arm the CW scope to start recording power consumption\n",
    "    scope.arm()\n",
    "    # send the input text to the target\n",
    "    target.simpleserial_write('p', text)\n",
    "    # capture a power measurement\n",
    "    ret = scope.capture()\n",
    "    if ret:\n",
    "        return None\n",
    "    target.simpleserial_wait_ack()\n",
    "    # all 24000 traces are collected\n",
    "    \n",
    "    # return the array of power measurements\n",
    "    return scope.get_last_trace()\n",
    "\n",
    "text = bytearray([0, 0, 0, 0, 0, 0, 0, 0, 0, 0, 0, 0, 0, 0, 0x0B, 0x04])\n",
    "# 0xB04 = 0b1011 0000 0100\n",
    "trace = capture_RSA_trace(scope, target, text)"
   ]
  },
  {
   "cell_type": "code",
   "execution_count": null,
   "metadata": {},
   "outputs": [],
   "source": [
    "%matplotlib notebook\n",
    "import matplotlib.pylab as plt\n",
    "import numpy as np\n",
    "\n",
    "def SAD(array1, array2):\n",
    "    diff = array1-array2\n",
    "    return np.sum(abs(diff))\n",
    "    \n",
    "def sad_sweep(trace,signature):\n",
    "    sad_result = np.array([])\n",
    "    for i in range(len(trace)-len(signature)+1):\n",
    "        sad_value = SAD(signature, trace[i:i+len(signature)])\n",
    "        sad_result = np.append(sad_result,sad_value)\n",
    "    return sad_result\n",
    "\n",
    "def spa_attack(trace,start_index,end_index,threshold,threshold2,final_bit_guess):\n",
    "    plt.figure()\n",
    "    plt.plot(trace, 'r')\n",
    "    plt.show()\n",
    "    signature = trace[start_index:end_index]\n",
    "    sad_sweep_results = sad_sweep(trace,signature)\n",
    "    plt.figure()\n",
    "    plt.plot(sad_sweep_results, 'b')\n",
    "    plt.show()\n",
    "    positions = np.array([])\n",
    "\n",
    "    for i in range(len(sad_sweep_results)-1):\n",
    "        if(sad_sweep_results[i] < threshold):\n",
    "            positions = np.append(positions,i)\n",
    "\n",
    "    intervals = []\n",
    "    for i in range(0, len(positions)-1):\n",
    "        interval = positions[i+1] - positions[i]\n",
    "        intervals.append(interval)\n",
    "    plt.figure()\n",
    "    plt.plot(intervals, range(0, len(intervals)), 'or')\n",
    "    plt.grid(True)\n",
    "    plt.title('A Learned Comparison of RSA Execution Time')\n",
    "    plt.ylabel('Processing Bit Number')\n",
    "    plt.xlabel('Time Delta (based on SAD Match)')\n",
    "    plt.show()\n",
    "    \n",
    "    key = \"\"\n",
    "\n",
    "    for i in range(0, len(intervals)):\n",
    "        if intervals[i] > threshold2:\n",
    "            key += \"1\"\n",
    "        else:\n",
    "            key += \"0\"\n",
    "    key += final_bit_guess # maybe this is not correct but it is only 1 bit. So if '0' doesn't work the right answer is '1'\n",
    "\n",
    "    print(key)\n",
    "    print(\"I think the real key is : \" + hex(int(key,2)))"
   ]
  },
  {
   "cell_type": "code",
   "execution_count": null,
   "metadata": {
    "scrolled": false
   },
   "outputs": [],
   "source": [
    "spa_attack(trace,9200,9600,10,800,\"0\")\n",
    "print(\"The real key was: \"+str(text))"
   ]
  },
  {
   "cell_type": "markdown",
   "metadata": {},
   "source": [
    "Ok now that we see our attack still works, let's modify the source code the prevent us from cracking it! Open the correct source file by clicking [here](http://localhost:8888/edit/chipwhisperer/hardware/victims/firmware/simpleserial-rsa/simpleserial-rsa-xmega.c). Modify the file so that is looks like the code below. The edited parts are wrapped by the comments `//START EDIT` and `//END EDIT`:\n",
    "```C\n",
    "uint8_t get_pt(uint8_t * pt, uint8_t len)\n",
    "{\n",
    "\tuint8_t flag = 0;\n",
    "\n",
    "    const bigint_t* r = &(priv_key.components[0]);\n",
    "    const bigint_t* a = ENCRYPTED;\n",
    "\n",
    "    bigint_t res, base;\n",
    "    \n",
    "\tbigint_word_t t, base_b[MAX(a->length_B,r->length_B)], res_b[r->length_B*2];\n",
    "\tuint16_t i;\n",
    "\tuint8_t j;\n",
    "\tres.wordv = res_b;\n",
    "\tbase.wordv = base_b;\n",
    "\tbigint_copy(&base, a);\n",
    "\tbigint_reduce(&base, r);\n",
    "\tres.wordv[0]=1;\n",
    "\tres.length_B=1;\n",
    "\tres.info = 0;\n",
    "\tbigint_adjust(&res);\n",
    "    \n",
    "    //START EDIT\n",
    "    bigint_t r2;\n",
    "    bigint_t res2;\n",
    "    bigint_t base2;\n",
    "    bigint_copy(&base2, &base);\n",
    "    bigint_copy(&res2, &res);\n",
    "    const bigint_t* r2pt = &(r2);\n",
    "    //END EDIT\n",
    "\n",
    "    trigger_high();\n",
    "\n",
    "\n",
    "\tfor(i = 0; i < 16; i++) {\n",
    "\n",
    "\t\t//t = exp->wordv[i - 1];\n",
    "        t = pt[i];\n",
    "\n",
    "\t\tfor(j=8; j > 0; --j){\n",
    "\t\t\tif(!flag){\n",
    "\t\t\t\tif(t & (1<<(8-1))){\n",
    "\t\t\t\t\tflag = 1;\n",
    "\t\t\t\t}\n",
    "\t\t\t}\n",
    "\t\t\tif(flag){\n",
    "\t\t\t\tbigint_square(&res, &res);\n",
    "\t\t\t\tbigint_reduce(&res, r);\n",
    "\t\t\t\tif(t & (1<<(8-1))){\n",
    "\t\t\t\t\tbigint_mul_u(&res, &res, &base);\n",
    "\t\t\t\t\tbigint_reduce(&res, r);\n",
    "\t\t\t\t}\n",
    "                //START EDIT\n",
    "                else{\n",
    "                    bigint_mul_u(&res2, &res2, &base2);\n",
    "\t\t\t\t\tbigint_reduce(&res2, r2pt);\n",
    "                }\n",
    "                //END EDIT\n",
    "\t\t\t}\n",
    "\t\t\tt<<=1;\n",
    "\t\t}\n",
    "\t}\n",
    "\n",
    "    trigger_low();\n",
    "\n",
    "    return 0;\n",
    "}\n",
    "```\n",
    "\n",
    "As you can clearly see above, we firsly copy the values that will be used in the `if-statement` into 3 new variables: `res2`,`base2` and `r2pt`. We then later use these dummy variables to execute the same instructions as in the `if` part in the newly created `else` part. The following code blocks recompile the firmware and flash the new RSA onto the target. \n",
    "(Again don't forget to save the source file before recompiling)"
   ]
  },
  {
   "cell_type": "code",
   "execution_count": null,
   "metadata": {},
   "outputs": [],
   "source": [
    "%%bash -s \"$PLATFORM\" \"$CRYPTO_TARGET\"\n",
    "cd ../../chipwhisperer/hardware/victims/firmware/simpleserial-rsa\n",
    "make PLATFORM=$1 CRYPTO_TARGET='AVRCRYPTOLIB'"
   ]
  },
  {
   "cell_type": "code",
   "execution_count": null,
   "metadata": {},
   "outputs": [],
   "source": [
    "cw.program_target(scope, prog, '../../chipwhisperer/hardware/victims/firmware/simpleserial-rsa/simpleserial-rsa-CWLITEXMEGA.hex')"
   ]
  },
  {
   "cell_type": "markdown",
   "metadata": {},
   "source": [
    "## Attacking our newly implemented code\n",
    "\n",
    "Finally try to attack the new firmware to find the hidden key. Obviously you need to tweak the parameters of the attack function again using the generated plots. Rerun the attack a couple of times and try some values that will help you crack the key. "
   ]
  },
  {
   "cell_type": "code",
   "execution_count": null,
   "metadata": {},
   "outputs": [],
   "source": [
    "text = bytearray([0, 0, 0, 0, 0, 0, 0, 0, 0, 0, 0, 0, 0, 0, 0x0B, 0x04])\n",
    "# 0xB04 = 0b1011 0000 0100\n",
    "trace = capture_RSA_trace(scope, target, text)\n",
    "#plt.plot(trace, 'r')"
   ]
  },
  {
   "cell_type": "code",
   "execution_count": null,
   "metadata": {
    "scrolled": false
   },
   "outputs": [],
   "source": [
    "spa_attack(trace,9200,9600,10,800,\"0\")\n",
    "print(\"The real key was: \"+str(text))"
   ]
  },
  {
   "cell_type": "markdown",
   "metadata": {},
   "source": [
    "Sadly as you have noticed, the timing of every pass through the for-loop is too similar now. We can't find usefull thresholds to perform a succesful attack. \n",
    "\n",
    "**SUCCES?**\n",
    "\n",
    "You may have come close by choosing some good parameters but looking at the plots you see that the timings are super close together. So close in fact that the minor differences in timing can be caused by noise.\n",
    "\n",
    "## Improving the countermeasure even more\n",
    "Should you still not be satisfied with our countermeasure, we can improve it with another technique. Right before we go to the if statement we generate a random byte. We then run a for loop based on that random value. The length of every pass through the for-loop is now increased by a random amount which makes it harder to compare loop times:\n",
    "\n",
    "```C\n",
    "//START EDIT\n",
    "uint8_t * random;\n",
    "*random = rand();\n",
    "for (volatile uint8_t k = 0; k < (*random & 0x0F); k++);\n",
    "//END EDIT\n",
    "\n",
    "if(t & (1<<(8-1))){\n",
    "    bigint_mul_u(&res, &res, &base);\n",
    "    bigint_reduce(&res, r);\n",
    "}\n",
    "//START EDIT\n",
    "else{\n",
    "    bigint_mul_u(&res2, &res2, &base2);\n",
    "    bigint_reduce(&res2, r2pt);\n",
    "}\n",
    "//END EDIT\n",
    "```\n",
    "\n",
    "If you want to you can try this out in the code block below, but this won't be covered in detail in this notebook (you can use the `+`-buttom in the navigation bar to add codeblocks yourself)."
   ]
  },
  {
   "cell_type": "code",
   "execution_count": null,
   "metadata": {},
   "outputs": [],
   "source": [
    "#You can write some code here if you want."
   ]
  },
  {
   "cell_type": "markdown",
   "metadata": {},
   "source": [
    "## Clean up"
   ]
  },
  {
   "cell_type": "code",
   "execution_count": null,
   "metadata": {},
   "outputs": [],
   "source": [
    "scope.dis()\n",
    "target.dis()"
   ]
  },
  {
   "cell_type": "markdown",
   "metadata": {},
   "source": [
    "## Next step\n",
    "Now you know or can:\n",
    "* come up with a countermeasure\n",
    "* implement the countermeasure in the source code\n",
    "\n",
    "In this notebook we were succesful at coming up and implementing a countermeasure against SPA for RSA. In the next notebook we will try to do the same for CPA that attacks AES...\n",
    "\n",
    "**Next notebook click here: [3_B - Countermeasure to DPA and CPA on AES.ipynb](./3_B%20-%20Countermeasure%20to%20DPA%20and%20CPA%20on%20AES.ipynb)**\n"
   ]
  },
  {
   "cell_type": "code",
   "execution_count": null,
   "metadata": {},
   "outputs": [],
   "source": []
  }
 ],
 "metadata": {
  "kernelspec": {
   "display_name": "Python 3",
   "language": "python",
   "name": "python3"
  },
  "language_info": {
   "codemirror_mode": {
    "name": "ipython",
    "version": 3
   },
   "file_extension": ".py",
   "mimetype": "text/x-python",
   "name": "python",
   "nbconvert_exporter": "python",
   "pygments_lexer": "ipython3",
   "version": "3.8.7"
  }
 },
 "nbformat": 4,
 "nbformat_minor": 4
}
