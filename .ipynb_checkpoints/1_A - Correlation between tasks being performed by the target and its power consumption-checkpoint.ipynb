{
 "cells": [
  {
   "cell_type": "markdown",
   "metadata": {},
   "source": [
    "# Correlation between tasks being performed by the target and its power consumption\n",
    "In this course we will use the `Simple serial` firmware to show how the power consumption in a microcontroller will depend on the kind or instructions it is performing.\n",
    "\n",
    "**Goals:**\n",
    "* Capturing a power trace with ChipWhisperer\n",
    "* Making connections between various simple instructions and power traces\n",
    "\n",
    "#### Prerequisites\n",
    "- [x] *0_series* notebooks"
   ]
  },
  {
   "cell_type": "markdown",
   "metadata": {},
   "source": [
    "## Setup\n",
    "In order to make the target perform different instructions, we are going to hardcode those instructions into its source code. To make sure we don't mess with the original source code of the `Simple serial` firmware we are going to copy all the files first. The following bash block will create a new directory and copy the `simpleserial-base` code into it:"
   ]
  },
  {
   "cell_type": "code",
   "execution_count": null,
   "metadata": {},
   "outputs": [],
   "source": [
    "%%bash\n",
    "cd ../../chipwhisperer/hardware/victims/firmware/\n",
    "mkdir -p simpleserial-base-test1A && cp -r simpleserial-base/* $_\n",
    "cd simpleserial-base-test1A"
   ]
  },
  {
   "cell_type": "markdown",
   "metadata": {},
   "source": [
    "### Defining parameters, building firmware and connecting to CW\n",
    "Next up is defining the correct parameters for our target board, building the firmware and connecting to the chipwhisperer hardware (by specifying `CRYPTO_TARGET=NONE`, we are not programming an encryption algorithm onto the target):"
   ]
  },
  {
   "cell_type": "code",
   "execution_count": null,
   "metadata": {},
   "outputs": [],
   "source": [
    "SCOPETYPE = 'OPENADC'\n",
    "PLATFORM = 'CWLITEXMEGA'"
   ]
  },
  {
   "cell_type": "code",
   "execution_count": null,
   "metadata": {},
   "outputs": [],
   "source": [
    "%%bash -s \"$PLATFORM\"\n",
    "cd ../../chipwhisperer/hardware/victims/firmware/simpleserial-base-test1A\n",
    "make PLATFORM=$1 CRYPTO_TARGET=NONE"
   ]
  },
  {
   "cell_type": "code",
   "execution_count": null,
   "metadata": {},
   "outputs": [],
   "source": [
    "import chipwhisperer as cw\n",
    "try:\n",
    "    if not scope.connectStatus:\n",
    "        scope.con()\n",
    "except NameError:\n",
    "    scope = cw.scope()\n",
    "   \n",
    "try:\n",
    "    target = cw.target(scope)\n",
    "except IOError:\n",
    "    print(\"INFO: Caught exception on reconnecting to target - attempting to reconnect to scope first.\")\n",
    "    print(\"INFO: This is a work-around when USB has died without Python knowing. Ignore errors above this line.\")\n",
    "    scope = cw.scope()\n",
    "    target = cw.target(scope)\n",
    "\n",
    "print(\"INFO: Found ChipWhisperer😍\")\n",
    "\n",
    "if \"STM\" in PLATFORM or PLATFORM == \"CWLITEARM\" or PLATFORM == \"CWNANO\":\n",
    "    prog = cw.programmers.STM32FProgrammer\n",
    "elif PLATFORM == \"CW303\" or PLATFORM == \"CWLITEXMEGA\":\n",
    "    prog = cw.programmers.XMEGAProgrammer\n",
    "else:\n",
    "    prog = None\n",
    "    \n",
    "import time\n",
    "time.sleep(0.05)\n",
    "scope.default_setup()\n",
    "def reset_target(scope):\n",
    "    if PLATFORM == \"CW303\" or PLATFORM == \"CWLITEXMEGA\":\n",
    "        scope.io.pdic = 'low'\n",
    "        time.sleep(0.05)\n",
    "        scope.io.pdic = 'high_z' #XMEGA doesn't like pdic driven high\n",
    "        time.sleep(0.05)\n",
    "    else:  \n",
    "        scope.io.nrst = 'low'\n",
    "        time.sleep(0.05)\n",
    "        scope.io.nrst = 'high_z'\n",
    "        time.sleep(0.05)"
   ]
  },
  {
   "cell_type": "markdown",
   "metadata": {},
   "source": [
    "The code block which holds the code to connect to the ChipWhisperer and check the connection is quite large. Therefore we put all of this code in a helper script so we can run that helper script from whitin a notebook by just using one line of code. (As you will see in later tutorials)"
   ]
  },
  {
   "cell_type": "markdown",
   "metadata": {},
   "source": [
    "### Uploading the firmware to the target device\n",
    "This can easily be done as we have already done once before:"
   ]
  },
  {
   "cell_type": "code",
   "execution_count": null,
   "metadata": {},
   "outputs": [],
   "source": [
    "cw.program_target(scope, prog, \"../../chipwhisperer/hardware/victims/firmware/simpleserial-base-test1A/simpleserial-base-{}.hex\".format(PLATFORM))"
   ]
  },
  {
   "cell_type": "markdown",
   "metadata": {},
   "source": [
    "### Capturing a power trace\n",
    "In order to capture and plot a power trace like we did last time, we will define a function so that we dont need to copy those lines of code everytime:"
   ]
  },
  {
   "cell_type": "code",
   "execution_count": null,
   "metadata": {},
   "outputs": [],
   "source": [
    "%matplotlib notebook\n",
    "import matplotlib.pylab as plt\n",
    "\n",
    "def capture_plot_trace():\n",
    "    scope.arm()\n",
    "    msg = bytearray([0]*16)\n",
    "    target.simpleserial_write('p', msg)\n",
    "    scope.capture()\n",
    "    trace = scope.get_last_trace()\n",
    "    plt.figure()\n",
    "    plt.plot(trace, 'r')\n",
    "    plt.show()\n",
    "    return trace\n",
    "\n",
    "capture_plot_trace()"
   ]
  },
  {
   "cell_type": "markdown",
   "metadata": {},
   "source": [
    "As you can tell from the graph above, the microcontroller does not seem to be doing a lot. To change this we dive into the source code of simple_serial and we add some nonesense instructions. "
   ]
  },
  {
   "cell_type": "markdown",
   "metadata": {},
   "source": [
    "## Changing the Simple serial base source code\n",
    "To start off, let's insert some simple instructions to see if they're visible in the power trace. We're mostly looking for an instruction that executes in a single cycle.\n",
    "\n",
    "To open the source file we just created (by copying the simple-serial-base directory) [click here](http://localhost:8888/edit/chipwhisperer/hardware/victims/firmware/simpleserial-base-test1A/simpleserial-base.c). You can edit the file right in the browser."
   ]
  },
  {
   "cell_type": "markdown",
   "metadata": {},
   "source": [
    "Find this part of the code:\n",
    "\n",
    "```C\n",
    "    #if SS_VER == SS_VER_2_0\n",
    "    uint8_t get_pt(uint8_t cmd, uint8_t scmd, uint8_t len, uint8_t* pt)\n",
    "    #else\n",
    "    uint8_t get_pt(uint8_t* pt, uint8_t len)\n",
    "    #endif\n",
    "\n",
    "    {\n",
    "        /**********************************\n",
    "        * Start user-specific code here. */\n",
    "        trigger_high();\n",
    "\n",
    "        //16 hex bytes held in 'pt' were sent\n",
    "        //from the computer. Store your response\n",
    "        //back into 'pt', which will send 16 bytes\n",
    "        //back to computer. Can ignore of course if\n",
    "        //not needed\n",
    "\n",
    "        trigger_low();\n",
    "        /* End user-specific code here. *\n",
    "        ********************************/\n",
    "        simpleserial_put('r', 16, pt);\n",
    "        return 0x00;\n",
    "    }\n",
    "```\n",
    "\n",
    "**Insert the following code right before the line `simpleserial_put('r', 16, pt);`**\n",
    "\n",
    "```C\n",
    "\n",
    "\tvolatile long int A = 0x2BAA;\n",
    "\tA += 2;\n",
    "\tA += 2;\n",
    "\tA += 2;\n",
    "\tA += 2;\n",
    "\tA += 2;\n",
    "\t\n",
    "\tA += 2;\n",
    "\tA += 2;\n",
    "\tA += 2;\n",
    "\tA += 2;\n",
    "\tA += 2;\n",
    "\n",
    "\tA += 2;\n",
    "\tA += 2;\n",
    "\tA += 2;\n",
    "\tA += 2;\n",
    "\tA += 2;\n",
    "\t\n",
    "\tA += 2;\n",
    "\tA += 2;\n",
    "\tA += 2;\n",
    "\tA += 2;\n",
    "\tA += 2;\n",
    "```\n",
    "\n",
    "Now that we changed the source file, we need to recompile the firmware, reprogram the target with the new firmware and again capture a trace. (Run the next few code blocks to achieve this). **Don't forget to save the changed file (using the webbrowser editor) before recompiling!**"
   ]
  },
  {
   "cell_type": "code",
   "execution_count": null,
   "metadata": {},
   "outputs": [],
   "source": [
    "%%bash -s \"$PLATFORM\"\n",
    "cd ../../chipwhisperer/hardware/victims/firmware/simpleserial-base-test1A\n",
    "make PLATFORM=$1 CRYPTO_TARGET=NONE"
   ]
  },
  {
   "cell_type": "code",
   "execution_count": null,
   "metadata": {},
   "outputs": [],
   "source": [
    "cw.program_target(scope, prog, \"../../chipwhisperer/hardware/victims/firmware/simpleserial-base-test1A/simpleserial-base-{}.hex\".format(PLATFORM))"
   ]
  },
  {
   "cell_type": "code",
   "execution_count": null,
   "metadata": {},
   "outputs": [],
   "source": [
    "capture_plot_trace()"
   ]
  },
  {
   "cell_type": "markdown",
   "metadata": {},
   "source": [
    "You should see a different graph than you did before. Furthermore, you should see a pattern in the beginning of the trace that repeats approximately 20 times. You get 3 seconds to figure out what the cause of this repeating pattern could be ...\n",
    "\n",
    "1,2,3\n",
    "\n",
    "...of course it can be related to the same instruction `A += 2;` that we made the microcontroller perform 20 times.\n",
    "That doesn't seem that hard to understand but it is a fundamental part in understanding side-channel analysis attacks. We can learn sommething about the inner workings of a target by just monitoring its power consumption.\n",
    "\n",
    "#### let's mix it up a bit\n",
    "Every programmer knows that most of the times if we want to perform a piece of code 20 times we don't just copy the code 20 times. Try letting the target perform the same instructions but this time using a for loop. ([source file](http://localhost:8888/edit/chipwhisperer/hardware/victims/firmware/simpleserial-base-test1A/simpleserial-base.c#))"
   ]
  },
  {
   "cell_type": "markdown",
   "metadata": {},
   "source": [
    "###START SOLUTION###\n",
    "```C\n",
    "    volatile long int A = 0x2BAA;\n",
    "    for (int i = 0;i<20;i++){\n",
    "        A += 2;\n",
    "    }  \n",
    "\n",
    "```\n",
    "###END SOLUTION###"
   ]
  },
  {
   "cell_type": "markdown",
   "metadata": {},
   "source": [
    "Again, don't forget to save the chages and use the blocks below to see the results:"
   ]
  },
  {
   "cell_type": "code",
   "execution_count": null,
   "metadata": {},
   "outputs": [],
   "source": [
    "%%bash -s \"$PLATFORM\"\n",
    "cd ../../chipwhisperer/hardware/victims/firmware/simpleserial-base-test1A\n",
    "make PLATFORM=$1 CRYPTO_TARGET=NONE"
   ]
  },
  {
   "cell_type": "code",
   "execution_count": null,
   "metadata": {},
   "outputs": [],
   "source": [
    "cw.program_target(scope, prog, \"../../chipwhisperer/hardware/victims/firmware/simpleserial-base-test1A/simpleserial-base-{}.hex\".format(PLATFORM))"
   ]
  },
  {
   "cell_type": "code",
   "execution_count": null,
   "metadata": {},
   "outputs": [],
   "source": [
    "capture_plot_trace()"
   ]
  },
  {
   "cell_type": "markdown",
   "metadata": {},
   "source": [
    "**Notice that the trace is slighly different while we are still performing the same 20 additions. Also notice that the total amount of 'time' is takes to complete all 20 instructions is longer this time!**\n",
    "\n",
    "*-TIP: if you need to scroll a lot between the graphs, you can simply clear some output of the compile and program code blocks. Select the cell which output you want to clear and in the menu above select: `Cell -> Current Outputs -> Clear`*. Or select the block (blue border, not green) and press `o` to toggle the output on and off.\n",
    "\n",
    "The longer time can be explained by the extra overhead a microcontroller needs to perform to perform a for loop instead of just running 20 instructions after each other.\n",
    "\n",
    "#### More expensive instructions.\n",
    "Now that we have seen what the power consumtion of the target looks like when performing a simple instruction (can be performed in one clock cycle), let look at a more expensive instruction for the XMEGA. Change the instruction inside the for loop to this:\n",
    "```C\n",
    "    A = A*A;\n",
    "```\n",
    "\n",
    "And yet again save the file and use the following code blocks to compile, program, capture and plot:"
   ]
  },
  {
   "cell_type": "code",
   "execution_count": null,
   "metadata": {},
   "outputs": [],
   "source": [
    "%%bash -s \"$PLATFORM\"\n",
    "cd ../../chipwhisperer/hardware/victims/firmware/simpleserial-base-test1A\n",
    "make PLATFORM=$1 CRYPTO_TARGET=NONE"
   ]
  },
  {
   "cell_type": "code",
   "execution_count": null,
   "metadata": {},
   "outputs": [],
   "source": [
    "cw.program_target(scope, prog, \"../../chipwhisperer/hardware/victims/firmware/simpleserial-base-test1A/simpleserial-base-{}.hex\".format(PLATFORM))"
   ]
  },
  {
   "cell_type": "code",
   "execution_count": null,
   "metadata": {},
   "outputs": [],
   "source": [
    "capture_plot_trace()"
   ]
  },
  {
   "cell_type": "markdown",
   "metadata": {},
   "source": [
    "This time the instruction takes so long that the chipwhisperer wasn't able to capture all 20 instructions in 5000 power measurements.\n",
    "\n",
    "**HINT: In order to measure current, ChipWhisperer measures voltage drop across a shunt resistor. This means that the power trace is actually inverted (aka large negative swings are areas of higher power consumption).**"
   ]
  },
  {
   "cell_type": "markdown",
   "metadata": {},
   "source": [
    "## Clean up\n",
    "Run the next couple of blocks to delete the directory we created in the beginning of this notebook and to disconnect from the scope and the target."
   ]
  },
  {
   "cell_type": "code",
   "execution_count": null,
   "metadata": {},
   "outputs": [],
   "source": [
    "%%bash -s \"$PLATFORM\"\n",
    "cd ../../chipwhisperer/hardware/victims/firmware/\n",
    "rm -r 'simpleserial-base-test1A'"
   ]
  },
  {
   "cell_type": "code",
   "execution_count": null,
   "metadata": {},
   "outputs": [],
   "source": [
    "scope.dis()\n",
    "target.dis()"
   ]
  },
  {
   "cell_type": "markdown",
   "metadata": {},
   "source": [
    "## Next step\n",
    "Hopefully you now clearly understand that the instructions a target (microcontroller) performs correlates to the power consumption of the device. In the next lesson we will use this leakage of information to our advantage and find the hidden key of an asymmetric cryptographic algorithm.\n",
    "\n",
    "**Next notebook click here: [1_B - Attack on RSA.ipynb](1_B%20-%20Attack%20on%20RSA.ipynb)**\n"
   ]
  }
 ],
 "metadata": {
  "kernelspec": {
   "display_name": "Python 3",
   "language": "python",
   "name": "python3"
  },
  "language_info": {
   "codemirror_mode": {
    "name": "ipython",
    "version": 3
   },
   "file_extension": ".py",
   "mimetype": "text/x-python",
   "name": "python",
   "nbconvert_exporter": "python",
   "pygments_lexer": "ipython3",
   "version": "3.8.7"
  }
 },
 "nbformat": 4,
 "nbformat_minor": 4
}
