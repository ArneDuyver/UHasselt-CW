{
 "cells": [
  {
   "cell_type": "markdown",
   "metadata": {},
   "source": [
    "### Capturing a Power Trace\n",
    "In this section we will use some functions that are provided with the cw python module:\n",
    "* `ktp = cw.ktp.Basic()` : `ktp` will be an object that stores a byteArray of length 16 as a *key* and a byteArray of length 16 as *text*.\n",
    "*with `key, text = ktp.next()` we can store the values of those byte arrays into variables. The `.next()` makes it so that rerunning that command changes the `text` byteArray but not the `key` byteArray since the key is fixed by default."
   ]
  },
  {
   "cell_type": "code",
   "execution_count": 1,
   "metadata": {},
   "outputs": [
    {
     "ename": "NameError",
     "evalue": "name 'cw' is not defined",
     "output_type": "error",
     "traceback": [
      "\u001b[1;31m---------------------------------------------------------------------------\u001b[0m",
      "\u001b[1;31mNameError\u001b[0m                                 Traceback (most recent call last)",
      "\u001b[1;32m<ipython-input-1-e2ae1a5d9a35>\u001b[0m in \u001b[0;36m<module>\u001b[1;34m\u001b[0m\n\u001b[0;32m      1\u001b[0m \u001b[1;31m# An example that shows the workings of the aforemantioned functions\u001b[0m\u001b[1;33m\u001b[0m\u001b[1;33m\u001b[0m\u001b[1;33m\u001b[0m\u001b[0m\n\u001b[0;32m      2\u001b[0m \u001b[1;31m## make a key_text_pair_object\u001b[0m\u001b[1;33m\u001b[0m\u001b[1;33m\u001b[0m\u001b[1;33m\u001b[0m\u001b[0m\n\u001b[1;32m----> 3\u001b[1;33m \u001b[0mkey_text_pair_object\u001b[0m \u001b[1;33m=\u001b[0m \u001b[0mcw\u001b[0m\u001b[1;33m.\u001b[0m\u001b[0mktp\u001b[0m\u001b[1;33m.\u001b[0m\u001b[0mBasic\u001b[0m\u001b[1;33m(\u001b[0m\u001b[1;33m)\u001b[0m\u001b[1;33m\u001b[0m\u001b[1;33m\u001b[0m\u001b[0m\n\u001b[0m\u001b[0;32m      4\u001b[0m \u001b[1;31m## get the key value of the object and the 'next' text value\u001b[0m\u001b[1;33m\u001b[0m\u001b[1;33m\u001b[0m\u001b[1;33m\u001b[0m\u001b[0m\n\u001b[0;32m      5\u001b[0m \u001b[0mfixed_key\u001b[0m\u001b[1;33m,\u001b[0m \u001b[0mchanging_text\u001b[0m \u001b[1;33m=\u001b[0m \u001b[0mktp\u001b[0m\u001b[1;33m.\u001b[0m\u001b[0mnext\u001b[0m\u001b[1;33m(\u001b[0m\u001b[1;33m)\u001b[0m\u001b[1;33m\u001b[0m\u001b[1;33m\u001b[0m\u001b[0m\n",
      "\u001b[1;31mNameError\u001b[0m: name 'cw' is not defined"
     ]
    }
   ],
   "source": [
    "# An example that shows the workings of the aforemantioned functions\n",
    "## make a key_text_pair_object\n",
    "key_text_pair_object = cw.ktp.Basic()\n",
    "## get the key value of the object and the 'next' text value\n",
    "fixed_key, changing_text = ktp.next()\n",
    "print(\"This is the fixed key: \" + str(fixed_key))\n",
    "print(\"This is the changing text: \" + str(changing_text))\n",
    "\n",
    "## Notice that when we run '.next' again on the object \n",
    "## the value of key will stay the same but the value of text will have chaged\n",
    "fixed_key2, changing_text2 = ktp.next()\n",
    "print(\"This is the fixed key: \" + str(fixed_key2))\n",
    "print(\"This is the changing text: \" + str(changing_text2))"
   ]
  },
  {
   "cell_type": "markdown",
   "metadata": {},
   "source": [
    "The following is a short function to capture a power trace. We're using `cw.capture_trace()`, which is a short function to replace what we did last time. Check the `readthedocs` page for API documentation: https://chipwhisperer.readthedocs.io/"
   ]
  },
  {
   "cell_type": "code",
   "execution_count": 2,
   "metadata": {},
   "outputs": [],
   "source": [
    "def capture_trace(_ignored=None):\n",
    "    ktp = cw.ktp.Basic()\n",
    "    key, text = ktp.next()\n",
    "    return cw.capture_trace(scope, target, text).wave"
   ]
  },
  {
   "cell_type": "markdown",
   "metadata": {},
   "source": [
    "---\n"
   ]
  },
  {
   "cell_type": "code",
   "execution_count": null,
   "metadata": {},
   "outputs": [],
   "source": []
  }
 ],
 "metadata": {
  "kernelspec": {
   "display_name": "Python 3",
   "language": "python",
   "name": "python3"
  },
  "language_info": {
   "codemirror_mode": {
    "name": "ipython",
    "version": 3
   },
   "file_extension": ".py",
   "mimetype": "text/x-python",
   "name": "python",
   "nbconvert_exporter": "python",
   "pygments_lexer": "ipython3",
   "version": "3.8.7"
  }
 },
 "nbformat": 4,
 "nbformat_minor": 4
}
