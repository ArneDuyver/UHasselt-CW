{
 "cells": [
  {
   "cell_type": "markdown",
   "metadata": {},
   "source": [
    "# NORMAL AES"
   ]
  },
  {
   "cell_type": "code",
   "execution_count": null,
   "metadata": {},
   "outputs": [],
   "source": [
    "proj = cw.create_project(\"AES_normal\", overwrite=True)"
   ]
  },
  {
   "cell_type": "code",
   "execution_count": null,
   "metadata": {},
   "outputs": [],
   "source": [
    "%run \"AES_NORMAL.ipynb\""
   ]
  },
  {
   "cell_type": "code",
   "execution_count": null,
   "metadata": {},
   "outputs": [],
   "source": [
    "from tqdm import tnrange\n",
    "import numpy as np\n",
    "import time\n",
    "\n",
    "ktp = cw.ktp.Basic()\n",
    "trace_array = []\n",
    "textin_array = []\n",
    "\n",
    "\n",
    "\n",
    "\n",
    "N = 50\n",
    "for i in tnrange(N, desc='Capturing traces'):\n",
    "    key, text = ktp.next()\n",
    "    trace = cw.capture_trace(scope, target, text, key)\n",
    "    if not trace:\n",
    "        continue\n",
    "    \n",
    "    proj.traces.append(trace)"
   ]
  },
  {
   "cell_type": "code",
   "execution_count": null,
   "metadata": {},
   "outputs": [],
   "source": [
    "print(key)"
   ]
  },
  {
   "cell_type": "code",
   "execution_count": null,
   "metadata": {},
   "outputs": [],
   "source": [
    "# we can access wave, textin, etc as a whole with proj.traces\n",
    "for trace in proj.traces:\n",
    "    print(trace.wave[0], trace.textin, trace.textout, trace.key)\n",
    "\n",
    "# can also access individually with proj.waves, proj.textins, etc.\n",
    "for wave in proj.waves:\n",
    "    print(wave[0])"
   ]
  },
  {
   "cell_type": "code",
   "execution_count": null,
   "metadata": {},
   "outputs": [],
   "source": [
    "import chipwhisperer.analyzer as cwa"
   ]
  },
  {
   "cell_type": "code",
   "execution_count": null,
   "metadata": {},
   "outputs": [],
   "source": [
    "leak_model = cwa.leakage_models.sbox_output"
   ]
  },
  {
   "cell_type": "code",
   "execution_count": null,
   "metadata": {},
   "outputs": [],
   "source": [
    "attack = cwa.cpa(proj, leak_model)"
   ]
  },
  {
   "cell_type": "code",
   "execution_count": null,
   "metadata": {},
   "outputs": [],
   "source": [
    "results = attack.run()"
   ]
  },
  {
   "cell_type": "code",
   "execution_count": null,
   "metadata": {},
   "outputs": [],
   "source": [
    "print(results)"
   ]
  },
  {
   "cell_type": "code",
   "execution_count": null,
   "metadata": {},
   "outputs": [],
   "source": [
    "import pandas as pd\n",
    "stat_data = results.find_maximums()\n",
    "df = pd.DataFrame(stat_data).transpose()\n",
    "print(df.head())"
   ]
  },
  {
   "cell_type": "code",
   "execution_count": null,
   "metadata": {},
   "outputs": [],
   "source": [
    "key = proj.keys[0]\n",
    "def format_stat(stat):\n",
    "    return str(\"{:02X}<br>{:.3f}\".format(stat[0], stat[2]))\n",
    "\n",
    "def color_corr_key(row):\n",
    "    global key\n",
    "    ret = [\"\"] * 16\n",
    "    for i,bnum in enumerate(row):\n",
    "        if bnum[0] == key[i]:\n",
    "            ret[i] = \"color: red\"\n",
    "        else:\n",
    "            ret[i] = \"\"\n",
    "    return ret\n",
    "\n",
    "df.head().style.format(format_stat).apply(color_corr_key, axis=1)"
   ]
  },
  {
   "cell_type": "code",
   "execution_count": null,
   "metadata": {},
   "outputs": [],
   "source": [
    "from IPython.display import clear_output\n",
    "import numpy as np\n",
    "        \n",
    "def stats_callback():\n",
    "    results = attack.results\n",
    "    results.set_known_key(key)\n",
    "    stat_data = results.find_maximums()\n",
    "    df = pd.DataFrame(stat_data).transpose()\n",
    "    clear_output(wait=True)\n",
    "    display(df.head().style.format(format_stat).apply(color_corr_key,axis=1))\n",
    "    \n",
    "results = attack.run(stats_callback, 10)"
   ]
  },
  {
   "cell_type": "code",
   "execution_count": null,
   "metadata": {},
   "outputs": [],
   "source": [
    "import chipwhisperer as cw\n",
    "cb = cwa.get_jupyter_callback(attack)\n",
    "results = attack.run(cb, 10)"
   ]
  },
  {
   "cell_type": "code",
   "execution_count": null,
   "metadata": {},
   "outputs": [],
   "source": [
    "scope.dis()\n",
    "target.dis()"
   ]
  }
 ],
 "metadata": {
  "kernelspec": {
   "display_name": "Python 3",
   "language": "python",
   "name": "python3"
  },
  "language_info": {
   "codemirror_mode": {
    "name": "ipython",
    "version": 3
   },
   "file_extension": ".py",
   "mimetype": "text/x-python",
   "name": "python",
   "nbconvert_exporter": "python",
   "pygments_lexer": "ipython3",
   "version": "3.8.7"
  }
 },
 "nbformat": 4,
 "nbformat_minor": 4
}
