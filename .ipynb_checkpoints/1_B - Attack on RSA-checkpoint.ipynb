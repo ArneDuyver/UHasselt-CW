{
 "cells": [
  {
   "cell_type": "markdown",
   "metadata": {},
   "source": [
    "# Attack on RSA\n",
    "In the following notebook we will firstly provide you with some basics of cryptography and more specific provide information about the RSA algorithm. Then we will use everything we have learned so far to perform a simple power analysis attack on a RSA encryption algorithm to retrieve the hidden key.\n",
    "\n",
    "**Goals:**\n",
    "* Learn basics of cryptograpgy (terminology, difference between symmetric and assymmetric)\n",
    "* Learn how RSA works \n",
    "* Use a simple power analysis attack (SPA) to retrieve the hidden key.\n",
    "\n",
    "#### Prerequisites\n",
    "- [x] *0_series* notebooks \n",
    "- [x] *1_A - Correlation between tasks being performed by the target and its power consumption* notebook"
   ]
  },
  {
   "cell_type": "markdown",
   "metadata": {},
   "source": [
    "## Cryptography basics\n",
    "\n",
    "Cryptography is used to protect information so that you can send this information to someone else and that no third party will be able to understand the information that is being send. **Plain text** is used to describe the unprotected information being send. **Encrypted text** is the same information but after the plain text has been **encrypted**. The encrypted text is most of the times just a series of characters or numbers. With good encryption someone who has obtained the encrypted text (and isn't supposed to have the text) will not be able to convert the encrypted text back to the plain text. The intended receiver of the information can convert the encrypted text back to plain text by **decrypting** the information. The **decrypted text** is the original plain text again which can be read by the receiver.\n",
    "\n",
    "But how are you able to encrypt and decrypt the information? There are two types of cryptography that are widely used: **symmetric cryptography** and **asymmetric cryptography**. We will firstly go over how symmetric cryptography works since it is a bit more straightforward to understand. \n",
    "\n",
    "### Symmetric encryption\n",
    "\n",
    "<img src=\"src/images/symmetric_crypto.png\" alt=\"Symmetric encryption diagram\" width=800>\n",
    "\n",
    "Let's say we have a woman named Alice and she wants to send a message to Bob over the internet. (see diagram above to follow along) Alice does not want anyone else but Bob to be able to read the message, so she will encrypt the message. To encrypt the message Alice uses a secret key. In order for Bob to be able to decrypt the message he needs to have **the same** secret key. This is called symmetric cryptography because you use the same key to encrypt and decrypt the message. (How Alice and Bob are able to have the same secret key will be discussed later) It is important to note that the plain text is never send over the internet where other people can get their hands on it. \n",
    "\n",
    "### Asymmetric encryption\n",
    "\n",
    "<img src=\"src/images/asymmetric_crypto.png\" alt=\"Asymmetric encryption diagram\" width=800>\n",
    "\n",
    "Now, let's see how Alice can send a message to Bob using asymmetric encryption. (You can again follow along in the diagram above) The use this type of encryption Bob needs to have two keys in order for Alice to send him a message. Bob has a **public key** which he broadcasts to everyone on the internet. Bob also has a **private key** that he <ins>doesn't share</ins> with anyone. Anyone who wants to send Bob a message now uses his public key to encrypt their message to Bob. As you can see Alice uses Bob's public key to encrypt her message. That encrypted message is then send to Bob over the internet. Bob receives the message and uses his own private key to decrypt the message.\n",
    "\n",
    "An important difference with symmetric cryptography is that even Alice won't be able to decrypt the message. But this was possible with symmetric cryptography since encrytion and decrytion used the same key. So if Bob wants to send a reply he needs to use Alice's public key and she will use her private key to decrypt the message.\n",
    "\n",
    "### Some extra info\n",
    "To perform the encryption and decryption a lot of the times mathematical formulas are used. In order to easily use these formulas, the plain text is presented as a number. Luckily text on a computer is nothing more than a big binary number. The keys that we have spoken of in the example are also just some binary numbers (as you will see in the rest of the tutorials).\n",
    "\n",
    "You might still be wondering how Alice and Bob, with symmetric cryptography, can have the same key without anyone knowing. Well you know there is also a thing called asymmetric cryptography where we don't have this issue. Combined with the fact that asymmetric cryptography usually takes longer than symmetric cryptography, it is not hard to understand that in the real world Bob and Alice would firstly use asymmetric cryptography to send each other the secret key used for symmetric cryptography. Once they securely have the same key, they can use the faster symmetric cryptography to send large messages to each other.\n",
    "\n",
    "We have only showed you the tip of the iceberg here so if you want to learn more about cryptography a link to videolectures about the topic is provided here: [Videolectures of Christof Paar](https://www.youtube.com/channel/UC1usFRN4LCMcfIV7UjHNuQg/videos)\n",
    "\n",
    "### Implementation of cryptography\n",
    "The process of encrypting and decrypting text input can be programmed using software. You can also program a microcontroller for example on which you can set a key. When you send some input to the microcontroller it automatically encrypts the input using the stored key and returns the encrypted output. This is exactly how our target (the XMEGA 8-bit) works. By using a programmer we can program different kinds of encryption algorithms onto the device.\n",
    "\n",
    "### Are cryptosystems secure?\n",
    "Modern encryption algorithms are theoretically uncrackable. This means that without having the correct key you will never be able to convert the encrypted text back to plain text (with the current computing speed). However, the implementation of the algorithms in software and/or hardware can introduce weaknesses that we are going to exploit to find the key. Once we have the key we are able to decrypt every piece of encrypted text. What those weaknesses are, you will learn about in the following tutorials. There also exist countermeaseures that can be used in the implementation of the algorithm to prevent people from using these weaknesses to crack the algorithm. \n"
   ]
  },
  {
   "cell_type": "markdown",
   "metadata": {},
   "source": [
    "## RSA (Rivest - Shamir - Adleman) Cryptosystem\n",
    "The first widely used encryption standard we are going to crack is RSA. It is an assymetric cryptosystem. The algorithm itself is not that simple but an attack we can use to crack it is very simple. (note that this simple attack does not work for all implementations of the RSA algorithm) As mentioned before, RSA is an asymmetric type of crytography which means it uses a public key and a private key. On top of those two keys we also need a public number (the modulo) that is used in conjunction with both the public and private key to encrypt and decrypt messages.\n",
    "\n",
    "```\n",
    "    P : the binary code representing the plain text (the decrypted text will be the same of course)\n",
    "    C : the binary code representing the encrypted text (also called cipher text)\n",
    "    d : the private key (just a binary number)\n",
    "    e : the public key (just a binary number)\n",
    "    N : the modulo (just a binary number)\n",
    "    \n",
    "```\n",
    "To get the encrypted text, following mathematical formula is used:\n",
    "\n",
    "$C = P^e mod N$\n",
    "\n",
    "To decrypt the cypher text back into the plain text, the same mathematical formula is used but instead of using the public key (e) you use the private key (d):\n",
    "\n",
    "$P = C^d mod N$\n",
    "\n",
    "Keep in the back of your mind that all numbers and text are just binary numbers. To perform the operation above the following code *can* be used where the function has the following parameters (cypher text = C, private key = d, modulo = N):\n",
    "```\n",
    "    output = 1;\n",
    "    \n",
    "    for (every bit in d starting from MSB) {\n",
    "        \n",
    "        output = output * output mod N;     //perform a square operation\n",
    "        \n",
    "        if (bit is 1){                      //perform an extra operation\n",
    "            output = output * input mod N;  //perform a multiply operation\n",
    "        }\n",
    "    }\n",
    "    return output;\n",
    "```\n",
    "\n",
    "The output is then the plain text P.\n",
    "\n",
    "If you watch closely, you can see that inside the for-loop an extra instruction is performed everytime the bit of the private key is a `1`. As we have seen in earlier lessons this will show up on the power measurements trace. The start of each loop through the for-loop will have a distict form. We can then assume that the amount of time that elapses between two passes of the for-loop will be different when the bit is a `1` or a `0` since the target needs to perform an extra operation when it's a `1`. So if we analyse the power trace and measure the time between passes of the for-loop we can see if the bit of the secret key was a `1` or a `0`.\n",
    "Congratulations you just found someone's **private key** by just looking at the power consumption of the target. \n",
    "\n",
    "Using external factors like *power consumption*, *electromagnetic radiation*, *clock pulses* ... to find the hidden key is the definition of a **Side Channel Analysis Attack**. Since we used a simple analysis of the power consumption to crack the code, this attack is called a **Simple Power Analysis** attack (SPA). \n",
    "\n",
    "* *In the supplemental reading you will find a link to two videos that work out a simple example of the RSA algorithm and also show the relationship between the public and private key*"
   ]
  },
  {
   "cell_type": "markdown",
   "metadata": {},
   "source": [
    "## Performing the attack\n",
    "Firstly we need to give the correct parameters. The firmware is already compiled so we can skip that step. Next, we setup the chipwhisperer board and program the target with the compiled code. (CW303 is an alias for the Chipwhisperer-lite XMEGA)"
   ]
  },
  {
   "cell_type": "code",
   "execution_count": null,
   "metadata": {},
   "outputs": [],
   "source": [
    "SCOPETYPE = 'OPENADC'\n",
    "PLATFORM = 'CWLITEXMEGA'\n",
    "CRYPTO_TARGET = 'AVRCRYPTOLIB'"
   ]
  },
  {
   "cell_type": "code",
   "execution_count": null,
   "metadata": {},
   "outputs": [],
   "source": [
    "%run \"Setup_Scripts/Setup_Generic.ipynb\""
   ]
  },
  {
   "cell_type": "markdown",
   "metadata": {},
   "source": [
    "Unfortunately we need to fix some source code of the RSA firmware before we can compile it. In the file `simpleserial-rsa.c` we need to comment out some lines of code in the `main` function as can be seen below:\n",
    "```C\n",
    "    #if SS_VER != SS_VER_2_0\n",
    "    //simpleserial_addcmd('1', 0,  sig_chunk_1);\n",
    "    //simpleserial_addcmd('2', 0,  sig_chunk_2);\n",
    "    #endif\n",
    "```\n",
    "You can open the file by clicking [here](http://localhost:8888/edit/chipwhisperer/hardware/victims/firmware/simpleserial-rsa/simpleserial-rsa.c) Don't forget to save the file before compiling by running the code block below."
   ]
  },
  {
   "cell_type": "code",
   "execution_count": null,
   "metadata": {},
   "outputs": [],
   "source": [
    "%%bash -s \"$PLATFORM\" \"$CRYPTO_TARGET\"\n",
    "cd ../../chipwhisperer/hardware/victims/firmware/simpleserial-rsa\n",
    "make PLATFORM=$1 CRYPTO_TARGET='AVRCRYPTOLIB'"
   ]
  },
  {
   "cell_type": "code",
   "execution_count": null,
   "metadata": {},
   "outputs": [],
   "source": [
    "cw.program_target(scope, prog, '../../chipwhisperer/hardware/victims/firmware/simpleserial-rsa/simpleserial-rsa-CWLITEXMEGA.hex')"
   ]
  },
  {
   "cell_type": "markdown",
   "metadata": {},
   "source": [
    "### Communicating with target\n",
    "The target board we are using (XMEGA) comes with some limitations regarding the RSA algorithm. We can't set the keys for the encryption that the microcontroller will perform. Instead the text we sent to the target will be used as the plain text as well as the encryption key itself. So sending `0xB04` (hexcode B04) to the target will mean that `0xB04` is the plain text as well as the key (which will be the exponent). Furthermore the target will only 'encrypt' the message. But as we saw earlier 'encrypting' and 'decrypting' with RSA is the same exact series of operations. The only difference being the key used. We can thus look at the text we sent to the target as the cypher text and look at the key as the private key we want to find. \n",
    "\n",
    "Another limitation is the length of our trace array. We will only capture 24000 measurement points. If our key is too long we won't be able to measure all passes of the for-loop. To work around this we are going to use a short key. To tell the target we are only using an 16-bit long key, we will let all leading bits of the 12-bit key be `0`'s. (Since our key is our plain text and vice versa our plain text will also just be 12-bits long).\n",
    "\n",
    "The final limitation is that the target will perform the encryption internally, but it won't send back the result. So the only way we can see if it really is performming as aspected is to send two different inputs to the target, capture the traces and analyzing the results.\n",
    "\n",
    "#### Forming a hypothesis\n",
    "The texts we will send to the device are `0xB0F` as text1 and `0xB04` as text2. \n",
    "```\n",
    "    0xB 0F = 0b1011 0000 0111\n",
    "    0xB 04 = 0b1011 0000 0100\n",
    "```\n",
    "Let's try to make some assumptions of what the traces will look like. Since the first 8 bits of the key are the same we expect to see the same trace shape at the start. We can also expect to see 12 distinct shapes that coincides swith the 12 rounds through the for-loop since both keys consist of 12 bits. Lastly we can predict that the total 'time' of the for-loop of the first text will be longer than the second because the first key has more `1`'s. And we already saw that processing a `1` contains an extra operation, which means it takes longer. \n",
    "#### Testing our hypothesis\n",
    "With the following code block below we will send our plain text/key two times and plot the traces of both on top of each other using different colors:"
   ]
  },
  {
   "cell_type": "code",
   "execution_count": null,
   "metadata": {},
   "outputs": [],
   "source": [
    "# some CW setup for RSA\n",
    "scope.clock.adc_src = \"clkgen_x1\"\n",
    "scope.adc.samples = 24000 # to capture enough data we will take 24000 measurements per trace\n",
    "\n",
    "%matplotlib notebook\n",
    "import matplotlib.pylab as plt\n",
    "\n",
    "def capture_RSA_trace(scope, target, text):\n",
    "    # arm the CW scope to start recording power consumption\n",
    "    scope.arm()\n",
    "    # send the input text to the target\n",
    "    target.simpleserial_write('p', text)\n",
    "    # capture a power measurement\n",
    "    ret = scope.capture()\n",
    "    if ret:\n",
    "        return None\n",
    "    target.simpleserial_wait_ack()\n",
    "    # all 24000 traces are collected\n",
    "    \n",
    "    # return the array of power measurements\n",
    "    return scope.get_last_trace()\n",
    "\n",
    "text1 = bytearray([0, 0, 0, 0, 0, 0, 0, 0, 0, 0, 0, 0, 0, 0, 0x0B, 0x0F])\n",
    "# 0xB0F = 0b1011 0000 1111\n",
    "trace1 = capture_RSA_trace(scope, target, text1)\n",
    "plt.plot(trace1, 'b')\n",
    "\n",
    "text2 = bytearray([0, 0, 0, 0, 0, 0, 0, 0, 0, 0, 0, 0, 0, 0, 0x0B, 0x04])\n",
    "# 0xB04 = 0b1011 0000 0100\n",
    "trace2 = capture_RSA_trace(scope, target, text2)\n",
    "plt.plot(trace2, 'r')"
   ]
  },
  {
   "cell_type": "markdown",
   "metadata": {},
   "source": [
    "#### Drawing conclusions\n",
    "In the plot above the trace of text1 is plotted in blue and the trace of text2 in red. We can clearly see a sequence repeating about 12 times and that the red and blue trace are indentical in the beginning. We also see the repeating pattern of the red trace stops sooner. So are hypotheses seem to be confirmed.\n",
    "\n",
    "### Building up the attack\n",
    "For the attack we are going to analyse the trace of text2. Next code block will show you the traces of text2 seperately:"
   ]
  },
  {
   "cell_type": "code",
   "execution_count": null,
   "metadata": {},
   "outputs": [],
   "source": [
    "%matplotlib notebook\n",
    "trace = trace2\n",
    "plt.figure()\n",
    "plt.plot(trace, 'r')\n",
    "plt.show()"
   ]
  },
  {
   "cell_type": "markdown",
   "metadata": {},
   "source": [
    "As we mentioned earlier we must use this trace to measure the time between each pass through the for-loop. Those times can be put into two categories: long and short. \n",
    "\n",
    "In order to do so, let's first try to identify which part of the trace signals the start of a for loop. In other words, look at the trace and determine a `beginning_index` and an `ending_index` that creates a subarray of the trace containing a distinct part of the for-loop (a series of measurements that returns each pass through the loop). Write the code in the textblock below to create that subarray and call the variable `signature`:"
   ]
  },
  {
   "cell_type": "code",
   "execution_count": null,
   "metadata": {},
   "outputs": [],
   "source": [
    "# write your code below this line:\n",
    "###BEGIN SOLUTION###\n",
    "start_index = 7000\n",
    "end_index = 7300\n",
    "signature = trace[start_index:end_index]\n",
    "###END SOLUTION###"
   ]
  },
  {
   "cell_type": "markdown",
   "metadata": {},
   "source": [
    "The following step is to compare this subarray to every other subarray of the same length in the trace. If the comparison is good enough we keep the index where the match occurred since this signals the start of a pass through the for-loop. If we took the correct `signature` array we should find 12 matches. Now we must ask ourselves an important question: how can we compare two array's to find out how identical they are?\n",
    "\n",
    "#### Sum of Absolute Differences\n",
    "\n",
    "To do this we are going to calculate the **sum of absolute differences** (SAD). To calculate this, we calculate the difference between each value at the same index and store the result in an array at the corresponding index. Next we take the absolute value of everything in the new array (otherwise positive and negative differences will cancel each other out). Lastly we compute the total sum of the array and this will give us a numerical value of the comparison between the arrays. The lower the SAD value, the more two arrays are identical. Let's use this technique on a quick example\n",
    "```\n",
    "    original_array         = [3,8,4]\n",
    "    array_to_compare_to_1  = [3,7,4]\n",
    "    array_to_compare_to_2  = [5,7,2]\n",
    "    \n",
    "    SAD_original_and_1 = |3-3| + |8-7| + |4-4| = 1\n",
    "    SAD_original_and_2 = |3-5| + |8-7| + |4-5| = |-2| + |1| + |2| = 5\n",
    "    \n",
    "    Conclusion: the original array is more identical to array_1 than array_2.\n",
    "    \n",
    "```\n",
    "In the following code block try to complete the code for the `SAD` function that takes two arrays (of the same length) and returns their SAD value. Use that function on the example above to test if your code works:"
   ]
  },
  {
   "cell_type": "code",
   "execution_count": null,
   "metadata": {},
   "outputs": [],
   "source": [
    "import numpy as np\n",
    "\n",
    "def SAD(array1, array2):\n",
    "    # Write your code here\n",
    "    ###BEGIN SOLUTION###\n",
    "    diff = array1-array2\n",
    "    return np.sum(abs(diff))\n",
    "    ###END SOLUTION###\n",
    "    \n",
    "original_array         = np.array([3,8,4])\n",
    "array_to_compare_to_1  = np.array([3,7,4])\n",
    "array_to_compare_to_2  = np.array([5,7,2])\n",
    "\n",
    "assert SAD(original_array, array_to_compare_to_1) == 1\n",
    "assert SAD(original_array, array_to_compare_to_2) == 5\n",
    "print(\"✔️ OK to continue!\")"
   ]
  },
  {
   "cell_type": "markdown",
   "metadata": {},
   "source": [
    "Well done! Now you need to write some code to let the `signature` array sweep over the original trace array. Calculate the SAD at each point and store the result into a new array called `sad_results`. So the value of `sad_result[0]` will be the SAD value of `signature` and `trace[0:len(signature)]`, the value of `sad_result[1]` will be the SAD value of `signature` and `trace[1:len(signature)+1]`, ... Make sure you stop in time: (Put this in another function that takes the `trace` array as the first parameter and the `signature` array as the second. Call the function `sad_sweep` and let it return the `sad_result` array)"
   ]
  },
  {
   "cell_type": "code",
   "execution_count": null,
   "metadata": {},
   "outputs": [],
   "source": [
    "def sad_sweep(trace,signature):\n",
    "    # Write your code below this line\n",
    "    \n",
    "    ###BEGIN SOLUTION###\n",
    "    sad_result = np.array([])\n",
    "    for i in range(len(trace)-len(signature)+1):\n",
    "        sad_value = SAD(signature, trace[i:i+len(signature)])\n",
    "        sad_result = np.append(sad_result,sad_value)\n",
    "    return sad_result\n",
    "    ###END SOLUTION###\n",
    "\n",
    "# The following assertion will test your code:\n",
    "example_trace = np.array([1,2,3,4,5,6])\n",
    "example_signature = np.array([3,4])\n",
    "example_result = np.array([4,2,0,2,4])\n",
    "for i in range(len(example_result)-1):\n",
    "    assert example_result[i] == sad_sweep(example_trace,example_signature)[i]\n",
    "print(\"✔️ OK to continue!\")"
   ]
  },
  {
   "cell_type": "markdown",
   "metadata": {},
   "source": [
    "To visualize a bit of what we are doing you can run the next block. The block creates an interactive plot with which you can sweep the signature array over the trace array and see the SAD value at each position."
   ]
  },
  {
   "cell_type": "code",
   "execution_count": null,
   "metadata": {},
   "outputs": [],
   "source": [
    "import ipywidgets as widgets\n",
    "from IPython.display import display\n",
    "%matplotlib inline\n",
    "\n",
    "@widgets.interact(offset=(0, len(trace)))\n",
    "def plotsad(offset=start_index):\n",
    "    plt.plot(trace, 'r')\n",
    "    plt.plot(range(offset, offset+len(signature)), signature, 'b', alpha=0.6)\n",
    "    plt.figure()\n",
    "    print(\"The SAD value at pos \"+str(offset)+\" is \"+str(SAD(signature, trace[offset:offset+len(signature)])))"
   ]
  },
  {
   "cell_type": "markdown",
   "metadata": {},
   "source": [
    "The next step is to plot all the values in the `sad_sweep` and if we did everything correctly we should see the plot dip to low values 12 times. These times should correspond to the 12 times the for-loop is executed:"
   ]
  },
  {
   "cell_type": "code",
   "execution_count": null,
   "metadata": {},
   "outputs": [],
   "source": [
    "%matplotlib notebook\n",
    "sad_sweep_results = sad_sweep(trace,signature)\n",
    "plt.figure()\n",
    "plt.plot(sad_sweep_results, 'b')\n",
    "plt.show()"
   ]
  },
  {
   "cell_type": "markdown",
   "metadata": {},
   "source": [
    "We are almost there. We can even see where the microcontroller is processing a `1` or a `0` already. To write code to deduce the proper bit automatically we will use a threshold value for the appropriate SAD value.\n",
    "Using the plot above we can choose a threshold value. We use this threshold to determine the position of a pass through the for-loop. Looking at the graph we clearly see 12 spikes below the value of 10. This will be our threshold. In the block below write code that loops through the array and when the value, at a certain index i, is smaller than the threshold we append that index to a new array (`positions`)."
   ]
  },
  {
   "cell_type": "code",
   "execution_count": null,
   "metadata": {},
   "outputs": [],
   "source": [
    "threshold = 10\n",
    "positions = np.array([])\n",
    "# insert your code below this line\n",
    "###BEGIN SOLUTION###\n",
    "for i in range(len(sad_sweep_results)-1):\n",
    "    if(sad_sweep_results[i] < threshold):\n",
    "        positions = np.append(positions,i)\n",
    "print(positions)\n",
    "###END SOLUTION###"
   ]
  },
  {
   "cell_type": "markdown",
   "metadata": {},
   "source": [
    "The next step is to measure the time between each point (the difference between 2 following values). We are going to store the results in an array called `intervals` and we will plot these times in a graph:"
   ]
  },
  {
   "cell_type": "code",
   "execution_count": null,
   "metadata": {},
   "outputs": [],
   "source": [
    "intervals = []\n",
    "for i in range(0, len(positions)-1):\n",
    "    interval = positions[i+1] - positions[i]\n",
    "    intervals.append(interval)\n",
    "    \n",
    "plt.figure()\n",
    "plt.plot(intervals, range(0, len(intervals)), 'or')\n",
    "plt.grid(True)\n",
    "plt.title('A Learned Comparison of RSA Execution Time')\n",
    "plt.ylabel('Processing Bit Number')\n",
    "plt.xlabel('Time Delta (based on SAD Match)')\n",
    "plt.show()"
   ]
  },
  {
   "cell_type": "markdown",
   "metadata": {},
   "source": [
    "You might ask yourself the question why there are only 11 points when we should be seeing 12 passes through the for-loop. This is because we can't measure the timing of the last pass through the for-loop since we use the 'beginning signature' of the next pass to determine the time this pass. But because there is no next pass through the for-loop the last time, we don't know its timing so we can't know the value of the bit. You can just try `0` and `1` and see which works best.\n",
    "\n",
    "For all other bits we can again use a threshold value to determine automatically if a bit was a `1` or a `0`. In our case, if an interval was smaller than 1400 it was a `0` and if it is larger it is a `1`."
   ]
  },
  {
   "cell_type": "code",
   "execution_count": null,
   "metadata": {},
   "outputs": [],
   "source": [
    "key = \"\"\n",
    "threshold2 = 800\n",
    "# Write your code below this line\n",
    "###BEGIN SOLUTION###\n",
    "#get the main body of the key\n",
    "\n",
    "for i in range(0, len(intervals)):\n",
    "    if intervals[i] > threshold2:\n",
    "        key += \"1\"\n",
    "    else:\n",
    "        key += \"0\"\n",
    "key += \"0\" # maybe this is not correct but it is only 1 bit. So if '0' doesn't work the right answer is '1'\n",
    "###END SOLUTION###\n",
    "print(key)\n",
    "print(\"I think the real key is : \" + hex(int(key,2)))"
   ]
  },
  {
   "cell_type": "markdown",
   "metadata": {},
   "source": [
    "## Wow, good job!\n",
    "the last thing to do is just compare our result against the actual text we sent to the target at the beginning. Hopefully it is the same. Good job! You have succesfully cracked the RSA code using a SPA attack.\n",
    "\n",
    "You can also try to crack some other values for the key by editing the bytearray of text2. Remember that the trace will change so you need to find a new `start_index` and `end_index` for the `signature` array if you want to perform a successful attack.\n",
    "\n",
    "You might think that this was too easy but if you implement an algorithm naively it can be vulnerable to this kind of 'simple' attacks. In the last couple of lessons we will learn how to take countermeasures against this attack though.\n",
    "\n",
    "## Clean up"
   ]
  },
  {
   "cell_type": "code",
   "execution_count": null,
   "metadata": {},
   "outputs": [],
   "source": [
    "scope.dis()\n",
    "target.dis()"
   ]
  },
  {
   "cell_type": "markdown",
   "metadata": {},
   "source": [
    "## Next step\n",
    "Now you know or can:\n",
    "* the basics of cryptograpgy\n",
    "* what the RSA cryptosystem is\n",
    "* how to crack RSA using SPA\n",
    "* capture powermeasurements with the chipwhisperer into a list\n",
    "\n",
    "Next on the menu is AES, a symmetric cryptosystem.\n",
    "\n",
    "**Next notebook click here: [2_A - DPA on AES cryptosystem.ipynb](./2_A%20-%20DPA%20on%20AES%20cryptosystem.ipynb)**\n",
    "\n",
    "### Supplemental Reading\n",
    "* Calculating of a simple example of the RSA cryptosystem and explanation of the relation between public and private key: [Part 1](https://www.youtube.com/watch?v=4zahvcJ9glg), [Part 2](https://www.youtube.com/watch?v=oOcTVTpUsPQ)"
   ]
  },
  {
   "cell_type": "code",
   "execution_count": null,
   "metadata": {},
   "outputs": [],
   "source": []
  }
 ],
 "metadata": {
  "kernelspec": {
   "display_name": "Python 3",
   "language": "python",
   "name": "python3"
  },
  "language_info": {
   "codemirror_mode": {
    "name": "ipython",
    "version": 3
   },
   "file_extension": ".py",
   "mimetype": "text/x-python",
   "name": "python",
   "nbconvert_exporter": "python",
   "pygments_lexer": "ipython3",
   "version": "3.8.7"
  }
 },
 "nbformat": 4,
 "nbformat_minor": 4
}
