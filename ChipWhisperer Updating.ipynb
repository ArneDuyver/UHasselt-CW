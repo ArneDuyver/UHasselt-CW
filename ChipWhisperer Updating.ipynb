{
 "cells": [
  {
   "cell_type": "markdown",
   "metadata": {},
   "source": [
    "# Update and revert changes\n",
    "In this notebook you will find codeblocks you can run to update to the latest Chipwhisperer software, get the latest version of the UHasselt tutorial and how to save/revert your own changes\n",
    "\n",
    "#### Prerequisites\n",
    "- [x] *START_HERE* notebook\n",
    "- [x] *0_A - Introduction to Jupyter Notebooks* notebook\n",
    "- [x] basic knowledge over bash and git commands (to learn more, see the supplemental reading section down below)\n",
    "\n",
    "### Updating to the latest Chipwhisperer software\n",
    "\n",
    "The latest version of the chipwhisperer software is held in a GIT repo at [https://www.github.com/newaetech/chipwhisperer](https://www.github.com/newaetech/chipwhisperer). A clone of this repository already resides in this VM at the following location `../../chipwhisperer`. To pull the latest version of the repo we change to the correct directory and will first need to revert any changes we might have made to the files using the `git checkout` command. When all our chenges are reverted to the last official commit state of the repository we can pull possible new changes using the `git pull` command.\n",
    "\n",
    "Run the code block below to let the notebook do the work for you:"
   ]
  },
  {
   "cell_type": "code",
   "execution_count": null,
   "metadata": {},
   "outputs": [],
   "source": [
    "%%bash\n",
    "cd ../../chipwhisperer/\n",
    "git checkout .\n",
    "git pull"
   ]
  },
  {
   "cell_type": "markdown",
   "metadata": {},
   "source": [
    "### Update to the latest version of the UHasselt tutorials\n",
    "\n"
   ]
  },
  {
   "cell_type": "code",
   "execution_count": null,
   "metadata": {},
   "outputs": [],
   "source": [
    "%%bash\n",
    "git checkout .\n",
    "git pull"
   ]
  },
  {
   "cell_type": "markdown",
   "metadata": {},
   "source": [
    "### Saving/reverting your own changes\n",
    "#### - all files\n",
    "#### - specific files \n",
    "df"
   ]
  },
  {
   "cell_type": "markdown",
   "metadata": {},
   "source": [
    "### Supplemental Reading\n",
    "* [Bash beginners guide](https://tldp.org/LDP/Bash-Beginners-Guide/html/index.html)\n",
    "* [Git documentation](https://git-scm.com/doc)"
   ]
  },
  {
   "cell_type": "code",
   "execution_count": null,
   "metadata": {},
   "outputs": [],
   "source": []
  }
 ],
 "metadata": {
  "kernelspec": {
   "display_name": "Python 3",
   "language": "python",
   "name": "python3"
  },
  "language_info": {
   "codemirror_mode": {
    "name": "ipython",
    "version": 3
   },
   "file_extension": ".py",
   "mimetype": "text/x-python",
   "name": "python",
   "nbconvert_exporter": "python",
   "pygments_lexer": "ipython3",
   "version": "3.8.7"
  }
 },
 "nbformat": 4,
 "nbformat_minor": 2
}
